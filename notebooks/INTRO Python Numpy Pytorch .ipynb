{
 "cells": [
  {
   "cell_type": "markdown",
   "metadata": {},
   "source": [
    "# Introduction\n",
    "Python is an interpreted object-oriented, high-level programming language with dynamic semantics. Some features include:\n",
    "* Open source: python and its libraries are open source with flexible licenses.\n",
    "* Interpreted: the CPython implementation is an interpreter for the language that translates python code at runtime to executable byte code.\n",
    "* Multiparadigm: it supports different programming and implementation paradigms, such as object orientation and imperative, functional, or procedural programming.\n",
    "* Multipurpose: it can be used for rapid prototyping and development as well as for building large applications; it can be used for low-level systems operations as well as for high-level analytics tasks.\n",
    "* Cross-platform: it is available for the most important operation systems, such as Windows, Linux and macOS.\n",
    "* Garbage collection: it has automated garbage collection, avoiding the need for the programmer to manage memory.\n"
   ]
  },
  {
   "cell_type": "code",
   "execution_count": 1,
   "metadata": {},
   "outputs": [
    {
     "name": "stdout",
     "output_type": "stream",
     "text": [
      "The Zen of Python, by Tim Peters\n",
      "\n",
      "Beautiful is better than ugly.\n",
      "Explicit is better than implicit.\n",
      "Simple is better than complex.\n",
      "Complex is better than complicated.\n",
      "Flat is better than nested.\n",
      "Sparse is better than dense.\n",
      "Readability counts.\n",
      "Special cases aren't special enough to break the rules.\n",
      "Although practicality beats purity.\n",
      "Errors should never pass silently.\n",
      "Unless explicitly silenced.\n",
      "In the face of ambiguity, refuse the temptation to guess.\n",
      "There should be one-- and preferably only one --obvious way to do it.\n",
      "Although that way may not be obvious at first unless you're Dutch.\n",
      "Now is better than never.\n",
      "Although never is often better than *right* now.\n",
      "If the implementation is hard to explain, it's a bad idea.\n",
      "If the implementation is easy to explain, it may be a good idea.\n",
      "Namespaces are one honking great idea -- let's do more of those!\n"
     ]
    }
   ],
   "source": [
    "import this"
   ]
  },
  {
   "cell_type": "markdown",
   "metadata": {},
   "source": [
    "## The Scientific Stack\n",
    "* ### NumPy\n",
    "NumPy provides a multidimensional array object to store homogeneous or\n",
    "heterogeneous data; it also provides optimized functions/methods to operate\n",
    "on this array object.\n",
    "\n",
    "* ### SciPy\n",
    "SciPy is a collection of subpackages and functions implementing important\n",
    "standard functionality often needed in science or finance; for example, one\n",
    "finds functions for cubic splines interpolation as well as for numerical\n",
    "integration.\n",
    "* ### matplotlib\n",
    "This is the most popular plotting and visualization package for Python,\n",
    "providing both 2D and 3D visualization capabilities.\n",
    "* ### pandas\n",
    "pandas builds on NumPy and provides richer classes for the management and\n",
    "analysis of time series and tabular data; it is tightly integrated with\n",
    "matplotlib for plotting and PyTables for data storage and retrieval.\n",
    "* ### scikit-learn\n",
    "scikit-learn is a popular machine learning (ML) package that provides a\n",
    "unified application programming interface (API) for many different ML\n",
    "algorithms, such as for estimation, classification, or clustering.\n",
    "* ### PyTables\n",
    "PyTables is a popular wrapper for the HDF5 data storage package; it is a\n",
    "package to implement optimized, disk-based I/O operations based on a\n",
    "hierarchical database/file format."
   ]
  },
  {
   "cell_type": "markdown",
   "metadata": {},
   "source": [
    "# Working machine learning with pipelines\n",
    "\n",
    "***mlflow***: \n",
    "\n",
    "MLflow is an open source platform for managing the end-to-end machine learning lifecycle. It tackles three primary functions:\n",
    "\n",
    "* Tracking experiments to record and compare parameters and results (MLflow Tracking).\n",
    "\n",
    "* Packaging ML code in a reusable, reproducible form in order to share with other data scientists or transfer to production (MLflow Projects).\n",
    "\n",
    "* Managing and deploying models from a variety of ML libraries to a variety of model serving and inference platforms (MLflow Models).\n",
    "\n",
    "MLflow is library-agnostic. You can use it with any machine learning library, and in any programming language, since all functions are accessible through a REST API and CLI. For convenience, the project also includes a Python API, R API, and Java API.\n",
    "\n",
    "https://mlflow.org/docs/latest/index.html\n",
    "\n",
    "\n",
    "***kubeflow*** :\n",
    "\n",
    "The Kubeflow project is dedicated to making deployments of machine learning (ML) workflows on Kubernetes simple, portable and scalable. Our goal is not to recreate other services, but to provide a straightforward way to deploy best-of-breed open-source systems for ML to diverse infrastructures. Anywhere you are running Kubernetes, you should be able to run Kubeflow.\n",
    "\n",
    "Getting started with Kub\n",
    "https://www.kubeflow.org/docs/about/kubeflow/\n",
    "\n",
    "\n",
    "***TFX***:\n",
    "\n",
    "TensorFlow Extended (TFX) is an end-to-end platform for deploying production ML pipelines\n",
    "When you’re ready to move your models from research to production, use TFX to create and manage a production pipeline.\n",
    "\n",
    "https://www.tensorflow.org/tfx/tutorials/tfx/components"
   ]
  },
  {
   "cell_type": "markdown",
   "metadata": {},
   "source": [
    "# An example on how python can be used to evaluate a (European) option\n",
    "First som mathematical notation\n",
    "* inital stock price $S_0 = 100$\n",
    "* strike price $K = 105 $\n",
    "* time to maturity $T = 1$ year\n",
    "* constant riskless short rate $r = 0.05$\n",
    "* volatility $\\sigma = 0.2$\n",
    "Then the Black-Scholes model is given by, where $z$ is a random normaly distributed variable\n",
    "<br>\n",
    "$S_t = S_0 \\exp\\big((r - \\frac{1}{2}\\sigma^2 )T + \\sigma \\sqrt(T)z\\big)$\n",
    "<br/>"
   ]
  },
  {
   "cell_type": "markdown",
   "metadata": {},
   "source": [
    "1. Draw pseudo-random numbers , $z(i), i \\in \\{1,2, \\dots, I\\}$ from\n",
    "the standard normal distribution.\n",
    "2. Calculate all resulting index levels at maturity $S_T(i)$ for given $z(i)$ in the above\n",
    "Equation.\n",
    "3. Calculate all inner values of the option at maturity as $h_T(i) = \\max \\big(S_T(i) - K, 0\\big)$\n",
    ".\n",
    "4. Estimate the option present value via the Monte Carlo estimator as\n",
    "given in\n",
    "<br>\n",
    "$C_0 \\approx \\frac{1}{I}\\exp\\big(-rT\\big)\\sum_{I}h_T(i)$\n",
    "<br/>"
   ]
  },
  {
   "cell_type": "code",
   "execution_count": 2,
   "metadata": {},
   "outputs": [],
   "source": [
    "import math\n",
    "import numpy as np"
   ]
  },
  {
   "cell_type": "code",
   "execution_count": 3,
   "metadata": {},
   "outputs": [
    {
     "name": "stdout",
     "output_type": "stream",
     "text": [
      "Value of the European call option: 8.019\n"
     ]
    }
   ],
   "source": [
    "S0 = 100.\n",
    "K = 105.\n",
    "T = 1.0\n",
    "r = 0.05\n",
    "sigma = 0.2\n",
    "I = 100000\n",
    "np.random.seed(1000) # fix randomess, so you get same result when runing multiple times\n",
    "z = np.random.standard_normal(I)\n",
    "ST = S0 * np.exp((r - sigma ** 2/2) * T + sigma * math.sqrt(T) * z)\n",
    "hT = np.maximum(ST - K, 0)\n",
    "C0 = math.exp(-r * T) * np.mean(hT)\n",
    "print('Value of the European call option: {:5.3f}'.format(C0))"
   ]
  },
  {
   "cell_type": "code",
   "execution_count": 4,
   "metadata": {},
   "outputs": [],
   "source": [
    "from utils import PROJECT_DATA_DIR\n",
    "import pandas as pd\n",
    "import os\n",
    "import warnings\n",
    "warnings.filterwarnings(\"ignore\")"
   ]
  },
  {
   "cell_type": "code",
   "execution_count": 5,
   "metadata": {},
   "outputs": [],
   "source": [
    "price_cl = pd.read_csv(os.path.join(PROJECT_DATA_DIR, 'closing_prices.csv'))\n",
    "price_cl.set_index('date', inplace=True)"
   ]
  },
  {
   "cell_type": "code",
   "execution_count": 6,
   "metadata": {},
   "outputs": [
    {
     "data": {
      "text/html": [
       "<div>\n",
       "<style scoped>\n",
       "    .dataframe tbody tr th:only-of-type {\n",
       "        vertical-align: middle;\n",
       "    }\n",
       "\n",
       "    .dataframe tbody tr th {\n",
       "        vertical-align: top;\n",
       "    }\n",
       "\n",
       "    .dataframe thead th {\n",
       "        text-align: right;\n",
       "    }\n",
       "</style>\n",
       "<table border=\"1\" class=\"dataframe\">\n",
       "  <thead>\n",
       "    <tr style=\"text-align: right;\">\n",
       "      <th></th>\n",
       "      <th>AAPL</th>\n",
       "      <th>ABBV</th>\n",
       "      <th>ABT</th>\n",
       "      <th>AMGN</th>\n",
       "      <th>AMZN</th>\n",
       "      <th>AVGO</th>\n",
       "      <th>BA</th>\n",
       "      <th>BAC</th>\n",
       "      <th>BMY</th>\n",
       "      <th>C</th>\n",
       "      <th>...</th>\n",
       "      <th>PFE</th>\n",
       "      <th>PG</th>\n",
       "      <th>PM</th>\n",
       "      <th>T</th>\n",
       "      <th>UNH</th>\n",
       "      <th>V</th>\n",
       "      <th>VZ</th>\n",
       "      <th>WFC</th>\n",
       "      <th>WMT</th>\n",
       "      <th>XOM</th>\n",
       "    </tr>\n",
       "    <tr>\n",
       "      <th>date</th>\n",
       "      <th></th>\n",
       "      <th></th>\n",
       "      <th></th>\n",
       "      <th></th>\n",
       "      <th></th>\n",
       "      <th></th>\n",
       "      <th></th>\n",
       "      <th></th>\n",
       "      <th></th>\n",
       "      <th></th>\n",
       "      <th></th>\n",
       "      <th></th>\n",
       "      <th></th>\n",
       "      <th></th>\n",
       "      <th></th>\n",
       "      <th></th>\n",
       "      <th></th>\n",
       "      <th></th>\n",
       "      <th></th>\n",
       "      <th></th>\n",
       "      <th></th>\n",
       "    </tr>\n",
       "  </thead>\n",
       "  <tbody>\n",
       "    <tr>\n",
       "      <th>2010-01-04</th>\n",
       "      <td>27.294495</td>\n",
       "      <td>NaN</td>\n",
       "      <td>21.129273</td>\n",
       "      <td>49.792737</td>\n",
       "      <td>133.90</td>\n",
       "      <td>16.673423</td>\n",
       "      <td>45.640616</td>\n",
       "      <td>14.639460</td>\n",
       "      <td>19.648366</td>\n",
       "      <td>32.843185</td>\n",
       "      <td>...</td>\n",
       "      <td>13.934719</td>\n",
       "      <td>47.114847</td>\n",
       "      <td>34.709530</td>\n",
       "      <td>18.323770</td>\n",
       "      <td>27.878733</td>\n",
       "      <td>20.694802</td>\n",
       "      <td>20.828887</td>\n",
       "      <td>22.385830</td>\n",
       "      <td>43.935552</td>\n",
       "      <td>53.998112</td>\n",
       "    </tr>\n",
       "    <tr>\n",
       "      <th>2010-01-05</th>\n",
       "      <td>27.341684</td>\n",
       "      <td>NaN</td>\n",
       "      <td>20.958563</td>\n",
       "      <td>49.365427</td>\n",
       "      <td>134.69</td>\n",
       "      <td>16.797192</td>\n",
       "      <td>47.135432</td>\n",
       "      <td>15.115313</td>\n",
       "      <td>19.341720</td>\n",
       "      <td>34.098954</td>\n",
       "      <td>...</td>\n",
       "      <td>13.735967</td>\n",
       "      <td>47.130264</td>\n",
       "      <td>34.407096</td>\n",
       "      <td>18.234010</td>\n",
       "      <td>27.834524</td>\n",
       "      <td>20.457660</td>\n",
       "      <td>20.566022</td>\n",
       "      <td>23.000375</td>\n",
       "      <td>43.498060</td>\n",
       "      <td>54.208950</td>\n",
       "    </tr>\n",
       "    <tr>\n",
       "      <th>2010-01-06</th>\n",
       "      <td>26.906778</td>\n",
       "      <td>NaN</td>\n",
       "      <td>21.074956</td>\n",
       "      <td>48.994453</td>\n",
       "      <td>132.25</td>\n",
       "      <td>16.929801</td>\n",
       "      <td>48.565255</td>\n",
       "      <td>15.292591</td>\n",
       "      <td>19.334054</td>\n",
       "      <td>35.161528</td>\n",
       "      <td>...</td>\n",
       "      <td>13.691800</td>\n",
       "      <td>46.906716</td>\n",
       "      <td>34.407096</td>\n",
       "      <td>17.971143</td>\n",
       "      <td>28.108625</td>\n",
       "      <td>20.182950</td>\n",
       "      <td>20.274994</td>\n",
       "      <td>23.033151</td>\n",
       "      <td>43.400840</td>\n",
       "      <td>54.677481</td>\n",
       "    </tr>\n",
       "    <tr>\n",
       "      <th>2010-01-07</th>\n",
       "      <td>26.857038</td>\n",
       "      <td>NaN</td>\n",
       "      <td>21.249546</td>\n",
       "      <td>48.545833</td>\n",
       "      <td>130.00</td>\n",
       "      <td>16.823714</td>\n",
       "      <td>50.531263</td>\n",
       "      <td>15.796435</td>\n",
       "      <td>19.349386</td>\n",
       "      <td>35.258126</td>\n",
       "      <td>...</td>\n",
       "      <td>13.640272</td>\n",
       "      <td>46.652332</td>\n",
       "      <td>34.836130</td>\n",
       "      <td>17.769366</td>\n",
       "      <td>29.187345</td>\n",
       "      <td>20.370786</td>\n",
       "      <td>20.154309</td>\n",
       "      <td>23.868932</td>\n",
       "      <td>43.425145</td>\n",
       "      <td>54.505686</td>\n",
       "    </tr>\n",
       "    <tr>\n",
       "      <th>2010-01-08</th>\n",
       "      <td>27.035592</td>\n",
       "      <td>NaN</td>\n",
       "      <td>21.358180</td>\n",
       "      <td>48.977198</td>\n",
       "      <td>133.52</td>\n",
       "      <td>16.947483</td>\n",
       "      <td>50.043823</td>\n",
       "      <td>15.656478</td>\n",
       "      <td>19.027407</td>\n",
       "      <td>34.678540</td>\n",
       "      <td>...</td>\n",
       "      <td>13.750689</td>\n",
       "      <td>46.590664</td>\n",
       "      <td>34.646230</td>\n",
       "      <td>17.639188</td>\n",
       "      <td>28.913244</td>\n",
       "      <td>20.427137</td>\n",
       "      <td>20.167013</td>\n",
       "      <td>23.647696</td>\n",
       "      <td>43.206399</td>\n",
       "      <td>54.287039</td>\n",
       "    </tr>\n",
       "  </tbody>\n",
       "</table>\n",
       "<p>5 rows × 49 columns</p>\n",
       "</div>"
      ],
      "text/plain": [
       "                 AAPL  ABBV        ABT       AMGN    AMZN       AVGO  \\\n",
       "date                                                                   \n",
       "2010-01-04  27.294495   NaN  21.129273  49.792737  133.90  16.673423   \n",
       "2010-01-05  27.341684   NaN  20.958563  49.365427  134.69  16.797192   \n",
       "2010-01-06  26.906778   NaN  21.074956  48.994453  132.25  16.929801   \n",
       "2010-01-07  26.857038   NaN  21.249546  48.545833  130.00  16.823714   \n",
       "2010-01-08  27.035592   NaN  21.358180  48.977198  133.52  16.947483   \n",
       "\n",
       "                   BA        BAC        BMY          C  ...        PFE  \\\n",
       "date                                                    ...              \n",
       "2010-01-04  45.640616  14.639460  19.648366  32.843185  ...  13.934719   \n",
       "2010-01-05  47.135432  15.115313  19.341720  34.098954  ...  13.735967   \n",
       "2010-01-06  48.565255  15.292591  19.334054  35.161528  ...  13.691800   \n",
       "2010-01-07  50.531263  15.796435  19.349386  35.258126  ...  13.640272   \n",
       "2010-01-08  50.043823  15.656478  19.027407  34.678540  ...  13.750689   \n",
       "\n",
       "                   PG         PM          T        UNH          V         VZ  \\\n",
       "date                                                                           \n",
       "2010-01-04  47.114847  34.709530  18.323770  27.878733  20.694802  20.828887   \n",
       "2010-01-05  47.130264  34.407096  18.234010  27.834524  20.457660  20.566022   \n",
       "2010-01-06  46.906716  34.407096  17.971143  28.108625  20.182950  20.274994   \n",
       "2010-01-07  46.652332  34.836130  17.769366  29.187345  20.370786  20.154309   \n",
       "2010-01-08  46.590664  34.646230  17.639188  28.913244  20.427137  20.167013   \n",
       "\n",
       "                  WFC        WMT        XOM  \n",
       "date                                         \n",
       "2010-01-04  22.385830  43.935552  53.998112  \n",
       "2010-01-05  23.000375  43.498060  54.208950  \n",
       "2010-01-06  23.033151  43.400840  54.677481  \n",
       "2010-01-07  23.868932  43.425145  54.505686  \n",
       "2010-01-08  23.647696  43.206399  54.287039  \n",
       "\n",
       "[5 rows x 49 columns]"
      ]
     },
     "execution_count": 6,
     "metadata": {},
     "output_type": "execute_result"
    }
   ],
   "source": [
    "price_cl.head()"
   ]
  },
  {
   "cell_type": "code",
   "execution_count": 7,
   "metadata": {},
   "outputs": [],
   "source": [
    "data = pd.DataFrame(price_cl['AAPL'])\n",
    "data['Returns'] = np.log(data/data.shift())\n",
    "data.dropna(inplace=True)\n",
    "lags = 6\n",
    "\n",
    "cols = []\n",
    "for lag in range(1, lags + 1):\n",
    "    col = 'lag_{}'.format(lag)\n",
    "    data[col] = np.sign(data['Returns'].shift(lag))\n",
    "    cols.append(col)\n",
    "data.dropna(inplace=True)"
   ]
  },
  {
   "cell_type": "code",
   "execution_count": 8,
   "metadata": {},
   "outputs": [
    {
     "data": {
      "text/html": [
       "<div>\n",
       "<style scoped>\n",
       "    .dataframe tbody tr th:only-of-type {\n",
       "        vertical-align: middle;\n",
       "    }\n",
       "\n",
       "    .dataframe tbody tr th {\n",
       "        vertical-align: top;\n",
       "    }\n",
       "\n",
       "    .dataframe thead th {\n",
       "        text-align: right;\n",
       "    }\n",
       "</style>\n",
       "<table border=\"1\" class=\"dataframe\">\n",
       "  <thead>\n",
       "    <tr style=\"text-align: right;\">\n",
       "      <th></th>\n",
       "      <th>AAPL</th>\n",
       "      <th>Returns</th>\n",
       "      <th>lag_1</th>\n",
       "      <th>lag_2</th>\n",
       "      <th>lag_3</th>\n",
       "      <th>lag_4</th>\n",
       "      <th>lag_5</th>\n",
       "      <th>lag_6</th>\n",
       "    </tr>\n",
       "    <tr>\n",
       "      <th>date</th>\n",
       "      <th></th>\n",
       "      <th></th>\n",
       "      <th></th>\n",
       "      <th></th>\n",
       "      <th></th>\n",
       "      <th></th>\n",
       "      <th></th>\n",
       "      <th></th>\n",
       "    </tr>\n",
       "  </thead>\n",
       "  <tbody>\n",
       "    <tr>\n",
       "      <th>2010-01-13</th>\n",
       "      <td>26.865966</td>\n",
       "      <td>0.014007</td>\n",
       "      <td>-1.0</td>\n",
       "      <td>-1.0</td>\n",
       "      <td>1.0</td>\n",
       "      <td>-1.0</td>\n",
       "      <td>-1.0</td>\n",
       "      <td>1.0</td>\n",
       "    </tr>\n",
       "    <tr>\n",
       "      <th>2010-01-14</th>\n",
       "      <td>26.710369</td>\n",
       "      <td>-0.005808</td>\n",
       "      <td>1.0</td>\n",
       "      <td>-1.0</td>\n",
       "      <td>-1.0</td>\n",
       "      <td>1.0</td>\n",
       "      <td>-1.0</td>\n",
       "      <td>-1.0</td>\n",
       "    </tr>\n",
       "    <tr>\n",
       "      <th>2010-01-15</th>\n",
       "      <td>26.263985</td>\n",
       "      <td>-0.016853</td>\n",
       "      <td>-1.0</td>\n",
       "      <td>1.0</td>\n",
       "      <td>-1.0</td>\n",
       "      <td>-1.0</td>\n",
       "      <td>1.0</td>\n",
       "      <td>-1.0</td>\n",
       "    </tr>\n",
       "    <tr>\n",
       "      <th>2010-01-19</th>\n",
       "      <td>27.425859</td>\n",
       "      <td>0.043288</td>\n",
       "      <td>-1.0</td>\n",
       "      <td>-1.0</td>\n",
       "      <td>1.0</td>\n",
       "      <td>-1.0</td>\n",
       "      <td>-1.0</td>\n",
       "      <td>1.0</td>\n",
       "    </tr>\n",
       "    <tr>\n",
       "      <th>2010-01-20</th>\n",
       "      <td>27.003070</td>\n",
       "      <td>-0.015536</td>\n",
       "      <td>1.0</td>\n",
       "      <td>-1.0</td>\n",
       "      <td>-1.0</td>\n",
       "      <td>1.0</td>\n",
       "      <td>-1.0</td>\n",
       "      <td>-1.0</td>\n",
       "    </tr>\n",
       "  </tbody>\n",
       "</table>\n",
       "</div>"
      ],
      "text/plain": [
       "                 AAPL   Returns  lag_1  lag_2  lag_3  lag_4  lag_5  lag_6\n",
       "date                                                                     \n",
       "2010-01-13  26.865966  0.014007   -1.0   -1.0    1.0   -1.0   -1.0    1.0\n",
       "2010-01-14  26.710369 -0.005808    1.0   -1.0   -1.0    1.0   -1.0   -1.0\n",
       "2010-01-15  26.263985 -0.016853   -1.0    1.0   -1.0   -1.0    1.0   -1.0\n",
       "2010-01-19  27.425859  0.043288   -1.0   -1.0    1.0   -1.0   -1.0    1.0\n",
       "2010-01-20  27.003070 -0.015536    1.0   -1.0   -1.0    1.0   -1.0   -1.0"
      ]
     },
     "execution_count": 8,
     "metadata": {},
     "output_type": "execute_result"
    }
   ],
   "source": [
    "data.head()"
   ]
  },
  {
   "cell_type": "markdown",
   "metadata": {},
   "source": [
    "### Machine learning: support vector machine\n",
    "Note, data is not splitted in training and test sets"
   ]
  },
  {
   "cell_type": "code",
   "execution_count": 9,
   "metadata": {},
   "outputs": [],
   "source": [
    "from sklearn.svm import SVC\n",
    "import matplotlib.pyplot as plt"
   ]
  },
  {
   "cell_type": "code",
   "execution_count": 10,
   "metadata": {},
   "outputs": [
    {
     "data": {
      "text/html": [
       "<iframe src=\"https://docs.scipy.org/doc/numpy/reference/generated/numpy.sign.html\" width=\"1100\" height=\"1000\"></iframe>\n"
      ],
      "text/plain": [
       "<IPython.core.display.HTML object>"
      ]
     },
     "metadata": {},
     "output_type": "display_data"
    }
   ],
   "source": [
    "%%html\n",
    "<iframe src=\"https://docs.scipy.org/doc/numpy/reference/generated/numpy.sign.html\" width=\"1100\" height=\"1000\"></iframe>"
   ]
  },
  {
   "cell_type": "code",
   "execution_count": 11,
   "metadata": {},
   "outputs": [
    {
     "data": {
      "text/plain": [
       "SVC(C=1.0, break_ties=False, cache_size=200, class_weight=None, coef0=0.0,\n",
       "    decision_function_shape='ovr', degree=3, gamma='auto', kernel='rbf',\n",
       "    max_iter=-1, probability=False, random_state=None, shrinking=True,\n",
       "    tol=0.001, verbose=False)"
      ]
     },
     "execution_count": 11,
     "metadata": {},
     "output_type": "execute_result"
    }
   ],
   "source": [
    "model = SVC(gamma='auto')\n",
    "X = data[cols]\n",
    "y = np.sign(data['Returns'])\n",
    "model.fit(X, y)"
   ]
  },
  {
   "cell_type": "code",
   "execution_count": 12,
   "metadata": {},
   "outputs": [
    {
     "data": {
      "image/png": "[encoded data removed]",
      "text/plain": [
       "<Figure size 720x432 with 1 Axes>"
      ]
     },
     "metadata": {
      "needs_background": "light"
     },
     "output_type": "display_data"
    }
   ],
   "source": [
    "data['Prediction'] = model.predict(X)\n",
    "data['Strategy'] = data['Prediction'] * data['Returns']\n",
    "data[['Returns', 'Strategy']].cumsum().apply(np.exp).plot(figsize=(10, 6))\n",
    "plt.show()"
   ]
  },
  {
   "cell_type": "code",
   "execution_count": null,
   "metadata": {},
   "outputs": [],
   "source": []
  }
 ],
 "metadata": {
  "kernelspec": {
   "display_name": "Python 3",
   "language": "python",
   "name": "python3"
  },
  "language_info": {
   "codemirror_mode": {
    "name": "ipython",
    "version": 3
   },
   "file_extension": ".py",
   "mimetype": "text/x-python",
   "name": "python",
   "nbconvert_exporter": "python",
   "pygments_lexer": "ipython3",
   "version": "3.8.5"
  }
 },
 "nbformat": 4,
 "nbformat_minor": 2
}
