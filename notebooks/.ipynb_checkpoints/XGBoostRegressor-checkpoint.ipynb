{
 "cells": [
  {
   "cell_type": "code",
   "execution_count": 4,
   "metadata": {},
   "outputs": [],
   "source": [
    "import pandas as pd\n",
    "import numpy as np\n",
    "import xgboost as xgb\n",
    "import sys, os\n",
    "scr_dir = os.path.join(os.getcwd(), os.pardir, 'src')\n",
    "sys.path.append(scr_dir)\n",
    "\n",
    "\n",
    "scr_dir = os.path.join(os.getcwd(), os.pardir, 'preprocessing')\n",
    "sys.path.append(scr_dir)\n",
    "\n",
    "\n",
    "from loader.load import TimeSeriesLoader\n",
    "# import warnings\n",
    "# warnings.filterwarnings('ignore')\n",
    "# import preprocessing\n",
    "# import importlib\n",
    "from preprocessing.preprocess import (\n",
    "    create_rolling_ts, \n",
    "    split_data, \n",
    "#     new_function\n",
    ")\n",
    "# import preprocessing.pt\n",
    "# from preprocessing.pt import (\n",
    "# #     create_rolling_ts, \n",
    "# #     split_data,\n",
    "#     flatten\n",
    "# )"
   ]
  },
  {
   "cell_type": "markdown",
   "metadata": {},
   "source": [
    "## Import data from archive"
   ]
  },
  {
   "cell_type": "code",
   "execution_count": null,
   "metadata": {},
   "outputs": [],
   "source": [
    "ROOT_PATH = 'C://Users/gilbe/Documents/aifi-bootcamp'\n",
    "df = pd.read_csv(f'{ROOT_PATH}/data/aapl.csv')\n",
    "df['Unnamed: 0'] = pd.to_datetime(df['Unnamed: 0'])\n",
    "df.set_index('Unnamed: 0', inplace=True)\n",
    "df.index.rename('Date', inplace=True)\n",
    "# df.rename(columns={'Unnamed: 0', 'Date'}, inplace=True)\n",
    "df.head()"
   ]
  },
  {
   "cell_type": "code",
   "execution_count": null,
   "metadata": {},
   "outputs": [],
   "source": [
    "df.hist(figsize=(10, 4));\n",
    "df.plot(figsize=(10, 4), subplots=True);"
   ]
  },
  {
   "cell_type": "markdown",
   "metadata": {},
   "source": [
    "# Create train-val-test"
   ]
  },
  {
   "cell_type": "code",
   "execution_count": null,
   "metadata": {},
   "outputs": [],
   "source": [
    "data_train, data_val, data_test = split_data(df[['4. close']], train_size=.75, valid_size=.125)\n",
    "\n",
    "\"\"\"    lookback=5, \n",
    "    return_target=True,\n",
    "    apply_datefeatures=True,\n",
    "    return_array=False,\"\"\"\n",
    "xtrain, ytrain = create_rolling_ts(input_data=data_train, lookback=30, return_target=True, apply_datefeatures=True)\n",
    "xval, yval = create_rolling_ts(input_data=data_val, lookback=30)\n",
    "xtest, ytest = create_rolling_ts(input_data=data_test, lookback=30)\n",
    "\n",
    "\n",
    "\n",
    "xtrain, ytrain = np.array(xtrain), np.array(ytrain)\n",
    "xval, yval = np.array(xval), np.array(yval)\n",
    "xtest, ytest = np.array(xtest), np.array(ytest)"
   ]
  },
  {
   "cell_type": "code",
   "execution_count": null,
   "metadata": {},
   "outputs": [],
   "source": [
    "xtrain.shape, ytrain.shape"
   ]
  },
  {
   "cell_type": "code",
   "execution_count": null,
   "metadata": {},
   "outputs": [],
   "source": [
    "xtrain.reshape(xtrain.shape[0], -1).shape, ytrain.reshape(ytrain.shape[0], -1).shape"
   ]
  },
  {
   "cell_type": "code",
   "execution_count": null,
   "metadata": {},
   "outputs": [],
   "source": [
    "xx = np.array(data_train)\n",
    "xx.shape, xx[:, :-1], xx[:, -1]"
   ]
  },
  {
   "cell_type": "code",
   "execution_count": null,
   "metadata": {},
   "outputs": [],
   "source": [
    "# xt, yt = train_test_split(data_train, 30)"
   ]
  },
  {
   "cell_type": "code",
   "execution_count": null,
   "metadata": {},
   "outputs": [],
   "source": [
    "regressor = xgb.XGBRegressor(\n",
    "    objective='reg:squarederror', \n",
    "    n_estimators=800, \n",
    "    max_depth=5\n",
    ")\n",
    "\n",
    "\n",
    "regressor.fit(xtrain.reshape(xtrain.shape[0], -1), ytrain.reshape(ytrain.shape[0], -1))\n"
   ]
  }
 ],
 "metadata": {
  "kernelspec": {
   "display_name": "Python 3",
   "language": "python",
   "name": "python3"
  },
  "language_info": {
   "codemirror_mode": {
    "name": "ipython",
    "version": 3
   },
   "file_extension": ".py",
   "mimetype": "text/x-python",
   "name": "python",
   "nbconvert_exporter": "python",
   "pygments_lexer": "ipython3",
   "version": "3.8.5"
  }
 },
 "nbformat": 4,
 "nbformat_minor": 4
}
