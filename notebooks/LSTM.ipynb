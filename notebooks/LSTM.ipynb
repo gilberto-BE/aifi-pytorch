{
 "cells": [
  {
   "cell_type": "code",
   "execution_count": 1,
   "metadata": {},
   "outputs": [],
   "source": [
    "import pandas as pd\n",
    "import numpy as np\n",
    "import xgboost as xgb\n",
    "import sys, os\n",
    "scr_dir = os.path.join(os.getcwd(), os.pardir, 'src')\n",
    "sys.path.append(scr_dir)\n",
    "\n",
    "\n",
    "from load import TimeSeriesLoader\n",
    "import warnings\n",
    "warnings.filterwarnings('ignore')\n",
    "# import preprocessing\n",
    "from preprocess import (\n",
    "    create_rolling_ts, \n",
    "    split_data, \n",
    "    flatten\n",
    ")\n",
    "\n",
    "from error_metrics import regression_metrics\n"
   ]
  },
  {
   "cell_type": "code",
   "execution_count": 2,
   "metadata": {},
   "outputs": [
    {
     "data": {
      "text/html": [
       "<div>\n",
       "<style scoped>\n",
       "    .dataframe tbody tr th:only-of-type {\n",
       "        vertical-align: middle;\n",
       "    }\n",
       "\n",
       "    .dataframe tbody tr th {\n",
       "        vertical-align: top;\n",
       "    }\n",
       "\n",
       "    .dataframe thead th {\n",
       "        text-align: right;\n",
       "    }\n",
       "</style>\n",
       "<table border=\"1\" class=\"dataframe\">\n",
       "  <thead>\n",
       "    <tr style=\"text-align: right;\">\n",
       "      <th></th>\n",
       "      <th>1. open</th>\n",
       "      <th>2. high</th>\n",
       "      <th>3. low</th>\n",
       "      <th>4. close</th>\n",
       "      <th>5. volume</th>\n",
       "    </tr>\n",
       "    <tr>\n",
       "      <th>Date</th>\n",
       "      <th></th>\n",
       "      <th></th>\n",
       "      <th></th>\n",
       "      <th></th>\n",
       "      <th></th>\n",
       "    </tr>\n",
       "  </thead>\n",
       "  <tbody>\n",
       "    <tr>\n",
       "      <th>2022-01-24 04:05:00</th>\n",
       "      <td>162.0632</td>\n",
       "      <td>162.9520</td>\n",
       "      <td>162.0632</td>\n",
       "      <td>162.6025</td>\n",
       "      <td>10936.0</td>\n",
       "    </tr>\n",
       "    <tr>\n",
       "      <th>2022-01-24 04:10:00</th>\n",
       "      <td>162.7423</td>\n",
       "      <td>162.9620</td>\n",
       "      <td>162.6225</td>\n",
       "      <td>162.9620</td>\n",
       "      <td>7705.0</td>\n",
       "    </tr>\n",
       "    <tr>\n",
       "      <th>2022-01-24 04:15:00</th>\n",
       "      <td>162.7922</td>\n",
       "      <td>162.7922</td>\n",
       "      <td>162.5925</td>\n",
       "      <td>162.7623</td>\n",
       "      <td>7305.0</td>\n",
       "    </tr>\n",
       "    <tr>\n",
       "      <th>2022-01-24 04:20:00</th>\n",
       "      <td>162.6924</td>\n",
       "      <td>162.7223</td>\n",
       "      <td>162.3928</td>\n",
       "      <td>162.4627</td>\n",
       "      <td>9290.0</td>\n",
       "    </tr>\n",
       "    <tr>\n",
       "      <th>2022-01-24 04:25:00</th>\n",
       "      <td>162.3129</td>\n",
       "      <td>162.4826</td>\n",
       "      <td>162.2729</td>\n",
       "      <td>162.4327</td>\n",
       "      <td>6117.0</td>\n",
       "    </tr>\n",
       "  </tbody>\n",
       "</table>\n",
       "</div>"
      ],
      "text/plain": [
       "                      1. open   2. high    3. low  4. close  5. volume\n",
       "Date                                                                  \n",
       "2022-01-24 04:05:00  162.0632  162.9520  162.0632  162.6025    10936.0\n",
       "2022-01-24 04:10:00  162.7423  162.9620  162.6225  162.9620     7705.0\n",
       "2022-01-24 04:15:00  162.7922  162.7922  162.5925  162.7623     7305.0\n",
       "2022-01-24 04:20:00  162.6924  162.7223  162.3928  162.4627     9290.0\n",
       "2022-01-24 04:25:00  162.3129  162.4826  162.2729  162.4327     6117.0"
      ]
     },
     "execution_count": 2,
     "metadata": {},
     "output_type": "execute_result"
    }
   ],
   "source": [
    "ROOT_PATH = 'C://Users/gilbe/Documents/aifi-bootcamp'\n",
    "df = pd.read_csv(f'{ROOT_PATH}/data/aapl.csv')\n",
    "df['Unnamed: 0'] = pd.to_datetime(df['Unnamed: 0'])\n",
    "df.set_index('Unnamed: 0', inplace=True)\n",
    "df.index.rename('Date', inplace=True)\n",
    "# df.rename(columns={'Unnamed: 0', 'Date'}, inplace=True)\n",
    "df.head()"
   ]
  },
  {
   "cell_type": "markdown",
   "metadata": {},
   "source": [
    "# Train test"
   ]
  },
  {
   "cell_type": "code",
   "execution_count": 3,
   "metadata": {},
   "outputs": [],
   "source": [
    "data_train, data_val, data_test = split_data(df[['4. close']], train_size=.75, valid_size=.125)\n",
    "\n",
    "xtrain, ytrain = create_rolling_ts(input_data=data_train, lookback=30, return_np_array=True)\n",
    "xval, yval = create_rolling_ts(input_data=data_val, lookback=30, return_np_array=True)\n",
    "xtest, ytest = create_rolling_ts(input_data=data_test, lookback=30, return_np_array=True)"
   ]
  },
  {
   "cell_type": "code",
   "execution_count": null,
   "metadata": {},
   "outputs": [],
   "source": []
  }
 ],
 "metadata": {
  "kernelspec": {
   "display_name": "Python 3",
   "language": "python",
   "name": "python3"
  },
  "language_info": {
   "codemirror_mode": {
    "name": "ipython",
    "version": 3
   },
   "file_extension": ".py",
   "mimetype": "text/x-python",
   "name": "python",
   "nbconvert_exporter": "python",
   "pygments_lexer": "ipython3",
   "version": "3.8.5"
  }
 },
 "nbformat": 4,
 "nbformat_minor": 4
}
