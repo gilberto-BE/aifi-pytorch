{
 "cells": [
  {
   "cell_type": "code",
   "execution_count": 1,
   "metadata": {},
   "outputs": [],
   "source": [
    "from pytorch_ray import train_mnist\n",
    "from ray import tune\n",
    "from ray.tune.schedulers import ASHAScheduler\n",
    "from torchvision import datasets, transforms\n",
    "import numpy as np"
   ]
  },
  {
   "cell_type": "code",
   "execution_count": 2,
   "metadata": {
    "scrolled": false
   },
   "outputs": [
    {
     "name": "stderr",
     "output_type": "stream",
     "text": [
      "2021-02-01 21:45:49,554\tINFO services.py:1090 -- View the Ray dashboard at \u001b[1m\u001b[32mhttp://127.0.0.1:8265\u001b[39m\u001b[22m\n",
      "2021-02-01 21:46:01,240\tWARNING function_runner.py:539 -- Function checkpointing is disabled. This may result in unexpected behavior when using checkpointing features or certain schedulers. To enable, set the train function arguments to be `func(config, checkpoint_dir=None)`.\n",
      "2021-02-01 21:46:01,336\tERROR syncer.py:63 -- Log sync requires rsync to be installed.\n"
     ]
    },
    {
     "data": {
      "text/html": [
       "== Status ==<br>Memory usage on this node: 16.3/31.9 GiB<br>Using AsyncHyperBand: num_stopped=0\n",
       "Bracket: Iter 64.000: None | Iter 16.000: None | Iter 4.000: None | Iter 1.000: None<br>Resources requested: 1/12 CPUs, 1/1 GPUs, 0.0/9.67 GiB heap, 0.0/3.32 GiB objects<br>Result logdir: C:\\Users\\Gilberto-BE\\ray_results\\train_mnist_2021-02-01_21-46-01<br>Number of trials: 1/20 (1 RUNNING)<br><table>\n",
       "<thead>\n",
       "<tr><th>Trial name             </th><th>status  </th><th>loc  </th><th style=\"text-align: right;\">         lr</th><th style=\"text-align: right;\">  momentum</th></tr>\n",
       "</thead>\n",
       "<tbody>\n",
       "<tr><td>train_mnist_7e741_00000</td><td>RUNNING </td><td>     </td><td style=\"text-align: right;\">0.000374364</td><td style=\"text-align: right;\">   0.40969</td></tr>\n",
       "</tbody>\n",
       "</table><br><br>"
      ],
      "text/plain": [
       "<IPython.core.display.HTML object>"
      ]
     },
     "metadata": {},
     "output_type": "display_data"
    },
    {
     "name": "stdout",
     "output_type": "stream",
     "text": [
      "Result for train_mnist_7e741_00000:\n",
      "  date: 2021-02-01_21-46-09\n",
      "  done: false\n",
      "  experiment_id: a235c7d5c2ca4fd48bebd16d254430ee\n",
      "  experiment_tag: 0_lr=0.00037436,momentum=0.40969\n",
      "  hostname: LAPTOP-C4PHJU11\n",
      "  iterations_since_restore: 1\n",
      "  mean_accuracy: 0.075\n",
      "  node_ip: 172.16.1.2\n",
      "  pid: 18232\n",
      "  time_since_restore: 5.651037216186523\n",
      "  time_this_iter_s: 5.651037216186523\n",
      "  time_total_s: 5.651037216186523\n",
      "  timestamp: 1612212369\n",
      "  timesteps_since_restore: 0\n",
      "  training_iteration: 1\n",
      "  trial_id: 7e741_00000\n",
      "  \n"
     ]
    },
    {
     "data": {
      "text/html": [
       "== Status ==<br>Memory usage on this node: 18.3/31.9 GiB<br>Using AsyncHyperBand: num_stopped=0\n",
       "Bracket: Iter 64.000: None | Iter 16.000: None | Iter 4.000: None | Iter 1.000: 0.075<br>Resources requested: 1/12 CPUs, 1/1 GPUs, 0.0/9.67 GiB heap, 0.0/3.32 GiB objects<br>Result logdir: C:\\Users\\Gilberto-BE\\ray_results\\train_mnist_2021-02-01_21-46-01<br>Number of trials: 2/20 (1 PENDING, 1 RUNNING)<br><table>\n",
       "<thead>\n",
       "<tr><th>Trial name             </th><th>status  </th><th>loc             </th><th style=\"text-align: right;\">         lr</th><th style=\"text-align: right;\">  momentum</th><th style=\"text-align: right;\">  acc</th><th style=\"text-align: right;\">  iter</th><th style=\"text-align: right;\">  total time (s)</th></tr>\n",
       "</thead>\n",
       "<tbody>\n",
       "<tr><td>train_mnist_7e741_00000</td><td>RUNNING </td><td>172.16.1.2:18232</td><td style=\"text-align: right;\">0.000374364</td><td style=\"text-align: right;\">  0.40969 </td><td style=\"text-align: right;\">0.075</td><td style=\"text-align: right;\">     1</td><td style=\"text-align: right;\">         5.65104</td></tr>\n",
       "<tr><td>train_mnist_7e741_00001</td><td>PENDING </td><td>                </td><td style=\"text-align: right;\">7.82379e-06</td><td style=\"text-align: right;\">  0.600244</td><td style=\"text-align: right;\">     </td><td style=\"text-align: right;\">      </td><td style=\"text-align: right;\">                </td></tr>\n",
       "</tbody>\n",
       "</table><br><br>"
      ],
      "text/plain": [
       "<IPython.core.display.HTML object>"
      ]
     },
     "metadata": {},
     "output_type": "display_data"
    },
    {
     "name": "stdout",
     "output_type": "stream",
     "text": [
      "Result for train_mnist_7e741_00001:\n",
      "  date: 2021-02-01_21-46-18\n",
      "  done: false\n",
      "  experiment_id: 9d98367de10d43268bb1db08fd08b4dd\n",
      "  experiment_tag: 1_lr=7.8238e-06,momentum=0.60024\n",
      "  hostname: LAPTOP-C4PHJU11\n",
      "  iterations_since_restore: 1\n",
      "  mean_accuracy: 0.075\n",
      "  node_ip: 172.16.1.2\n",
      "  pid: 19184\n",
      "  time_since_restore: 4.4019455909729\n",
      "  time_this_iter_s: 4.4019455909729\n",
      "  time_total_s: 4.4019455909729\n",
      "  timestamp: 1612212378\n",
      "  timesteps_since_restore: 0\n",
      "  training_iteration: 1\n",
      "  trial_id: 7e741_00001\n",
      "  \n"
     ]
    },
    {
     "data": {
      "text/html": [
       "== Status ==<br>Memory usage on this node: 18.3/31.9 GiB<br>Using AsyncHyperBand: num_stopped=0\n",
       "Bracket: Iter 64.000: None | Iter 16.000: None | Iter 4.000: 0.115625 | Iter 1.000: 0.075<br>Resources requested: 1/12 CPUs, 1/1 GPUs, 0.0/9.67 GiB heap, 0.0/3.32 GiB objects<br>Result logdir: C:\\Users\\Gilberto-BE\\ray_results\\train_mnist_2021-02-01_21-46-01<br>Number of trials: 3/20 (1 PENDING, 1 RUNNING, 1 TERMINATED)<br><table>\n",
       "<thead>\n",
       "<tr><th>Trial name             </th><th>status    </th><th>loc             </th><th style=\"text-align: right;\">         lr</th><th style=\"text-align: right;\">  momentum</th><th style=\"text-align: right;\">     acc</th><th style=\"text-align: right;\">  iter</th><th style=\"text-align: right;\">  total time (s)</th></tr>\n",
       "</thead>\n",
       "<tbody>\n",
       "<tr><td>train_mnist_7e741_00001</td><td>RUNNING   </td><td>172.16.1.2:19184</td><td style=\"text-align: right;\">7.82379e-06</td><td style=\"text-align: right;\">  0.600244</td><td style=\"text-align: right;\">0.075   </td><td style=\"text-align: right;\">     1</td><td style=\"text-align: right;\">         4.40195</td></tr>\n",
       "<tr><td>train_mnist_7e741_00002</td><td>PENDING   </td><td>                </td><td style=\"text-align: right;\">3.14944e-07</td><td style=\"text-align: right;\">  0.662429</td><td style=\"text-align: right;\">        </td><td style=\"text-align: right;\">      </td><td style=\"text-align: right;\">                </td></tr>\n",
       "<tr><td>train_mnist_7e741_00000</td><td>TERMINATED</td><td>                </td><td style=\"text-align: right;\">0.000374364</td><td style=\"text-align: right;\">  0.40969 </td><td style=\"text-align: right;\">0.115625</td><td style=\"text-align: right;\">    10</td><td style=\"text-align: right;\">         7.96004</td></tr>\n",
       "</tbody>\n",
       "</table><br><br>"
      ],
      "text/plain": [
       "<IPython.core.display.HTML object>"
      ]
     },
     "metadata": {},
     "output_type": "display_data"
    },
    {
     "name": "stdout",
     "output_type": "stream",
     "text": [
      "Result for train_mnist_7e741_00001:\n",
      "  date: 2021-02-01_21-46-19\n",
      "  done: true\n",
      "  experiment_id: 9d98367de10d43268bb1db08fd08b4dd\n",
      "  experiment_tag: 1_lr=7.8238e-06,momentum=0.60024\n",
      "  hostname: LAPTOP-C4PHJU11\n",
      "  iterations_since_restore: 4\n",
      "  mean_accuracy: 0.090625\n",
      "  node_ip: 172.16.1.2\n",
      "  pid: 19184\n",
      "  time_since_restore: 5.302943706512451\n",
      "  time_this_iter_s: 0.32999348640441895\n",
      "  time_total_s: 5.302943706512451\n",
      "  timestamp: 1612212379\n",
      "  timesteps_since_restore: 0\n",
      "  training_iteration: 4\n",
      "  trial_id: 7e741_00001\n",
      "  \n",
      "Result for train_mnist_7e741_00002:\n",
      "  date: 2021-02-01_21-46-26\n",
      "  done: false\n",
      "  experiment_id: 1150e5534c07447cbe0d9de119fac85b\n",
      "  experiment_tag: 2_lr=3.1494e-07,momentum=0.66243\n",
      "  hostname: LAPTOP-C4PHJU11\n",
      "  iterations_since_restore: 1\n",
      "  mean_accuracy: 0.078125\n",
      "  node_ip: 172.16.1.2\n",
      "  pid: 7276\n",
      "  time_since_restore: 4.382029294967651\n",
      "  time_this_iter_s: 4.382029294967651\n",
      "  time_total_s: 4.382029294967651\n",
      "  timestamp: 1612212386\n",
      "  timesteps_since_restore: 0\n",
      "  training_iteration: 1\n",
      "  trial_id: 7e741_00002\n",
      "  \n"
     ]
    },
    {
     "data": {
      "text/html": [
       "== Status ==<br>Memory usage on this node: 18.2/31.9 GiB<br>Using AsyncHyperBand: num_stopped=1\n",
       "Bracket: Iter 64.000: None | Iter 16.000: None | Iter 4.000: 0.10937500000000001 | Iter 1.000: 0.0765625<br>Resources requested: 1/12 CPUs, 1/1 GPUs, 0.0/9.67 GiB heap, 0.0/3.32 GiB objects<br>Result logdir: C:\\Users\\Gilberto-BE\\ray_results\\train_mnist_2021-02-01_21-46-01<br>Number of trials: 4/20 (1 PENDING, 1 RUNNING, 2 TERMINATED)<br><table>\n",
       "<thead>\n",
       "<tr><th>Trial name             </th><th>status    </th><th>loc            </th><th style=\"text-align: right;\">         lr</th><th style=\"text-align: right;\">  momentum</th><th style=\"text-align: right;\">     acc</th><th style=\"text-align: right;\">  iter</th><th style=\"text-align: right;\">  total time (s)</th></tr>\n",
       "</thead>\n",
       "<tbody>\n",
       "<tr><td>train_mnist_7e741_00002</td><td>RUNNING   </td><td>172.16.1.2:7276</td><td style=\"text-align: right;\">3.14944e-07</td><td style=\"text-align: right;\">  0.662429</td><td style=\"text-align: right;\">0.078125</td><td style=\"text-align: right;\">     1</td><td style=\"text-align: right;\">         4.38203</td></tr>\n",
       "<tr><td>train_mnist_7e741_00003</td><td>PENDING   </td><td>               </td><td style=\"text-align: right;\">3.48986e-05</td><td style=\"text-align: right;\">  0.656037</td><td style=\"text-align: right;\">        </td><td style=\"text-align: right;\">      </td><td style=\"text-align: right;\">                </td></tr>\n",
       "<tr><td>train_mnist_7e741_00000</td><td>TERMINATED</td><td>               </td><td style=\"text-align: right;\">0.000374364</td><td style=\"text-align: right;\">  0.40969 </td><td style=\"text-align: right;\">0.115625</td><td style=\"text-align: right;\">    10</td><td style=\"text-align: right;\">         7.96004</td></tr>\n",
       "<tr><td>train_mnist_7e741_00001</td><td>TERMINATED</td><td>               </td><td style=\"text-align: right;\">7.82379e-06</td><td style=\"text-align: right;\">  0.600244</td><td style=\"text-align: right;\">0.090625</td><td style=\"text-align: right;\">     4</td><td style=\"text-align: right;\">         5.30294</td></tr>\n",
       "</tbody>\n",
       "</table><br><br>"
      ],
      "text/plain": [
       "<IPython.core.display.HTML object>"
      ]
     },
     "metadata": {},
     "output_type": "display_data"
    },
    {
     "name": "stdout",
     "output_type": "stream",
     "text": [
      "Result for train_mnist_7e741_00002:\n",
      "  date: 2021-02-01_21-46-27\n",
      "  done: true\n",
      "  experiment_id: 1150e5534c07447cbe0d9de119fac85b\n",
      "  experiment_tag: 2_lr=3.1494e-07,momentum=0.66243\n",
      "  hostname: LAPTOP-C4PHJU11\n",
      "  iterations_since_restore: 4\n",
      "  mean_accuracy: 0.10625\n",
      "  node_ip: 172.16.1.2\n",
      "  pid: 7276\n",
      "  time_since_restore: 5.146073818206787\n",
      "  time_this_iter_s: 0.25100255012512207\n",
      "  time_total_s: 5.146073818206787\n",
      "  timestamp: 1612212387\n",
      "  timesteps_since_restore: 0\n",
      "  training_iteration: 4\n",
      "  trial_id: 7e741_00002\n",
      "  \n",
      "Result for train_mnist_7e741_00003:\n",
      "  date: 2021-02-01_21-46-33\n",
      "  done: false\n",
      "  experiment_id: c6daa399d0e44f52bb4199aecb37c5ad\n",
      "  experiment_tag: 3_lr=3.4899e-05,momentum=0.65604\n",
      "  hostname: LAPTOP-C4PHJU11\n",
      "  iterations_since_restore: 1\n",
      "  mean_accuracy: 0.10625\n",
      "  node_ip: 172.16.1.2\n",
      "  pid: 13376\n",
      "  time_since_restore: 4.284968376159668\n",
      "  time_this_iter_s: 4.284968376159668\n",
      "  time_total_s: 4.284968376159668\n",
      "  timestamp: 1612212393\n",
      "  timesteps_since_restore: 0\n",
      "  training_iteration: 1\n",
      "  trial_id: 7e741_00003\n",
      "  \n"
     ]
    },
    {
     "data": {
      "text/html": [
       "== Status ==<br>Memory usage on this node: 18.2/31.9 GiB<br>Using AsyncHyperBand: num_stopped=2\n",
       "Bracket: Iter 64.000: None | Iter 16.000: None | Iter 4.000: 0.1109375 | Iter 1.000: 0.08515625<br>Resources requested: 1/12 CPUs, 1/1 GPUs, 0.0/9.67 GiB heap, 0.0/3.32 GiB objects<br>Result logdir: C:\\Users\\Gilberto-BE\\ray_results\\train_mnist_2021-02-01_21-46-01<br>Number of trials: 5/20 (1 PENDING, 1 RUNNING, 3 TERMINATED)<br><table>\n",
       "<thead>\n",
       "<tr><th>Trial name             </th><th>status    </th><th>loc             </th><th style=\"text-align: right;\">         lr</th><th style=\"text-align: right;\">  momentum</th><th style=\"text-align: right;\">     acc</th><th style=\"text-align: right;\">  iter</th><th style=\"text-align: right;\">  total time (s)</th></tr>\n",
       "</thead>\n",
       "<tbody>\n",
       "<tr><td>train_mnist_7e741_00003</td><td>RUNNING   </td><td>172.16.1.2:13376</td><td style=\"text-align: right;\">3.48986e-05</td><td style=\"text-align: right;\">  0.656037</td><td style=\"text-align: right;\">0.10625 </td><td style=\"text-align: right;\">     1</td><td style=\"text-align: right;\">         4.28497</td></tr>\n",
       "<tr><td>train_mnist_7e741_00004</td><td>PENDING   </td><td>                </td><td style=\"text-align: right;\">7.02169e-06</td><td style=\"text-align: right;\">  0.749465</td><td style=\"text-align: right;\">        </td><td style=\"text-align: right;\">      </td><td style=\"text-align: right;\">                </td></tr>\n",
       "<tr><td>train_mnist_7e741_00000</td><td>TERMINATED</td><td>                </td><td style=\"text-align: right;\">0.000374364</td><td style=\"text-align: right;\">  0.40969 </td><td style=\"text-align: right;\">0.115625</td><td style=\"text-align: right;\">    10</td><td style=\"text-align: right;\">         7.96004</td></tr>\n",
       "<tr><td>train_mnist_7e741_00001</td><td>TERMINATED</td><td>                </td><td style=\"text-align: right;\">7.82379e-06</td><td style=\"text-align: right;\">  0.600244</td><td style=\"text-align: right;\">0.090625</td><td style=\"text-align: right;\">     4</td><td style=\"text-align: right;\">         5.30294</td></tr>\n",
       "<tr><td>train_mnist_7e741_00002</td><td>TERMINATED</td><td>                </td><td style=\"text-align: right;\">3.14944e-07</td><td style=\"text-align: right;\">  0.662429</td><td style=\"text-align: right;\">0.10625 </td><td style=\"text-align: right;\">     4</td><td style=\"text-align: right;\">         5.14607</td></tr>\n",
       "</tbody>\n",
       "</table><br><br>"
      ],
      "text/plain": [
       "<IPython.core.display.HTML object>"
      ]
     },
     "metadata": {},
     "output_type": "display_data"
    },
    {
     "name": "stdout",
     "output_type": "stream",
     "text": [
      "Result for train_mnist_7e741_00004:\n",
      "  date: 2021-02-01_21-46-42\n",
      "  done: true\n",
      "  experiment_id: 8d5b9d70be864441ad5b1196ef52013f\n",
      "  experiment_tag: 4_lr=7.0217e-06,momentum=0.74946\n",
      "  hostname: LAPTOP-C4PHJU11\n",
      "  iterations_since_restore: 1\n",
      "  mean_accuracy: 0.075\n",
      "  node_ip: 172.16.1.2\n",
      "  pid: 13568\n",
      "  time_since_restore: 4.306962251663208\n",
      "  time_this_iter_s: 4.306962251663208\n",
      "  time_total_s: 4.306962251663208\n",
      "  timestamp: 1612212402\n",
      "  timesteps_since_restore: 0\n",
      "  training_iteration: 1\n",
      "  trial_id: 7e741_00004\n",
      "  \n"
     ]
    },
    {
     "data": {
      "text/html": [
       "== Status ==<br>Memory usage on this node: 18.1/31.9 GiB<br>Using AsyncHyperBand: num_stopped=3\n",
       "Bracket: Iter 64.000: None | Iter 16.000: None | Iter 4.000: 0.1234375 | Iter 1.000: 0.078125<br>Resources requested: 0/12 CPUs, 0/1 GPUs, 0.0/9.67 GiB heap, 0.0/3.32 GiB objects<br>Result logdir: C:\\Users\\Gilberto-BE\\ray_results\\train_mnist_2021-02-01_21-46-01<br>Number of trials: 6/20 (1 PENDING, 5 TERMINATED)<br><table>\n",
       "<thead>\n",
       "<tr><th>Trial name             </th><th>status    </th><th>loc  </th><th style=\"text-align: right;\">         lr</th><th style=\"text-align: right;\">  momentum</th><th style=\"text-align: right;\">     acc</th><th style=\"text-align: right;\">  iter</th><th style=\"text-align: right;\">  total time (s)</th></tr>\n",
       "</thead>\n",
       "<tbody>\n",
       "<tr><td>train_mnist_7e741_00005</td><td>PENDING   </td><td>     </td><td style=\"text-align: right;\">9.70547e-10</td><td style=\"text-align: right;\">  0.290944</td><td style=\"text-align: right;\">        </td><td style=\"text-align: right;\">      </td><td style=\"text-align: right;\">                </td></tr>\n",
       "<tr><td>train_mnist_7e741_00000</td><td>TERMINATED</td><td>     </td><td style=\"text-align: right;\">0.000374364</td><td style=\"text-align: right;\">  0.40969 </td><td style=\"text-align: right;\">0.115625</td><td style=\"text-align: right;\">    10</td><td style=\"text-align: right;\">         7.96004</td></tr>\n",
       "<tr><td>train_mnist_7e741_00001</td><td>TERMINATED</td><td>     </td><td style=\"text-align: right;\">7.82379e-06</td><td style=\"text-align: right;\">  0.600244</td><td style=\"text-align: right;\">0.090625</td><td style=\"text-align: right;\">     4</td><td style=\"text-align: right;\">         5.30294</td></tr>\n",
       "<tr><td>train_mnist_7e741_00002</td><td>TERMINATED</td><td>     </td><td style=\"text-align: right;\">3.14944e-07</td><td style=\"text-align: right;\">  0.662429</td><td style=\"text-align: right;\">0.10625 </td><td style=\"text-align: right;\">     4</td><td style=\"text-align: right;\">         5.14607</td></tr>\n",
       "<tr><td>train_mnist_7e741_00003</td><td>TERMINATED</td><td>     </td><td style=\"text-align: right;\">3.48986e-05</td><td style=\"text-align: right;\">  0.656037</td><td style=\"text-align: right;\">0.18125 </td><td style=\"text-align: right;\">    10</td><td style=\"text-align: right;\">         6.39498</td></tr>\n",
       "<tr><td>train_mnist_7e741_00004</td><td>TERMINATED</td><td>     </td><td style=\"text-align: right;\">7.02169e-06</td><td style=\"text-align: right;\">  0.749465</td><td style=\"text-align: right;\">0.075   </td><td style=\"text-align: right;\">     1</td><td style=\"text-align: right;\">         4.30696</td></tr>\n",
       "</tbody>\n",
       "</table><br><br>"
      ],
      "text/plain": [
       "<IPython.core.display.HTML object>"
      ]
     },
     "metadata": {},
     "output_type": "display_data"
    },
    {
     "name": "stdout",
     "output_type": "stream",
     "text": [
      "Result for train_mnist_7e741_00005:\n",
      "  date: 2021-02-01_21-46-49\n",
      "  done: true\n",
      "  experiment_id: e5f97dbeb4714b528420de5cffef2a83\n",
      "  experiment_tag: 5_lr=9.7055e-10,momentum=0.29094\n",
      "  hostname: LAPTOP-C4PHJU11\n",
      "  iterations_since_restore: 1\n",
      "  mean_accuracy: 0.065625\n",
      "  node_ip: 172.16.1.2\n",
      "  pid: 19292\n",
      "  time_since_restore: 4.401979207992554\n",
      "  time_this_iter_s: 4.401979207992554\n",
      "  time_total_s: 4.401979207992554\n",
      "  timestamp: 1612212409\n",
      "  timesteps_since_restore: 0\n",
      "  training_iteration: 1\n",
      "  trial_id: 7e741_00005\n",
      "  \n"
     ]
    },
    {
     "data": {
      "text/html": [
       "== Status ==<br>Memory usage on this node: 18.1/31.9 GiB<br>Using AsyncHyperBand: num_stopped=4\n",
       "Bracket: Iter 64.000: None | Iter 16.000: None | Iter 4.000: 0.1234375 | Iter 1.000: 0.07734375<br>Resources requested: 0/12 CPUs, 0/1 GPUs, 0.0/9.67 GiB heap, 0.0/3.32 GiB objects<br>Result logdir: C:\\Users\\Gilberto-BE\\ray_results\\train_mnist_2021-02-01_21-46-01<br>Number of trials: 7/20 (1 PENDING, 6 TERMINATED)<br><table>\n",
       "<thead>\n",
       "<tr><th>Trial name             </th><th>status    </th><th>loc  </th><th style=\"text-align: right;\">         lr</th><th style=\"text-align: right;\">  momentum</th><th style=\"text-align: right;\">     acc</th><th style=\"text-align: right;\">  iter</th><th style=\"text-align: right;\">  total time (s)</th></tr>\n",
       "</thead>\n",
       "<tbody>\n",
       "<tr><td>train_mnist_7e741_00006</td><td>PENDING   </td><td>     </td><td style=\"text-align: right;\">8.14338e-07</td><td style=\"text-align: right;\">  0.35172 </td><td style=\"text-align: right;\">        </td><td style=\"text-align: right;\">      </td><td style=\"text-align: right;\">                </td></tr>\n",
       "<tr><td>train_mnist_7e741_00000</td><td>TERMINATED</td><td>     </td><td style=\"text-align: right;\">0.000374364</td><td style=\"text-align: right;\">  0.40969 </td><td style=\"text-align: right;\">0.115625</td><td style=\"text-align: right;\">    10</td><td style=\"text-align: right;\">         7.96004</td></tr>\n",
       "<tr><td>train_mnist_7e741_00001</td><td>TERMINATED</td><td>     </td><td style=\"text-align: right;\">7.82379e-06</td><td style=\"text-align: right;\">  0.600244</td><td style=\"text-align: right;\">0.090625</td><td style=\"text-align: right;\">     4</td><td style=\"text-align: right;\">         5.30294</td></tr>\n",
       "<tr><td>train_mnist_7e741_00002</td><td>TERMINATED</td><td>     </td><td style=\"text-align: right;\">3.14944e-07</td><td style=\"text-align: right;\">  0.662429</td><td style=\"text-align: right;\">0.10625 </td><td style=\"text-align: right;\">     4</td><td style=\"text-align: right;\">         5.14607</td></tr>\n",
       "<tr><td>train_mnist_7e741_00003</td><td>TERMINATED</td><td>     </td><td style=\"text-align: right;\">3.48986e-05</td><td style=\"text-align: right;\">  0.656037</td><td style=\"text-align: right;\">0.18125 </td><td style=\"text-align: right;\">    10</td><td style=\"text-align: right;\">         6.39498</td></tr>\n",
       "<tr><td>train_mnist_7e741_00004</td><td>TERMINATED</td><td>     </td><td style=\"text-align: right;\">7.02169e-06</td><td style=\"text-align: right;\">  0.749465</td><td style=\"text-align: right;\">0.075   </td><td style=\"text-align: right;\">     1</td><td style=\"text-align: right;\">         4.30696</td></tr>\n",
       "<tr><td>train_mnist_7e741_00005</td><td>TERMINATED</td><td>     </td><td style=\"text-align: right;\">9.70547e-10</td><td style=\"text-align: right;\">  0.290944</td><td style=\"text-align: right;\">0.065625</td><td style=\"text-align: right;\">     1</td><td style=\"text-align: right;\">         4.40198</td></tr>\n",
       "</tbody>\n",
       "</table><br><br>"
      ],
      "text/plain": [
       "<IPython.core.display.HTML object>"
      ]
     },
     "metadata": {},
     "output_type": "display_data"
    },
    {
     "name": "stdout",
     "output_type": "stream",
     "text": [
      "Result for train_mnist_7e741_00006:\n",
      "  date: 2021-02-01_21-46-56\n",
      "  done: false\n",
      "  experiment_id: 6897d3047df0481caa8489dec4114e20\n",
      "  experiment_tag: 6_lr=8.1434e-07,momentum=0.35172\n",
      "  hostname: LAPTOP-C4PHJU11\n",
      "  iterations_since_restore: 1\n",
      "  mean_accuracy: 0.109375\n",
      "  node_ip: 172.16.1.2\n",
      "  pid: 10044\n",
      "  time_since_restore: 4.239067792892456\n",
      "  time_this_iter_s: 4.239067792892456\n",
      "  time_total_s: 4.239067792892456\n",
      "  timestamp: 1612212416\n",
      "  timesteps_since_restore: 0\n",
      "  training_iteration: 1\n",
      "  trial_id: 7e741_00006\n",
      "  \n"
     ]
    },
    {
     "data": {
      "text/html": [
       "== Status ==<br>Memory usage on this node: 18.1/31.9 GiB<br>Using AsyncHyperBand: num_stopped=4\n",
       "Bracket: Iter 64.000: None | Iter 16.000: None | Iter 4.000: 0.1234375 | Iter 1.000: 0.0921875<br>Resources requested: 1/12 CPUs, 1/1 GPUs, 0.0/9.67 GiB heap, 0.0/3.32 GiB objects<br>Result logdir: C:\\Users\\Gilberto-BE\\ray_results\\train_mnist_2021-02-01_21-46-01<br>Number of trials: 8/20 (1 PENDING, 1 RUNNING, 6 TERMINATED)<br><table>\n",
       "<thead>\n",
       "<tr><th>Trial name             </th><th>status    </th><th>loc             </th><th style=\"text-align: right;\">         lr</th><th style=\"text-align: right;\">  momentum</th><th style=\"text-align: right;\">     acc</th><th style=\"text-align: right;\">  iter</th><th style=\"text-align: right;\">  total time (s)</th></tr>\n",
       "</thead>\n",
       "<tbody>\n",
       "<tr><td>train_mnist_7e741_00006</td><td>RUNNING   </td><td>172.16.1.2:10044</td><td style=\"text-align: right;\">8.14338e-07</td><td style=\"text-align: right;\">  0.35172 </td><td style=\"text-align: right;\">0.109375</td><td style=\"text-align: right;\">     1</td><td style=\"text-align: right;\">         4.23907</td></tr>\n",
       "<tr><td>train_mnist_7e741_00007</td><td>PENDING   </td><td>                </td><td style=\"text-align: right;\">5.7092e-09 </td><td style=\"text-align: right;\">  0.140243</td><td style=\"text-align: right;\">        </td><td style=\"text-align: right;\">      </td><td style=\"text-align: right;\">                </td></tr>\n",
       "<tr><td>train_mnist_7e741_00000</td><td>TERMINATED</td><td>                </td><td style=\"text-align: right;\">0.000374364</td><td style=\"text-align: right;\">  0.40969 </td><td style=\"text-align: right;\">0.115625</td><td style=\"text-align: right;\">    10</td><td style=\"text-align: right;\">         7.96004</td></tr>\n",
       "<tr><td>train_mnist_7e741_00001</td><td>TERMINATED</td><td>                </td><td style=\"text-align: right;\">7.82379e-06</td><td style=\"text-align: right;\">  0.600244</td><td style=\"text-align: right;\">0.090625</td><td style=\"text-align: right;\">     4</td><td style=\"text-align: right;\">         5.30294</td></tr>\n",
       "<tr><td>train_mnist_7e741_00002</td><td>TERMINATED</td><td>                </td><td style=\"text-align: right;\">3.14944e-07</td><td style=\"text-align: right;\">  0.662429</td><td style=\"text-align: right;\">0.10625 </td><td style=\"text-align: right;\">     4</td><td style=\"text-align: right;\">         5.14607</td></tr>\n",
       "<tr><td>train_mnist_7e741_00003</td><td>TERMINATED</td><td>                </td><td style=\"text-align: right;\">3.48986e-05</td><td style=\"text-align: right;\">  0.656037</td><td style=\"text-align: right;\">0.18125 </td><td style=\"text-align: right;\">    10</td><td style=\"text-align: right;\">         6.39498</td></tr>\n",
       "<tr><td>train_mnist_7e741_00004</td><td>TERMINATED</td><td>                </td><td style=\"text-align: right;\">7.02169e-06</td><td style=\"text-align: right;\">  0.749465</td><td style=\"text-align: right;\">0.075   </td><td style=\"text-align: right;\">     1</td><td style=\"text-align: right;\">         4.30696</td></tr>\n",
       "<tr><td>train_mnist_7e741_00005</td><td>TERMINATED</td><td>                </td><td style=\"text-align: right;\">9.70547e-10</td><td style=\"text-align: right;\">  0.290944</td><td style=\"text-align: right;\">0.065625</td><td style=\"text-align: right;\">     1</td><td style=\"text-align: right;\">         4.40198</td></tr>\n",
       "</tbody>\n",
       "</table><br><br>"
      ],
      "text/plain": [
       "<IPython.core.display.HTML object>"
      ]
     },
     "metadata": {},
     "output_type": "display_data"
    },
    {
     "name": "stdout",
     "output_type": "stream",
     "text": [
      "Result for train_mnist_7e741_00006:\n",
      "  date: 2021-02-01_21-46-57\n",
      "  done: true\n",
      "  experiment_id: 6897d3047df0481caa8489dec4114e20\n",
      "  experiment_tag: 6_lr=8.1434e-07,momentum=0.35172\n",
      "  hostname: LAPTOP-C4PHJU11\n",
      "  iterations_since_restore: 4\n",
      "  mean_accuracy: 0.109375\n",
      "  node_ip: 172.16.1.2\n",
      "  pid: 10044\n",
      "  time_since_restore: 4.986071825027466\n",
      "  time_this_iter_s: 0.23400306701660156\n",
      "  time_total_s: 4.986071825027466\n",
      "  timestamp: 1612212417\n",
      "  timesteps_since_restore: 0\n",
      "  training_iteration: 4\n",
      "  trial_id: 7e741_00006\n",
      "  \n",
      "Result for train_mnist_7e741_00007:\n",
      "  date: 2021-02-01_21-47-03\n",
      "  done: false\n",
      "  experiment_id: 0557bdf0af4445bca4250713cf661b0a\n",
      "  experiment_tag: 7_lr=5.7092e-09,momentum=0.14024\n",
      "  hostname: LAPTOP-C4PHJU11\n",
      "  iterations_since_restore: 1\n",
      "  mean_accuracy: 0.159375\n",
      "  node_ip: 172.16.1.2\n",
      "  pid: 24820\n",
      "  time_since_restore: 4.349017381668091\n",
      "  time_this_iter_s: 4.349017381668091\n",
      "  time_total_s: 4.349017381668091\n",
      "  timestamp: 1612212423\n",
      "  timesteps_since_restore: 0\n",
      "  training_iteration: 1\n",
      "  trial_id: 7e741_00007\n",
      "  \n"
     ]
    },
    {
     "data": {
      "text/html": [
       "== Status ==<br>Memory usage on this node: 18.1/31.9 GiB<br>Using AsyncHyperBand: num_stopped=5\n",
       "Bracket: Iter 64.000: None | Iter 16.000: None | Iter 4.000: 0.115625 | Iter 1.000: 0.10703125<br>Resources requested: 1/12 CPUs, 1/1 GPUs, 0.0/9.67 GiB heap, 0.0/3.32 GiB objects<br>Result logdir: C:\\Users\\Gilberto-BE\\ray_results\\train_mnist_2021-02-01_21-46-01<br>Number of trials: 9/20 (1 PENDING, 1 RUNNING, 7 TERMINATED)<br><table>\n",
       "<thead>\n",
       "<tr><th>Trial name             </th><th>status    </th><th>loc             </th><th style=\"text-align: right;\">         lr</th><th style=\"text-align: right;\">  momentum</th><th style=\"text-align: right;\">     acc</th><th style=\"text-align: right;\">  iter</th><th style=\"text-align: right;\">  total time (s)</th></tr>\n",
       "</thead>\n",
       "<tbody>\n",
       "<tr><td>train_mnist_7e741_00007</td><td>RUNNING   </td><td>172.16.1.2:24820</td><td style=\"text-align: right;\">5.7092e-09 </td><td style=\"text-align: right;\">  0.140243</td><td style=\"text-align: right;\">0.159375</td><td style=\"text-align: right;\">     1</td><td style=\"text-align: right;\">         4.34902</td></tr>\n",
       "<tr><td>train_mnist_7e741_00008</td><td>PENDING   </td><td>                </td><td style=\"text-align: right;\">0.00471154 </td><td style=\"text-align: right;\">  0.724455</td><td style=\"text-align: right;\">        </td><td style=\"text-align: right;\">      </td><td style=\"text-align: right;\">                </td></tr>\n",
       "<tr><td>train_mnist_7e741_00000</td><td>TERMINATED</td><td>                </td><td style=\"text-align: right;\">0.000374364</td><td style=\"text-align: right;\">  0.40969 </td><td style=\"text-align: right;\">0.115625</td><td style=\"text-align: right;\">    10</td><td style=\"text-align: right;\">         7.96004</td></tr>\n",
       "<tr><td>train_mnist_7e741_00001</td><td>TERMINATED</td><td>                </td><td style=\"text-align: right;\">7.82379e-06</td><td style=\"text-align: right;\">  0.600244</td><td style=\"text-align: right;\">0.090625</td><td style=\"text-align: right;\">     4</td><td style=\"text-align: right;\">         5.30294</td></tr>\n",
       "<tr><td>train_mnist_7e741_00002</td><td>TERMINATED</td><td>                </td><td style=\"text-align: right;\">3.14944e-07</td><td style=\"text-align: right;\">  0.662429</td><td style=\"text-align: right;\">0.10625 </td><td style=\"text-align: right;\">     4</td><td style=\"text-align: right;\">         5.14607</td></tr>\n",
       "<tr><td>train_mnist_7e741_00003</td><td>TERMINATED</td><td>                </td><td style=\"text-align: right;\">3.48986e-05</td><td style=\"text-align: right;\">  0.656037</td><td style=\"text-align: right;\">0.18125 </td><td style=\"text-align: right;\">    10</td><td style=\"text-align: right;\">         6.39498</td></tr>\n",
       "<tr><td>train_mnist_7e741_00004</td><td>TERMINATED</td><td>                </td><td style=\"text-align: right;\">7.02169e-06</td><td style=\"text-align: right;\">  0.749465</td><td style=\"text-align: right;\">0.075   </td><td style=\"text-align: right;\">     1</td><td style=\"text-align: right;\">         4.30696</td></tr>\n",
       "<tr><td>train_mnist_7e741_00005</td><td>TERMINATED</td><td>                </td><td style=\"text-align: right;\">9.70547e-10</td><td style=\"text-align: right;\">  0.290944</td><td style=\"text-align: right;\">0.065625</td><td style=\"text-align: right;\">     1</td><td style=\"text-align: right;\">         4.40198</td></tr>\n",
       "<tr><td>train_mnist_7e741_00006</td><td>TERMINATED</td><td>                </td><td style=\"text-align: right;\">8.14338e-07</td><td style=\"text-align: right;\">  0.35172 </td><td style=\"text-align: right;\">0.109375</td><td style=\"text-align: right;\">     4</td><td style=\"text-align: right;\">         4.98607</td></tr>\n",
       "</tbody>\n",
       "</table><br><br>"
      ],
      "text/plain": [
       "<IPython.core.display.HTML object>"
      ]
     },
     "metadata": {},
     "output_type": "display_data"
    },
    {
     "name": "stdout",
     "output_type": "stream",
     "text": [
      "Result for train_mnist_7e741_00008:\n",
      "  date: 2021-02-01_21-47-12\n",
      "  done: false\n",
      "  experiment_id: e3e0438b72074e7181e3dd3274a81924\n",
      "  experiment_tag: 8_lr=0.0047115,momentum=0.72446\n",
      "  hostname: LAPTOP-C4PHJU11\n",
      "  iterations_since_restore: 1\n",
      "  mean_accuracy: 0.171875\n",
      "  node_ip: 172.16.1.2\n",
      "  pid: 11156\n",
      "  time_since_restore: 4.51697039604187\n",
      "  time_this_iter_s: 4.51697039604187\n",
      "  time_total_s: 4.51697039604187\n",
      "  timestamp: 1612212432\n",
      "  timesteps_since_restore: 0\n",
      "  training_iteration: 1\n",
      "  trial_id: 7e741_00008\n",
      "  \n"
     ]
    },
    {
     "data": {
      "text/html": [
       "== Status ==<br>Memory usage on this node: 18.0/31.9 GiB<br>Using AsyncHyperBand: num_stopped=5\n",
       "Bracket: Iter 64.000: None | Iter 16.000: None | Iter 4.000: 0.115625 | Iter 1.000: 0.109375<br>Resources requested: 1/12 CPUs, 1/1 GPUs, 0.0/9.67 GiB heap, 0.0/3.32 GiB objects<br>Result logdir: C:\\Users\\Gilberto-BE\\ray_results\\train_mnist_2021-02-01_21-46-01<br>Number of trials: 10/20 (1 PENDING, 1 RUNNING, 8 TERMINATED)<br><table>\n",
       "<thead>\n",
       "<tr><th>Trial name             </th><th>status    </th><th>loc             </th><th style=\"text-align: right;\">         lr</th><th style=\"text-align: right;\">  momentum</th><th style=\"text-align: right;\">     acc</th><th style=\"text-align: right;\">  iter</th><th style=\"text-align: right;\">  total time (s)</th></tr>\n",
       "</thead>\n",
       "<tbody>\n",
       "<tr><td>train_mnist_7e741_00008</td><td>RUNNING   </td><td>172.16.1.2:11156</td><td style=\"text-align: right;\">0.00471154 </td><td style=\"text-align: right;\">  0.724455</td><td style=\"text-align: right;\">0.171875</td><td style=\"text-align: right;\">     1</td><td style=\"text-align: right;\">         4.51697</td></tr>\n",
       "<tr><td>train_mnist_7e741_00009</td><td>PENDING   </td><td>                </td><td style=\"text-align: right;\">1.30192e-08</td><td style=\"text-align: right;\">  0.72695 </td><td style=\"text-align: right;\">        </td><td style=\"text-align: right;\">      </td><td style=\"text-align: right;\">                </td></tr>\n",
       "<tr><td>train_mnist_7e741_00000</td><td>TERMINATED</td><td>                </td><td style=\"text-align: right;\">0.000374364</td><td style=\"text-align: right;\">  0.40969 </td><td style=\"text-align: right;\">0.115625</td><td style=\"text-align: right;\">    10</td><td style=\"text-align: right;\">         7.96004</td></tr>\n",
       "<tr><td>train_mnist_7e741_00001</td><td>TERMINATED</td><td>                </td><td style=\"text-align: right;\">7.82379e-06</td><td style=\"text-align: right;\">  0.600244</td><td style=\"text-align: right;\">0.090625</td><td style=\"text-align: right;\">     4</td><td style=\"text-align: right;\">         5.30294</td></tr>\n",
       "<tr><td>train_mnist_7e741_00002</td><td>TERMINATED</td><td>                </td><td style=\"text-align: right;\">3.14944e-07</td><td style=\"text-align: right;\">  0.662429</td><td style=\"text-align: right;\">0.10625 </td><td style=\"text-align: right;\">     4</td><td style=\"text-align: right;\">         5.14607</td></tr>\n",
       "<tr><td>train_mnist_7e741_00003</td><td>TERMINATED</td><td>                </td><td style=\"text-align: right;\">3.48986e-05</td><td style=\"text-align: right;\">  0.656037</td><td style=\"text-align: right;\">0.18125 </td><td style=\"text-align: right;\">    10</td><td style=\"text-align: right;\">         6.39498</td></tr>\n",
       "<tr><td>train_mnist_7e741_00004</td><td>TERMINATED</td><td>                </td><td style=\"text-align: right;\">7.02169e-06</td><td style=\"text-align: right;\">  0.749465</td><td style=\"text-align: right;\">0.075   </td><td style=\"text-align: right;\">     1</td><td style=\"text-align: right;\">         4.30696</td></tr>\n",
       "<tr><td>train_mnist_7e741_00005</td><td>TERMINATED</td><td>                </td><td style=\"text-align: right;\">9.70547e-10</td><td style=\"text-align: right;\">  0.290944</td><td style=\"text-align: right;\">0.065625</td><td style=\"text-align: right;\">     1</td><td style=\"text-align: right;\">         4.40198</td></tr>\n",
       "<tr><td>train_mnist_7e741_00006</td><td>TERMINATED</td><td>                </td><td style=\"text-align: right;\">8.14338e-07</td><td style=\"text-align: right;\">  0.35172 </td><td style=\"text-align: right;\">0.109375</td><td style=\"text-align: right;\">     4</td><td style=\"text-align: right;\">         4.98607</td></tr>\n",
       "<tr><td>train_mnist_7e741_00007</td><td>TERMINATED</td><td>                </td><td style=\"text-align: right;\">5.7092e-09 </td><td style=\"text-align: right;\">  0.140243</td><td style=\"text-align: right;\">0.11875 </td><td style=\"text-align: right;\">    10</td><td style=\"text-align: right;\">         6.437  </td></tr>\n",
       "</tbody>\n",
       "</table><br><br>"
      ],
      "text/plain": [
       "<IPython.core.display.HTML object>"
      ]
     },
     "metadata": {},
     "output_type": "display_data"
    },
    {
     "name": "stdout",
     "output_type": "stream",
     "text": [
      "Result for train_mnist_7e741_00009:\n",
      "  date: 2021-02-01_21-47-21\n",
      "  done: false\n",
      "  experiment_id: 9e062bb4192e4071b1ee98e3135ed42f\n",
      "  experiment_tag: 9_lr=1.3019e-08,momentum=0.72695\n",
      "  hostname: LAPTOP-C4PHJU11\n",
      "  iterations_since_restore: 1\n",
      "  mean_accuracy: 0.121875\n",
      "  node_ip: 172.16.1.2\n",
      "  pid: 21612\n",
      "  time_since_restore: 4.209030389785767\n",
      "  time_this_iter_s: 4.209030389785767\n",
      "  time_total_s: 4.209030389785767\n",
      "  timestamp: 1612212441\n",
      "  timesteps_since_restore: 0\n",
      "  training_iteration: 1\n",
      "  trial_id: 7e741_00009\n",
      "  \n"
     ]
    },
    {
     "data": {
      "text/html": [
       "== Status ==<br>Memory usage on this node: 18.0/31.9 GiB<br>Using AsyncHyperBand: num_stopped=5\n",
       "Bracket: Iter 64.000: None | Iter 16.000: None | Iter 4.000: 0.13125 | Iter 1.000: 0.11875<br>Resources requested: 1/12 CPUs, 1/1 GPUs, 0.0/9.67 GiB heap, 0.0/3.32 GiB objects<br>Result logdir: C:\\Users\\Gilberto-BE\\ray_results\\train_mnist_2021-02-01_21-46-01<br>Number of trials: 11/20 (1 PENDING, 1 RUNNING, 9 TERMINATED)<br><table>\n",
       "<thead>\n",
       "<tr><th>Trial name             </th><th>status    </th><th>loc             </th><th style=\"text-align: right;\">         lr</th><th style=\"text-align: right;\">  momentum</th><th style=\"text-align: right;\">     acc</th><th style=\"text-align: right;\">  iter</th><th style=\"text-align: right;\">  total time (s)</th></tr>\n",
       "</thead>\n",
       "<tbody>\n",
       "<tr><td>train_mnist_7e741_00009</td><td>RUNNING   </td><td>172.16.1.2:21612</td><td style=\"text-align: right;\">1.30192e-08</td><td style=\"text-align: right;\">  0.72695 </td><td style=\"text-align: right;\">0.121875</td><td style=\"text-align: right;\">     1</td><td style=\"text-align: right;\">         4.20903</td></tr>\n",
       "<tr><td>train_mnist_7e741_00010</td><td>PENDING   </td><td>                </td><td style=\"text-align: right;\">1.21249e-09</td><td style=\"text-align: right;\">  0.755718</td><td style=\"text-align: right;\">        </td><td style=\"text-align: right;\">      </td><td style=\"text-align: right;\">                </td></tr>\n",
       "<tr><td>train_mnist_7e741_00000</td><td>TERMINATED</td><td>                </td><td style=\"text-align: right;\">0.000374364</td><td style=\"text-align: right;\">  0.40969 </td><td style=\"text-align: right;\">0.115625</td><td style=\"text-align: right;\">    10</td><td style=\"text-align: right;\">         7.96004</td></tr>\n",
       "<tr><td>train_mnist_7e741_00001</td><td>TERMINATED</td><td>                </td><td style=\"text-align: right;\">7.82379e-06</td><td style=\"text-align: right;\">  0.600244</td><td style=\"text-align: right;\">0.090625</td><td style=\"text-align: right;\">     4</td><td style=\"text-align: right;\">         5.30294</td></tr>\n",
       "<tr><td>train_mnist_7e741_00002</td><td>TERMINATED</td><td>                </td><td style=\"text-align: right;\">3.14944e-07</td><td style=\"text-align: right;\">  0.662429</td><td style=\"text-align: right;\">0.10625 </td><td style=\"text-align: right;\">     4</td><td style=\"text-align: right;\">         5.14607</td></tr>\n",
       "<tr><td>train_mnist_7e741_00003</td><td>TERMINATED</td><td>                </td><td style=\"text-align: right;\">3.48986e-05</td><td style=\"text-align: right;\">  0.656037</td><td style=\"text-align: right;\">0.18125 </td><td style=\"text-align: right;\">    10</td><td style=\"text-align: right;\">         6.39498</td></tr>\n",
       "<tr><td>train_mnist_7e741_00004</td><td>TERMINATED</td><td>                </td><td style=\"text-align: right;\">7.02169e-06</td><td style=\"text-align: right;\">  0.749465</td><td style=\"text-align: right;\">0.075   </td><td style=\"text-align: right;\">     1</td><td style=\"text-align: right;\">         4.30696</td></tr>\n",
       "<tr><td>train_mnist_7e741_00005</td><td>TERMINATED</td><td>                </td><td style=\"text-align: right;\">9.70547e-10</td><td style=\"text-align: right;\">  0.290944</td><td style=\"text-align: right;\">0.065625</td><td style=\"text-align: right;\">     1</td><td style=\"text-align: right;\">         4.40198</td></tr>\n",
       "<tr><td>train_mnist_7e741_00006</td><td>TERMINATED</td><td>                </td><td style=\"text-align: right;\">8.14338e-07</td><td style=\"text-align: right;\">  0.35172 </td><td style=\"text-align: right;\">0.109375</td><td style=\"text-align: right;\">     4</td><td style=\"text-align: right;\">         4.98607</td></tr>\n",
       "<tr><td>train_mnist_7e741_00007</td><td>TERMINATED</td><td>                </td><td style=\"text-align: right;\">5.7092e-09 </td><td style=\"text-align: right;\">  0.140243</td><td style=\"text-align: right;\">0.11875 </td><td style=\"text-align: right;\">    10</td><td style=\"text-align: right;\">         6.437  </td></tr>\n",
       "<tr><td>train_mnist_7e741_00008</td><td>TERMINATED</td><td>                </td><td style=\"text-align: right;\">0.00471154 </td><td style=\"text-align: right;\">  0.724455</td><td style=\"text-align: right;\">0.796875</td><td style=\"text-align: right;\">    10</td><td style=\"text-align: right;\">         6.70997</td></tr>\n",
       "</tbody>\n",
       "</table><br><br>"
      ],
      "text/plain": [
       "<IPython.core.display.HTML object>"
      ]
     },
     "metadata": {},
     "output_type": "display_data"
    },
    {
     "name": "stdout",
     "output_type": "stream",
     "text": [
      "Result for train_mnist_7e741_00009:\n",
      "  date: 2021-02-01_21-47-22\n",
      "  done: true\n",
      "  experiment_id: 9e062bb4192e4071b1ee98e3135ed42f\n",
      "  experiment_tag: 9_lr=1.3019e-08,momentum=0.72695\n",
      "  hostname: LAPTOP-C4PHJU11\n",
      "  iterations_since_restore: 4\n",
      "  mean_accuracy: 0.1\n",
      "  node_ip: 172.16.1.2\n",
      "  pid: 21612\n",
      "  time_since_restore: 4.917026519775391\n",
      "  time_this_iter_s: 0.23000216484069824\n",
      "  time_total_s: 4.917026519775391\n",
      "  timestamp: 1612212442\n",
      "  timesteps_since_restore: 0\n",
      "  training_iteration: 4\n",
      "  trial_id: 7e741_00009\n",
      "  \n",
      "Result for train_mnist_7e741_00010:\n",
      "  date: 2021-02-01_21-47-29\n",
      "  done: true\n",
      "  experiment_id: f68ccf62dcc5495893f4376f78215ef0\n",
      "  experiment_tag: 10_lr=1.2125e-09,momentum=0.75572\n",
      "  hostname: LAPTOP-C4PHJU11\n",
      "  iterations_since_restore: 1\n",
      "  mean_accuracy: 0.103125\n",
      "  node_ip: 172.16.1.2\n",
      "  pid: 28264\n",
      "  time_since_restore: 4.1597981452941895\n",
      "  time_this_iter_s: 4.1597981452941895\n",
      "  time_total_s: 4.1597981452941895\n",
      "  timestamp: 1612212449\n",
      "  timesteps_since_restore: 0\n",
      "  training_iteration: 1\n",
      "  trial_id: 7e741_00010\n",
      "  \n"
     ]
    },
    {
     "data": {
      "text/html": [
       "== Status ==<br>Memory usage on this node: 17.9/31.9 GiB<br>Using AsyncHyperBand: num_stopped=7\n",
       "Bracket: Iter 64.000: None | Iter 16.000: None | Iter 4.000: 0.1234375 | Iter 1.000: 0.115625<br>Resources requested: 0/12 CPUs, 0/1 GPUs, 0.0/9.67 GiB heap, 0.0/3.32 GiB objects<br>Result logdir: C:\\Users\\Gilberto-BE\\ray_results\\train_mnist_2021-02-01_21-46-01<br>Number of trials: 12/20 (1 PENDING, 11 TERMINATED)<br><table>\n",
       "<thead>\n",
       "<tr><th>Trial name             </th><th>status    </th><th>loc  </th><th style=\"text-align: right;\">         lr</th><th style=\"text-align: right;\">  momentum</th><th style=\"text-align: right;\">     acc</th><th style=\"text-align: right;\">  iter</th><th style=\"text-align: right;\">  total time (s)</th></tr>\n",
       "</thead>\n",
       "<tbody>\n",
       "<tr><td>train_mnist_7e741_00011</td><td>PENDING   </td><td>     </td><td style=\"text-align: right;\">0.251514   </td><td style=\"text-align: right;\">  0.400495</td><td style=\"text-align: right;\">        </td><td style=\"text-align: right;\">      </td><td style=\"text-align: right;\">                </td></tr>\n",
       "<tr><td>train_mnist_7e741_00000</td><td>TERMINATED</td><td>     </td><td style=\"text-align: right;\">0.000374364</td><td style=\"text-align: right;\">  0.40969 </td><td style=\"text-align: right;\">0.115625</td><td style=\"text-align: right;\">    10</td><td style=\"text-align: right;\">         7.96004</td></tr>\n",
       "<tr><td>train_mnist_7e741_00001</td><td>TERMINATED</td><td>     </td><td style=\"text-align: right;\">7.82379e-06</td><td style=\"text-align: right;\">  0.600244</td><td style=\"text-align: right;\">0.090625</td><td style=\"text-align: right;\">     4</td><td style=\"text-align: right;\">         5.30294</td></tr>\n",
       "<tr><td>train_mnist_7e741_00002</td><td>TERMINATED</td><td>     </td><td style=\"text-align: right;\">3.14944e-07</td><td style=\"text-align: right;\">  0.662429</td><td style=\"text-align: right;\">0.10625 </td><td style=\"text-align: right;\">     4</td><td style=\"text-align: right;\">         5.14607</td></tr>\n",
       "<tr><td>train_mnist_7e741_00003</td><td>TERMINATED</td><td>     </td><td style=\"text-align: right;\">3.48986e-05</td><td style=\"text-align: right;\">  0.656037</td><td style=\"text-align: right;\">0.18125 </td><td style=\"text-align: right;\">    10</td><td style=\"text-align: right;\">         6.39498</td></tr>\n",
       "<tr><td>train_mnist_7e741_00004</td><td>TERMINATED</td><td>     </td><td style=\"text-align: right;\">7.02169e-06</td><td style=\"text-align: right;\">  0.749465</td><td style=\"text-align: right;\">0.075   </td><td style=\"text-align: right;\">     1</td><td style=\"text-align: right;\">         4.30696</td></tr>\n",
       "<tr><td>train_mnist_7e741_00005</td><td>TERMINATED</td><td>     </td><td style=\"text-align: right;\">9.70547e-10</td><td style=\"text-align: right;\">  0.290944</td><td style=\"text-align: right;\">0.065625</td><td style=\"text-align: right;\">     1</td><td style=\"text-align: right;\">         4.40198</td></tr>\n",
       "<tr><td>train_mnist_7e741_00006</td><td>TERMINATED</td><td>     </td><td style=\"text-align: right;\">8.14338e-07</td><td style=\"text-align: right;\">  0.35172 </td><td style=\"text-align: right;\">0.109375</td><td style=\"text-align: right;\">     4</td><td style=\"text-align: right;\">         4.98607</td></tr>\n",
       "<tr><td>train_mnist_7e741_00007</td><td>TERMINATED</td><td>     </td><td style=\"text-align: right;\">5.7092e-09 </td><td style=\"text-align: right;\">  0.140243</td><td style=\"text-align: right;\">0.11875 </td><td style=\"text-align: right;\">    10</td><td style=\"text-align: right;\">         6.437  </td></tr>\n",
       "<tr><td>train_mnist_7e741_00008</td><td>TERMINATED</td><td>     </td><td style=\"text-align: right;\">0.00471154 </td><td style=\"text-align: right;\">  0.724455</td><td style=\"text-align: right;\">0.796875</td><td style=\"text-align: right;\">    10</td><td style=\"text-align: right;\">         6.70997</td></tr>\n",
       "<tr><td>train_mnist_7e741_00009</td><td>TERMINATED</td><td>     </td><td style=\"text-align: right;\">1.30192e-08</td><td style=\"text-align: right;\">  0.72695 </td><td style=\"text-align: right;\">0.1     </td><td style=\"text-align: right;\">     4</td><td style=\"text-align: right;\">         4.91703</td></tr>\n",
       "<tr><td>train_mnist_7e741_00010</td><td>TERMINATED</td><td>     </td><td style=\"text-align: right;\">1.21249e-09</td><td style=\"text-align: right;\">  0.755718</td><td style=\"text-align: right;\">0.103125</td><td style=\"text-align: right;\">     1</td><td style=\"text-align: right;\">         4.1598 </td></tr>\n",
       "</tbody>\n",
       "</table><br><br>"
      ],
      "text/plain": [
       "<IPython.core.display.HTML object>"
      ]
     },
     "metadata": {},
     "output_type": "display_data"
    },
    {
     "name": "stdout",
     "output_type": "stream",
     "text": [
      "Result for train_mnist_7e741_00011:\n",
      "  date: 2021-02-01_21-47-36\n",
      "  done: false\n",
      "  experiment_id: 99d4331cc19f4d509d72c1a479955f3d\n",
      "  experiment_tag: 11_lr=0.25151,momentum=0.40049\n",
      "  hostname: LAPTOP-C4PHJU11\n",
      "  iterations_since_restore: 1\n",
      "  mean_accuracy: 0.284375\n",
      "  node_ip: 172.16.1.2\n",
      "  pid: 14300\n",
      "  time_since_restore: 4.314158916473389\n",
      "  time_this_iter_s: 4.314158916473389\n",
      "  time_total_s: 4.314158916473389\n",
      "  timestamp: 1612212456\n",
      "  timesteps_since_restore: 0\n",
      "  training_iteration: 1\n",
      "  trial_id: 7e741_00011\n",
      "  \n"
     ]
    },
    {
     "data": {
      "text/html": [
       "== Status ==<br>Memory usage on this node: 18.0/31.9 GiB<br>Using AsyncHyperBand: num_stopped=7\n",
       "Bracket: Iter 64.000: None | Iter 16.000: None | Iter 4.000: 0.1234375 | Iter 1.000: 0.13124999999999998<br>Resources requested: 1/12 CPUs, 1/1 GPUs, 0.0/9.67 GiB heap, 0.0/3.32 GiB objects<br>Result logdir: C:\\Users\\Gilberto-BE\\ray_results\\train_mnist_2021-02-01_21-46-01<br>Number of trials: 13/20 (1 PENDING, 1 RUNNING, 11 TERMINATED)<br><table>\n",
       "<thead>\n",
       "<tr><th>Trial name             </th><th>status    </th><th>loc             </th><th style=\"text-align: right;\">         lr</th><th style=\"text-align: right;\">  momentum</th><th style=\"text-align: right;\">     acc</th><th style=\"text-align: right;\">  iter</th><th style=\"text-align: right;\">  total time (s)</th></tr>\n",
       "</thead>\n",
       "<tbody>\n",
       "<tr><td>train_mnist_7e741_00011</td><td>RUNNING   </td><td>172.16.1.2:14300</td><td style=\"text-align: right;\">0.251514   </td><td style=\"text-align: right;\">  0.400495</td><td style=\"text-align: right;\">0.284375</td><td style=\"text-align: right;\">     1</td><td style=\"text-align: right;\">         4.31416</td></tr>\n",
       "<tr><td>train_mnist_7e741_00012</td><td>PENDING   </td><td>                </td><td style=\"text-align: right;\">1.54382e-05</td><td style=\"text-align: right;\">  0.674477</td><td style=\"text-align: right;\">        </td><td style=\"text-align: right;\">      </td><td style=\"text-align: right;\">                </td></tr>\n",
       "<tr><td>train_mnist_7e741_00000</td><td>TERMINATED</td><td>                </td><td style=\"text-align: right;\">0.000374364</td><td style=\"text-align: right;\">  0.40969 </td><td style=\"text-align: right;\">0.115625</td><td style=\"text-align: right;\">    10</td><td style=\"text-align: right;\">         7.96004</td></tr>\n",
       "<tr><td>train_mnist_7e741_00001</td><td>TERMINATED</td><td>                </td><td style=\"text-align: right;\">7.82379e-06</td><td style=\"text-align: right;\">  0.600244</td><td style=\"text-align: right;\">0.090625</td><td style=\"text-align: right;\">     4</td><td style=\"text-align: right;\">         5.30294</td></tr>\n",
       "<tr><td>train_mnist_7e741_00002</td><td>TERMINATED</td><td>                </td><td style=\"text-align: right;\">3.14944e-07</td><td style=\"text-align: right;\">  0.662429</td><td style=\"text-align: right;\">0.10625 </td><td style=\"text-align: right;\">     4</td><td style=\"text-align: right;\">         5.14607</td></tr>\n",
       "<tr><td>train_mnist_7e741_00003</td><td>TERMINATED</td><td>                </td><td style=\"text-align: right;\">3.48986e-05</td><td style=\"text-align: right;\">  0.656037</td><td style=\"text-align: right;\">0.18125 </td><td style=\"text-align: right;\">    10</td><td style=\"text-align: right;\">         6.39498</td></tr>\n",
       "<tr><td>train_mnist_7e741_00004</td><td>TERMINATED</td><td>                </td><td style=\"text-align: right;\">7.02169e-06</td><td style=\"text-align: right;\">  0.749465</td><td style=\"text-align: right;\">0.075   </td><td style=\"text-align: right;\">     1</td><td style=\"text-align: right;\">         4.30696</td></tr>\n",
       "<tr><td>train_mnist_7e741_00005</td><td>TERMINATED</td><td>                </td><td style=\"text-align: right;\">9.70547e-10</td><td style=\"text-align: right;\">  0.290944</td><td style=\"text-align: right;\">0.065625</td><td style=\"text-align: right;\">     1</td><td style=\"text-align: right;\">         4.40198</td></tr>\n",
       "<tr><td>train_mnist_7e741_00006</td><td>TERMINATED</td><td>                </td><td style=\"text-align: right;\">8.14338e-07</td><td style=\"text-align: right;\">  0.35172 </td><td style=\"text-align: right;\">0.109375</td><td style=\"text-align: right;\">     4</td><td style=\"text-align: right;\">         4.98607</td></tr>\n",
       "<tr><td>train_mnist_7e741_00007</td><td>TERMINATED</td><td>                </td><td style=\"text-align: right;\">5.7092e-09 </td><td style=\"text-align: right;\">  0.140243</td><td style=\"text-align: right;\">0.11875 </td><td style=\"text-align: right;\">    10</td><td style=\"text-align: right;\">         6.437  </td></tr>\n",
       "<tr><td>train_mnist_7e741_00008</td><td>TERMINATED</td><td>                </td><td style=\"text-align: right;\">0.00471154 </td><td style=\"text-align: right;\">  0.724455</td><td style=\"text-align: right;\">0.796875</td><td style=\"text-align: right;\">    10</td><td style=\"text-align: right;\">         6.70997</td></tr>\n",
       "<tr><td>train_mnist_7e741_00009</td><td>TERMINATED</td><td>                </td><td style=\"text-align: right;\">1.30192e-08</td><td style=\"text-align: right;\">  0.72695 </td><td style=\"text-align: right;\">0.1     </td><td style=\"text-align: right;\">     4</td><td style=\"text-align: right;\">         4.91703</td></tr>\n",
       "<tr><td>train_mnist_7e741_00010</td><td>TERMINATED</td><td>                </td><td style=\"text-align: right;\">1.21249e-09</td><td style=\"text-align: right;\">  0.755718</td><td style=\"text-align: right;\">0.103125</td><td style=\"text-align: right;\">     1</td><td style=\"text-align: right;\">         4.1598 </td></tr>\n",
       "</tbody>\n",
       "</table><br><br>"
      ],
      "text/plain": [
       "<IPython.core.display.HTML object>"
      ]
     },
     "metadata": {},
     "output_type": "display_data"
    },
    {
     "name": "stderr",
     "output_type": "stream",
     "text": [
      "2021-02-01 21:47:42,192\tWARNING worker.py:1091 -- The actor or task with ID ffffffffffffffff296a970401000000 is pending and cannot currently be scheduled. It requires {CPU: 1.000000}, {GPU: 1.000000} for execution and {CPU: 1.000000}, {GPU: 1.000000} for placement, but this node only has remaining {node:172.16.1.2: 1.000000}, {CPU: 12.000000}, {object_store_memory: 3.320312 GiB}, {memory: 9.667969 GiB}, {GPU: 1.000000}. In total there are 0 pending tasks and 1 pending actors on this node. This is likely due to all cluster resources being claimed by actors. To resolve the issue, consider creating fewer actors or increase the resources available to this Ray cluster. You can ignore this message if this Ray cluster is expected to auto-scale.\n"
     ]
    },
    {
     "name": "stdout",
     "output_type": "stream",
     "text": [
      "Result for train_mnist_7e741_00012:\n",
      "  date: 2021-02-01_21-47-49\n",
      "  done: true\n",
      "  experiment_id: c60f8be46f0f408d940afe9710728568\n",
      "  experiment_tag: 12_lr=1.5438e-05,momentum=0.67448\n",
      "  hostname: LAPTOP-C4PHJU11\n",
      "  iterations_since_restore: 1\n",
      "  mean_accuracy: 0.0875\n",
      "  node_ip: 172.16.1.2\n",
      "  pid: 13192\n",
      "  time_since_restore: 4.347553253173828\n",
      "  time_this_iter_s: 4.347553253173828\n",
      "  time_total_s: 4.347553253173828\n",
      "  timestamp: 1612212469\n",
      "  timesteps_since_restore: 0\n",
      "  training_iteration: 1\n",
      "  trial_id: 7e741_00012\n",
      "  \n"
     ]
    },
    {
     "data": {
      "text/html": [
       "== Status ==<br>Memory usage on this node: 17.9/31.9 GiB<br>Using AsyncHyperBand: num_stopped=8\n",
       "Bracket: Iter 64.000: None | Iter 16.000: None | Iter 4.000: 0.146875 | Iter 1.000: 0.121875<br>Resources requested: 0/12 CPUs, 0/1 GPUs, 0.0/9.67 GiB heap, 0.0/3.32 GiB objects<br>Result logdir: C:\\Users\\Gilberto-BE\\ray_results\\train_mnist_2021-02-01_21-46-01<br>Number of trials: 14/20 (1 PENDING, 13 TERMINATED)<br><table>\n",
       "<thead>\n",
       "<tr><th>Trial name             </th><th>status    </th><th>loc  </th><th style=\"text-align: right;\">         lr</th><th style=\"text-align: right;\">  momentum</th><th style=\"text-align: right;\">     acc</th><th style=\"text-align: right;\">  iter</th><th style=\"text-align: right;\">  total time (s)</th></tr>\n",
       "</thead>\n",
       "<tbody>\n",
       "<tr><td>train_mnist_7e741_00013</td><td>PENDING   </td><td>     </td><td style=\"text-align: right;\">1.68044e-10</td><td style=\"text-align: right;\">  0.566125</td><td style=\"text-align: right;\">        </td><td style=\"text-align: right;\">      </td><td style=\"text-align: right;\">                </td></tr>\n",
       "<tr><td>train_mnist_7e741_00000</td><td>TERMINATED</td><td>     </td><td style=\"text-align: right;\">0.000374364</td><td style=\"text-align: right;\">  0.40969 </td><td style=\"text-align: right;\">0.115625</td><td style=\"text-align: right;\">    10</td><td style=\"text-align: right;\">         7.96004</td></tr>\n",
       "<tr><td>train_mnist_7e741_00001</td><td>TERMINATED</td><td>     </td><td style=\"text-align: right;\">7.82379e-06</td><td style=\"text-align: right;\">  0.600244</td><td style=\"text-align: right;\">0.090625</td><td style=\"text-align: right;\">     4</td><td style=\"text-align: right;\">         5.30294</td></tr>\n",
       "<tr><td>train_mnist_7e741_00002</td><td>TERMINATED</td><td>     </td><td style=\"text-align: right;\">3.14944e-07</td><td style=\"text-align: right;\">  0.662429</td><td style=\"text-align: right;\">0.10625 </td><td style=\"text-align: right;\">     4</td><td style=\"text-align: right;\">         5.14607</td></tr>\n",
       "<tr><td>train_mnist_7e741_00003</td><td>TERMINATED</td><td>     </td><td style=\"text-align: right;\">3.48986e-05</td><td style=\"text-align: right;\">  0.656037</td><td style=\"text-align: right;\">0.18125 </td><td style=\"text-align: right;\">    10</td><td style=\"text-align: right;\">         6.39498</td></tr>\n",
       "<tr><td>train_mnist_7e741_00004</td><td>TERMINATED</td><td>     </td><td style=\"text-align: right;\">7.02169e-06</td><td style=\"text-align: right;\">  0.749465</td><td style=\"text-align: right;\">0.075   </td><td style=\"text-align: right;\">     1</td><td style=\"text-align: right;\">         4.30696</td></tr>\n",
       "<tr><td>train_mnist_7e741_00005</td><td>TERMINATED</td><td>     </td><td style=\"text-align: right;\">9.70547e-10</td><td style=\"text-align: right;\">  0.290944</td><td style=\"text-align: right;\">0.065625</td><td style=\"text-align: right;\">     1</td><td style=\"text-align: right;\">         4.40198</td></tr>\n",
       "<tr><td>train_mnist_7e741_00006</td><td>TERMINATED</td><td>     </td><td style=\"text-align: right;\">8.14338e-07</td><td style=\"text-align: right;\">  0.35172 </td><td style=\"text-align: right;\">0.109375</td><td style=\"text-align: right;\">     4</td><td style=\"text-align: right;\">         4.98607</td></tr>\n",
       "<tr><td>train_mnist_7e741_00007</td><td>TERMINATED</td><td>     </td><td style=\"text-align: right;\">5.7092e-09 </td><td style=\"text-align: right;\">  0.140243</td><td style=\"text-align: right;\">0.11875 </td><td style=\"text-align: right;\">    10</td><td style=\"text-align: right;\">         6.437  </td></tr>\n",
       "<tr><td>train_mnist_7e741_00008</td><td>TERMINATED</td><td>     </td><td style=\"text-align: right;\">0.00471154 </td><td style=\"text-align: right;\">  0.724455</td><td style=\"text-align: right;\">0.796875</td><td style=\"text-align: right;\">    10</td><td style=\"text-align: right;\">         6.70997</td></tr>\n",
       "<tr><td>train_mnist_7e741_00009</td><td>TERMINATED</td><td>     </td><td style=\"text-align: right;\">1.30192e-08</td><td style=\"text-align: right;\">  0.72695 </td><td style=\"text-align: right;\">0.1     </td><td style=\"text-align: right;\">     4</td><td style=\"text-align: right;\">         4.91703</td></tr>\n",
       "<tr><td>train_mnist_7e741_00010</td><td>TERMINATED</td><td>     </td><td style=\"text-align: right;\">1.21249e-09</td><td style=\"text-align: right;\">  0.755718</td><td style=\"text-align: right;\">0.103125</td><td style=\"text-align: right;\">     1</td><td style=\"text-align: right;\">         4.1598 </td></tr>\n",
       "<tr><td>train_mnist_7e741_00011</td><td>TERMINATED</td><td>     </td><td style=\"text-align: right;\">0.251514   </td><td style=\"text-align: right;\">  0.400495</td><td style=\"text-align: right;\">0.840625</td><td style=\"text-align: right;\">    10</td><td style=\"text-align: right;\">         6.42116</td></tr>\n",
       "<tr><td>train_mnist_7e741_00012</td><td>TERMINATED</td><td>     </td><td style=\"text-align: right;\">1.54382e-05</td><td style=\"text-align: right;\">  0.674477</td><td style=\"text-align: right;\">0.0875  </td><td style=\"text-align: right;\">     1</td><td style=\"text-align: right;\">         4.34755</td></tr>\n",
       "</tbody>\n",
       "</table><br><br>"
      ],
      "text/plain": [
       "<IPython.core.display.HTML object>"
      ]
     },
     "metadata": {},
     "output_type": "display_data"
    },
    {
     "name": "stdout",
     "output_type": "stream",
     "text": [
      "Result for train_mnist_7e741_00013:\n",
      "  date: 2021-02-01_21-48-01\n",
      "  done: false\n",
      "  experiment_id: 1752a6bbb38b41c28c8d26b10a2e955e\n",
      "  experiment_tag: 13_lr=1.6804e-10,momentum=0.56612\n",
      "  hostname: LAPTOP-C4PHJU11\n",
      "  iterations_since_restore: 1\n",
      "  mean_accuracy: 0.2125\n",
      "  node_ip: 172.16.1.2\n",
      "  pid: 2076\n",
      "  time_since_restore: 4.681015253067017\n",
      "  time_this_iter_s: 4.681015253067017\n",
      "  time_total_s: 4.681015253067017\n",
      "  timestamp: 1612212481\n",
      "  timesteps_since_restore: 0\n",
      "  training_iteration: 1\n",
      "  trial_id: 7e741_00013\n",
      "  \n"
     ]
    },
    {
     "data": {
      "text/html": [
       "== Status ==<br>Memory usage on this node: 18.0/31.9 GiB<br>Using AsyncHyperBand: num_stopped=8\n",
       "Bracket: Iter 64.000: None | Iter 16.000: None | Iter 4.000: 0.146875 | Iter 1.000: 0.15<br>Resources requested: 1/12 CPUs, 1/1 GPUs, 0.0/9.67 GiB heap, 0.0/3.32 GiB objects<br>Result logdir: C:\\Users\\Gilberto-BE\\ray_results\\train_mnist_2021-02-01_21-46-01<br>Number of trials: 15/20 (1 PENDING, 1 RUNNING, 13 TERMINATED)<br><table>\n",
       "<thead>\n",
       "<tr><th>Trial name             </th><th>status    </th><th>loc            </th><th style=\"text-align: right;\">         lr</th><th style=\"text-align: right;\">  momentum</th><th style=\"text-align: right;\">     acc</th><th style=\"text-align: right;\">  iter</th><th style=\"text-align: right;\">  total time (s)</th></tr>\n",
       "</thead>\n",
       "<tbody>\n",
       "<tr><td>train_mnist_7e741_00013</td><td>RUNNING   </td><td>172.16.1.2:2076</td><td style=\"text-align: right;\">1.68044e-10</td><td style=\"text-align: right;\">  0.566125</td><td style=\"text-align: right;\">0.2125  </td><td style=\"text-align: right;\">     1</td><td style=\"text-align: right;\">         4.68102</td></tr>\n",
       "<tr><td>train_mnist_7e741_00014</td><td>PENDING   </td><td>               </td><td style=\"text-align: right;\">1.37867e-05</td><td style=\"text-align: right;\">  0.740596</td><td style=\"text-align: right;\">        </td><td style=\"text-align: right;\">      </td><td style=\"text-align: right;\">                </td></tr>\n",
       "<tr><td>train_mnist_7e741_00000</td><td>TERMINATED</td><td>               </td><td style=\"text-align: right;\">0.000374364</td><td style=\"text-align: right;\">  0.40969 </td><td style=\"text-align: right;\">0.115625</td><td style=\"text-align: right;\">    10</td><td style=\"text-align: right;\">         7.96004</td></tr>\n",
       "<tr><td>train_mnist_7e741_00001</td><td>TERMINATED</td><td>               </td><td style=\"text-align: right;\">7.82379e-06</td><td style=\"text-align: right;\">  0.600244</td><td style=\"text-align: right;\">0.090625</td><td style=\"text-align: right;\">     4</td><td style=\"text-align: right;\">         5.30294</td></tr>\n",
       "<tr><td>train_mnist_7e741_00002</td><td>TERMINATED</td><td>               </td><td style=\"text-align: right;\">3.14944e-07</td><td style=\"text-align: right;\">  0.662429</td><td style=\"text-align: right;\">0.10625 </td><td style=\"text-align: right;\">     4</td><td style=\"text-align: right;\">         5.14607</td></tr>\n",
       "<tr><td>train_mnist_7e741_00003</td><td>TERMINATED</td><td>               </td><td style=\"text-align: right;\">3.48986e-05</td><td style=\"text-align: right;\">  0.656037</td><td style=\"text-align: right;\">0.18125 </td><td style=\"text-align: right;\">    10</td><td style=\"text-align: right;\">         6.39498</td></tr>\n",
       "<tr><td>train_mnist_7e741_00004</td><td>TERMINATED</td><td>               </td><td style=\"text-align: right;\">7.02169e-06</td><td style=\"text-align: right;\">  0.749465</td><td style=\"text-align: right;\">0.075   </td><td style=\"text-align: right;\">     1</td><td style=\"text-align: right;\">         4.30696</td></tr>\n",
       "<tr><td>train_mnist_7e741_00005</td><td>TERMINATED</td><td>               </td><td style=\"text-align: right;\">9.70547e-10</td><td style=\"text-align: right;\">  0.290944</td><td style=\"text-align: right;\">0.065625</td><td style=\"text-align: right;\">     1</td><td style=\"text-align: right;\">         4.40198</td></tr>\n",
       "<tr><td>train_mnist_7e741_00006</td><td>TERMINATED</td><td>               </td><td style=\"text-align: right;\">8.14338e-07</td><td style=\"text-align: right;\">  0.35172 </td><td style=\"text-align: right;\">0.109375</td><td style=\"text-align: right;\">     4</td><td style=\"text-align: right;\">         4.98607</td></tr>\n",
       "<tr><td>train_mnist_7e741_00007</td><td>TERMINATED</td><td>               </td><td style=\"text-align: right;\">5.7092e-09 </td><td style=\"text-align: right;\">  0.140243</td><td style=\"text-align: right;\">0.11875 </td><td style=\"text-align: right;\">    10</td><td style=\"text-align: right;\">         6.437  </td></tr>\n",
       "<tr><td>train_mnist_7e741_00008</td><td>TERMINATED</td><td>               </td><td style=\"text-align: right;\">0.00471154 </td><td style=\"text-align: right;\">  0.724455</td><td style=\"text-align: right;\">0.796875</td><td style=\"text-align: right;\">    10</td><td style=\"text-align: right;\">         6.70997</td></tr>\n",
       "<tr><td>train_mnist_7e741_00009</td><td>TERMINATED</td><td>               </td><td style=\"text-align: right;\">1.30192e-08</td><td style=\"text-align: right;\">  0.72695 </td><td style=\"text-align: right;\">0.1     </td><td style=\"text-align: right;\">     4</td><td style=\"text-align: right;\">         4.91703</td></tr>\n",
       "<tr><td>train_mnist_7e741_00010</td><td>TERMINATED</td><td>               </td><td style=\"text-align: right;\">1.21249e-09</td><td style=\"text-align: right;\">  0.755718</td><td style=\"text-align: right;\">0.103125</td><td style=\"text-align: right;\">     1</td><td style=\"text-align: right;\">         4.1598 </td></tr>\n",
       "<tr><td>train_mnist_7e741_00011</td><td>TERMINATED</td><td>               </td><td style=\"text-align: right;\">0.251514   </td><td style=\"text-align: right;\">  0.400495</td><td style=\"text-align: right;\">0.840625</td><td style=\"text-align: right;\">    10</td><td style=\"text-align: right;\">         6.42116</td></tr>\n",
       "<tr><td>train_mnist_7e741_00012</td><td>TERMINATED</td><td>               </td><td style=\"text-align: right;\">1.54382e-05</td><td style=\"text-align: right;\">  0.674477</td><td style=\"text-align: right;\">0.0875  </td><td style=\"text-align: right;\">     1</td><td style=\"text-align: right;\">         4.34755</td></tr>\n",
       "</tbody>\n",
       "</table><br><br>"
      ],
      "text/plain": [
       "<IPython.core.display.HTML object>"
      ]
     },
     "metadata": {},
     "output_type": "display_data"
    },
    {
     "name": "stdout",
     "output_type": "stream",
     "text": [
      "Result for train_mnist_7e741_00014:\n",
      "  date: 2021-02-01_21-48-15\n",
      "  done: true\n",
      "  experiment_id: 56793c9022884f0e8466459e5c3b7d5a\n",
      "  experiment_tag: 14_lr=1.3787e-05,momentum=0.7406\n",
      "  hostname: LAPTOP-C4PHJU11\n",
      "  iterations_since_restore: 1\n",
      "  mean_accuracy: 0.04375\n",
      "  node_ip: 172.16.1.2\n",
      "  pid: 28720\n",
      "  time_since_restore: 4.282364368438721\n",
      "  time_this_iter_s: 4.282364368438721\n",
      "  time_total_s: 4.282364368438721\n",
      "  timestamp: 1612212495\n",
      "  timesteps_since_restore: 0\n",
      "  training_iteration: 1\n",
      "  trial_id: 7e741_00014\n",
      "  \n"
     ]
    },
    {
     "data": {
      "text/html": [
       "== Status ==<br>Memory usage on this node: 17.9/31.9 GiB<br>Using AsyncHyperBand: num_stopped=9\n",
       "Bracket: Iter 64.000: None | Iter 16.000: None | Iter 4.000: 0.18671875000000002 | Iter 1.000: 0.140625<br>Resources requested: 0/12 CPUs, 0/1 GPUs, 0.0/9.67 GiB heap, 0.0/3.32 GiB objects<br>Result logdir: C:\\Users\\Gilberto-BE\\ray_results\\train_mnist_2021-02-01_21-46-01<br>Number of trials: 16/20 (1 PENDING, 15 TERMINATED)<br><table>\n",
       "<thead>\n",
       "<tr><th>Trial name             </th><th>status    </th><th>loc  </th><th style=\"text-align: right;\">         lr</th><th style=\"text-align: right;\">  momentum</th><th style=\"text-align: right;\">     acc</th><th style=\"text-align: right;\">  iter</th><th style=\"text-align: right;\">  total time (s)</th></tr>\n",
       "</thead>\n",
       "<tbody>\n",
       "<tr><td>train_mnist_7e741_00015</td><td>PENDING   </td><td>     </td><td style=\"text-align: right;\">1.45067e-05</td><td style=\"text-align: right;\">  0.454331</td><td style=\"text-align: right;\">        </td><td style=\"text-align: right;\">      </td><td style=\"text-align: right;\">                </td></tr>\n",
       "<tr><td>train_mnist_7e741_00000</td><td>TERMINATED</td><td>     </td><td style=\"text-align: right;\">0.000374364</td><td style=\"text-align: right;\">  0.40969 </td><td style=\"text-align: right;\">0.115625</td><td style=\"text-align: right;\">    10</td><td style=\"text-align: right;\">         7.96004</td></tr>\n",
       "<tr><td>train_mnist_7e741_00001</td><td>TERMINATED</td><td>     </td><td style=\"text-align: right;\">7.82379e-06</td><td style=\"text-align: right;\">  0.600244</td><td style=\"text-align: right;\">0.090625</td><td style=\"text-align: right;\">     4</td><td style=\"text-align: right;\">         5.30294</td></tr>\n",
       "<tr><td>train_mnist_7e741_00002</td><td>TERMINATED</td><td>     </td><td style=\"text-align: right;\">3.14944e-07</td><td style=\"text-align: right;\">  0.662429</td><td style=\"text-align: right;\">0.10625 </td><td style=\"text-align: right;\">     4</td><td style=\"text-align: right;\">         5.14607</td></tr>\n",
       "<tr><td>train_mnist_7e741_00003</td><td>TERMINATED</td><td>     </td><td style=\"text-align: right;\">3.48986e-05</td><td style=\"text-align: right;\">  0.656037</td><td style=\"text-align: right;\">0.18125 </td><td style=\"text-align: right;\">    10</td><td style=\"text-align: right;\">         6.39498</td></tr>\n",
       "<tr><td>train_mnist_7e741_00004</td><td>TERMINATED</td><td>     </td><td style=\"text-align: right;\">7.02169e-06</td><td style=\"text-align: right;\">  0.749465</td><td style=\"text-align: right;\">0.075   </td><td style=\"text-align: right;\">     1</td><td style=\"text-align: right;\">         4.30696</td></tr>\n",
       "<tr><td>train_mnist_7e741_00005</td><td>TERMINATED</td><td>     </td><td style=\"text-align: right;\">9.70547e-10</td><td style=\"text-align: right;\">  0.290944</td><td style=\"text-align: right;\">0.065625</td><td style=\"text-align: right;\">     1</td><td style=\"text-align: right;\">         4.40198</td></tr>\n",
       "<tr><td>train_mnist_7e741_00006</td><td>TERMINATED</td><td>     </td><td style=\"text-align: right;\">8.14338e-07</td><td style=\"text-align: right;\">  0.35172 </td><td style=\"text-align: right;\">0.109375</td><td style=\"text-align: right;\">     4</td><td style=\"text-align: right;\">         4.98607</td></tr>\n",
       "<tr><td>train_mnist_7e741_00007</td><td>TERMINATED</td><td>     </td><td style=\"text-align: right;\">5.7092e-09 </td><td style=\"text-align: right;\">  0.140243</td><td style=\"text-align: right;\">0.11875 </td><td style=\"text-align: right;\">    10</td><td style=\"text-align: right;\">         6.437  </td></tr>\n",
       "<tr><td>train_mnist_7e741_00008</td><td>TERMINATED</td><td>     </td><td style=\"text-align: right;\">0.00471154 </td><td style=\"text-align: right;\">  0.724455</td><td style=\"text-align: right;\">0.796875</td><td style=\"text-align: right;\">    10</td><td style=\"text-align: right;\">         6.70997</td></tr>\n",
       "<tr><td>train_mnist_7e741_00009</td><td>TERMINATED</td><td>     </td><td style=\"text-align: right;\">1.30192e-08</td><td style=\"text-align: right;\">  0.72695 </td><td style=\"text-align: right;\">0.1     </td><td style=\"text-align: right;\">     4</td><td style=\"text-align: right;\">         4.91703</td></tr>\n",
       "<tr><td>train_mnist_7e741_00010</td><td>TERMINATED</td><td>     </td><td style=\"text-align: right;\">1.21249e-09</td><td style=\"text-align: right;\">  0.755718</td><td style=\"text-align: right;\">0.103125</td><td style=\"text-align: right;\">     1</td><td style=\"text-align: right;\">         4.1598 </td></tr>\n",
       "<tr><td>train_mnist_7e741_00011</td><td>TERMINATED</td><td>     </td><td style=\"text-align: right;\">0.251514   </td><td style=\"text-align: right;\">  0.400495</td><td style=\"text-align: right;\">0.840625</td><td style=\"text-align: right;\">    10</td><td style=\"text-align: right;\">         6.42116</td></tr>\n",
       "<tr><td>train_mnist_7e741_00012</td><td>TERMINATED</td><td>     </td><td style=\"text-align: right;\">1.54382e-05</td><td style=\"text-align: right;\">  0.674477</td><td style=\"text-align: right;\">0.0875  </td><td style=\"text-align: right;\">     1</td><td style=\"text-align: right;\">         4.34755</td></tr>\n",
       "<tr><td>train_mnist_7e741_00013</td><td>TERMINATED</td><td>     </td><td style=\"text-align: right;\">1.68044e-10</td><td style=\"text-align: right;\">  0.566125</td><td style=\"text-align: right;\">0.271875</td><td style=\"text-align: right;\">    10</td><td style=\"text-align: right;\">         6.93536</td></tr>\n",
       "<tr><td>train_mnist_7e741_00014</td><td>TERMINATED</td><td>     </td><td style=\"text-align: right;\">1.37867e-05</td><td style=\"text-align: right;\">  0.740596</td><td style=\"text-align: right;\">0.04375 </td><td style=\"text-align: right;\">     1</td><td style=\"text-align: right;\">         4.28236</td></tr>\n",
       "</tbody>\n",
       "</table><br><br>"
      ],
      "text/plain": [
       "<IPython.core.display.HTML object>"
      ]
     },
     "metadata": {},
     "output_type": "display_data"
    },
    {
     "name": "stdout",
     "output_type": "stream",
     "text": [
      "Result for train_mnist_7e741_00015:\n",
      "  date: 2021-02-01_21-48-27\n",
      "  done: true\n",
      "  experiment_id: 50bd64c667644b249b0900f017f14028\n",
      "  experiment_tag: 15_lr=1.4507e-05,momentum=0.45433\n",
      "  hostname: LAPTOP-C4PHJU11\n",
      "  iterations_since_restore: 1\n",
      "  mean_accuracy: 0.084375\n",
      "  node_ip: 172.16.1.2\n",
      "  pid: 13364\n",
      "  time_since_restore: 4.197697401046753\n",
      "  time_this_iter_s: 4.197697401046753\n",
      "  time_total_s: 4.197697401046753\n",
      "  timestamp: 1612212507\n",
      "  timesteps_since_restore: 0\n",
      "  training_iteration: 1\n",
      "  trial_id: 7e741_00015\n",
      "  \n"
     ]
    },
    {
     "data": {
      "text/html": [
       "== Status ==<br>Memory usage on this node: 17.9/31.9 GiB<br>Using AsyncHyperBand: num_stopped=10\n",
       "Bracket: Iter 64.000: None | Iter 16.000: None | Iter 4.000: 0.18671875000000002 | Iter 1.000: 0.13124999999999998<br>Resources requested: 0/12 CPUs, 0/1 GPUs, 0.0/9.67 GiB heap, 0.0/3.32 GiB objects<br>Result logdir: C:\\Users\\Gilberto-BE\\ray_results\\train_mnist_2021-02-01_21-46-01<br>Number of trials: 17/20 (1 PENDING, 16 TERMINATED)<br><table>\n",
       "<thead>\n",
       "<tr><th>Trial name             </th><th>status    </th><th>loc  </th><th style=\"text-align: right;\">         lr</th><th style=\"text-align: right;\">  momentum</th><th style=\"text-align: right;\">     acc</th><th style=\"text-align: right;\">  iter</th><th style=\"text-align: right;\">  total time (s)</th></tr>\n",
       "</thead>\n",
       "<tbody>\n",
       "<tr><td>train_mnist_7e741_00016</td><td>PENDING   </td><td>     </td><td style=\"text-align: right;\">0.0851098  </td><td style=\"text-align: right;\">  0.369264</td><td style=\"text-align: right;\">        </td><td style=\"text-align: right;\">      </td><td style=\"text-align: right;\">                </td></tr>\n",
       "<tr><td>train_mnist_7e741_00000</td><td>TERMINATED</td><td>     </td><td style=\"text-align: right;\">0.000374364</td><td style=\"text-align: right;\">  0.40969 </td><td style=\"text-align: right;\">0.115625</td><td style=\"text-align: right;\">    10</td><td style=\"text-align: right;\">         7.96004</td></tr>\n",
       "<tr><td>train_mnist_7e741_00001</td><td>TERMINATED</td><td>     </td><td style=\"text-align: right;\">7.82379e-06</td><td style=\"text-align: right;\">  0.600244</td><td style=\"text-align: right;\">0.090625</td><td style=\"text-align: right;\">     4</td><td style=\"text-align: right;\">         5.30294</td></tr>\n",
       "<tr><td>train_mnist_7e741_00002</td><td>TERMINATED</td><td>     </td><td style=\"text-align: right;\">3.14944e-07</td><td style=\"text-align: right;\">  0.662429</td><td style=\"text-align: right;\">0.10625 </td><td style=\"text-align: right;\">     4</td><td style=\"text-align: right;\">         5.14607</td></tr>\n",
       "<tr><td>train_mnist_7e741_00003</td><td>TERMINATED</td><td>     </td><td style=\"text-align: right;\">3.48986e-05</td><td style=\"text-align: right;\">  0.656037</td><td style=\"text-align: right;\">0.18125 </td><td style=\"text-align: right;\">    10</td><td style=\"text-align: right;\">         6.39498</td></tr>\n",
       "<tr><td>train_mnist_7e741_00004</td><td>TERMINATED</td><td>     </td><td style=\"text-align: right;\">7.02169e-06</td><td style=\"text-align: right;\">  0.749465</td><td style=\"text-align: right;\">0.075   </td><td style=\"text-align: right;\">     1</td><td style=\"text-align: right;\">         4.30696</td></tr>\n",
       "<tr><td>train_mnist_7e741_00005</td><td>TERMINATED</td><td>     </td><td style=\"text-align: right;\">9.70547e-10</td><td style=\"text-align: right;\">  0.290944</td><td style=\"text-align: right;\">0.065625</td><td style=\"text-align: right;\">     1</td><td style=\"text-align: right;\">         4.40198</td></tr>\n",
       "<tr><td>train_mnist_7e741_00006</td><td>TERMINATED</td><td>     </td><td style=\"text-align: right;\">8.14338e-07</td><td style=\"text-align: right;\">  0.35172 </td><td style=\"text-align: right;\">0.109375</td><td style=\"text-align: right;\">     4</td><td style=\"text-align: right;\">         4.98607</td></tr>\n",
       "<tr><td>train_mnist_7e741_00007</td><td>TERMINATED</td><td>     </td><td style=\"text-align: right;\">5.7092e-09 </td><td style=\"text-align: right;\">  0.140243</td><td style=\"text-align: right;\">0.11875 </td><td style=\"text-align: right;\">    10</td><td style=\"text-align: right;\">         6.437  </td></tr>\n",
       "<tr><td>train_mnist_7e741_00008</td><td>TERMINATED</td><td>     </td><td style=\"text-align: right;\">0.00471154 </td><td style=\"text-align: right;\">  0.724455</td><td style=\"text-align: right;\">0.796875</td><td style=\"text-align: right;\">    10</td><td style=\"text-align: right;\">         6.70997</td></tr>\n",
       "<tr><td>train_mnist_7e741_00009</td><td>TERMINATED</td><td>     </td><td style=\"text-align: right;\">1.30192e-08</td><td style=\"text-align: right;\">  0.72695 </td><td style=\"text-align: right;\">0.1     </td><td style=\"text-align: right;\">     4</td><td style=\"text-align: right;\">         4.91703</td></tr>\n",
       "<tr><td>train_mnist_7e741_00010</td><td>TERMINATED</td><td>     </td><td style=\"text-align: right;\">1.21249e-09</td><td style=\"text-align: right;\">  0.755718</td><td style=\"text-align: right;\">0.103125</td><td style=\"text-align: right;\">     1</td><td style=\"text-align: right;\">         4.1598 </td></tr>\n",
       "<tr><td>train_mnist_7e741_00011</td><td>TERMINATED</td><td>     </td><td style=\"text-align: right;\">0.251514   </td><td style=\"text-align: right;\">  0.400495</td><td style=\"text-align: right;\">0.840625</td><td style=\"text-align: right;\">    10</td><td style=\"text-align: right;\">         6.42116</td></tr>\n",
       "<tr><td>train_mnist_7e741_00012</td><td>TERMINATED</td><td>     </td><td style=\"text-align: right;\">1.54382e-05</td><td style=\"text-align: right;\">  0.674477</td><td style=\"text-align: right;\">0.0875  </td><td style=\"text-align: right;\">     1</td><td style=\"text-align: right;\">         4.34755</td></tr>\n",
       "<tr><td>train_mnist_7e741_00013</td><td>TERMINATED</td><td>     </td><td style=\"text-align: right;\">1.68044e-10</td><td style=\"text-align: right;\">  0.566125</td><td style=\"text-align: right;\">0.271875</td><td style=\"text-align: right;\">    10</td><td style=\"text-align: right;\">         6.93536</td></tr>\n",
       "<tr><td>train_mnist_7e741_00014</td><td>TERMINATED</td><td>     </td><td style=\"text-align: right;\">1.37867e-05</td><td style=\"text-align: right;\">  0.740596</td><td style=\"text-align: right;\">0.04375 </td><td style=\"text-align: right;\">     1</td><td style=\"text-align: right;\">         4.28236</td></tr>\n",
       "<tr><td>train_mnist_7e741_00015</td><td>TERMINATED</td><td>     </td><td style=\"text-align: right;\">1.45067e-05</td><td style=\"text-align: right;\">  0.454331</td><td style=\"text-align: right;\">0.084375</td><td style=\"text-align: right;\">     1</td><td style=\"text-align: right;\">         4.1977 </td></tr>\n",
       "</tbody>\n",
       "</table><br><br>"
      ],
      "text/plain": [
       "<IPython.core.display.HTML object>"
      ]
     },
     "metadata": {},
     "output_type": "display_data"
    },
    {
     "name": "stdout",
     "output_type": "stream",
     "text": [
      "Result for train_mnist_7e741_00016:\n",
      "  date: 2021-02-01_21-48-38\n",
      "  done: false\n",
      "  experiment_id: 7f5d52d5f13343098b07d7260ad5b4f4\n",
      "  experiment_tag: 16_lr=0.08511,momentum=0.36926\n",
      "  hostname: LAPTOP-C4PHJU11\n",
      "  iterations_since_restore: 1\n",
      "  mean_accuracy: 0.303125\n",
      "  node_ip: 172.16.1.2\n",
      "  pid: 25036\n",
      "  time_since_restore: 4.352734565734863\n",
      "  time_this_iter_s: 4.352734565734863\n",
      "  time_total_s: 4.352734565734863\n",
      "  timestamp: 1612212518\n",
      "  timesteps_since_restore: 0\n",
      "  training_iteration: 1\n",
      "  trial_id: 7e741_00016\n",
      "  \n"
     ]
    },
    {
     "data": {
      "text/html": [
       "== Status ==<br>Memory usage on this node: 18.2/31.9 GiB<br>Using AsyncHyperBand: num_stopped=10\n",
       "Bracket: Iter 64.000: None | Iter 16.000: None | Iter 4.000: 0.18671875000000002 | Iter 1.000: 0.159375<br>Resources requested: 1/12 CPUs, 1/1 GPUs, 0.0/9.67 GiB heap, 0.0/3.32 GiB objects<br>Result logdir: C:\\Users\\Gilberto-BE\\ray_results\\train_mnist_2021-02-01_21-46-01<br>Number of trials: 18/20 (1 PENDING, 1 RUNNING, 16 TERMINATED)<br><table>\n",
       "<thead>\n",
       "<tr><th>Trial name             </th><th>status    </th><th>loc             </th><th style=\"text-align: right;\">         lr</th><th style=\"text-align: right;\">  momentum</th><th style=\"text-align: right;\">     acc</th><th style=\"text-align: right;\">  iter</th><th style=\"text-align: right;\">  total time (s)</th></tr>\n",
       "</thead>\n",
       "<tbody>\n",
       "<tr><td>train_mnist_7e741_00016</td><td>RUNNING   </td><td>172.16.1.2:25036</td><td style=\"text-align: right;\">0.0851098  </td><td style=\"text-align: right;\">  0.369264</td><td style=\"text-align: right;\">0.303125</td><td style=\"text-align: right;\">     1</td><td style=\"text-align: right;\">         4.35273</td></tr>\n",
       "<tr><td>train_mnist_7e741_00017</td><td>PENDING   </td><td>                </td><td style=\"text-align: right;\">4.52179e-08</td><td style=\"text-align: right;\">  0.468265</td><td style=\"text-align: right;\">        </td><td style=\"text-align: right;\">      </td><td style=\"text-align: right;\">                </td></tr>\n",
       "<tr><td>train_mnist_7e741_00000</td><td>TERMINATED</td><td>                </td><td style=\"text-align: right;\">0.000374364</td><td style=\"text-align: right;\">  0.40969 </td><td style=\"text-align: right;\">0.115625</td><td style=\"text-align: right;\">    10</td><td style=\"text-align: right;\">         7.96004</td></tr>\n",
       "<tr><td>train_mnist_7e741_00001</td><td>TERMINATED</td><td>                </td><td style=\"text-align: right;\">7.82379e-06</td><td style=\"text-align: right;\">  0.600244</td><td style=\"text-align: right;\">0.090625</td><td style=\"text-align: right;\">     4</td><td style=\"text-align: right;\">         5.30294</td></tr>\n",
       "<tr><td>train_mnist_7e741_00002</td><td>TERMINATED</td><td>                </td><td style=\"text-align: right;\">3.14944e-07</td><td style=\"text-align: right;\">  0.662429</td><td style=\"text-align: right;\">0.10625 </td><td style=\"text-align: right;\">     4</td><td style=\"text-align: right;\">         5.14607</td></tr>\n",
       "<tr><td>train_mnist_7e741_00003</td><td>TERMINATED</td><td>                </td><td style=\"text-align: right;\">3.48986e-05</td><td style=\"text-align: right;\">  0.656037</td><td style=\"text-align: right;\">0.18125 </td><td style=\"text-align: right;\">    10</td><td style=\"text-align: right;\">         6.39498</td></tr>\n",
       "<tr><td>train_mnist_7e741_00004</td><td>TERMINATED</td><td>                </td><td style=\"text-align: right;\">7.02169e-06</td><td style=\"text-align: right;\">  0.749465</td><td style=\"text-align: right;\">0.075   </td><td style=\"text-align: right;\">     1</td><td style=\"text-align: right;\">         4.30696</td></tr>\n",
       "<tr><td>train_mnist_7e741_00005</td><td>TERMINATED</td><td>                </td><td style=\"text-align: right;\">9.70547e-10</td><td style=\"text-align: right;\">  0.290944</td><td style=\"text-align: right;\">0.065625</td><td style=\"text-align: right;\">     1</td><td style=\"text-align: right;\">         4.40198</td></tr>\n",
       "<tr><td>train_mnist_7e741_00006</td><td>TERMINATED</td><td>                </td><td style=\"text-align: right;\">8.14338e-07</td><td style=\"text-align: right;\">  0.35172 </td><td style=\"text-align: right;\">0.109375</td><td style=\"text-align: right;\">     4</td><td style=\"text-align: right;\">         4.98607</td></tr>\n",
       "<tr><td>train_mnist_7e741_00007</td><td>TERMINATED</td><td>                </td><td style=\"text-align: right;\">5.7092e-09 </td><td style=\"text-align: right;\">  0.140243</td><td style=\"text-align: right;\">0.11875 </td><td style=\"text-align: right;\">    10</td><td style=\"text-align: right;\">         6.437  </td></tr>\n",
       "<tr><td>train_mnist_7e741_00008</td><td>TERMINATED</td><td>                </td><td style=\"text-align: right;\">0.00471154 </td><td style=\"text-align: right;\">  0.724455</td><td style=\"text-align: right;\">0.796875</td><td style=\"text-align: right;\">    10</td><td style=\"text-align: right;\">         6.70997</td></tr>\n",
       "<tr><td>train_mnist_7e741_00009</td><td>TERMINATED</td><td>                </td><td style=\"text-align: right;\">1.30192e-08</td><td style=\"text-align: right;\">  0.72695 </td><td style=\"text-align: right;\">0.1     </td><td style=\"text-align: right;\">     4</td><td style=\"text-align: right;\">         4.91703</td></tr>\n",
       "<tr><td>train_mnist_7e741_00010</td><td>TERMINATED</td><td>                </td><td style=\"text-align: right;\">1.21249e-09</td><td style=\"text-align: right;\">  0.755718</td><td style=\"text-align: right;\">0.103125</td><td style=\"text-align: right;\">     1</td><td style=\"text-align: right;\">         4.1598 </td></tr>\n",
       "<tr><td>train_mnist_7e741_00011</td><td>TERMINATED</td><td>                </td><td style=\"text-align: right;\">0.251514   </td><td style=\"text-align: right;\">  0.400495</td><td style=\"text-align: right;\">0.840625</td><td style=\"text-align: right;\">    10</td><td style=\"text-align: right;\">         6.42116</td></tr>\n",
       "<tr><td>train_mnist_7e741_00012</td><td>TERMINATED</td><td>                </td><td style=\"text-align: right;\">1.54382e-05</td><td style=\"text-align: right;\">  0.674477</td><td style=\"text-align: right;\">0.0875  </td><td style=\"text-align: right;\">     1</td><td style=\"text-align: right;\">         4.34755</td></tr>\n",
       "<tr><td>train_mnist_7e741_00013</td><td>TERMINATED</td><td>                </td><td style=\"text-align: right;\">1.68044e-10</td><td style=\"text-align: right;\">  0.566125</td><td style=\"text-align: right;\">0.271875</td><td style=\"text-align: right;\">    10</td><td style=\"text-align: right;\">         6.93536</td></tr>\n",
       "<tr><td>train_mnist_7e741_00014</td><td>TERMINATED</td><td>                </td><td style=\"text-align: right;\">1.37867e-05</td><td style=\"text-align: right;\">  0.740596</td><td style=\"text-align: right;\">0.04375 </td><td style=\"text-align: right;\">     1</td><td style=\"text-align: right;\">         4.28236</td></tr>\n",
       "<tr><td>train_mnist_7e741_00015</td><td>TERMINATED</td><td>                </td><td style=\"text-align: right;\">1.45067e-05</td><td style=\"text-align: right;\">  0.454331</td><td style=\"text-align: right;\">0.084375</td><td style=\"text-align: right;\">     1</td><td style=\"text-align: right;\">         4.1977 </td></tr>\n",
       "</tbody>\n",
       "</table><br><br>"
      ],
      "text/plain": [
       "<IPython.core.display.HTML object>"
      ]
     },
     "metadata": {},
     "output_type": "display_data"
    },
    {
     "name": "stderr",
     "output_type": "stream",
     "text": [
      "2021-02-01 21:48:42,569\tWARNING worker.py:1091 -- The actor or task with ID ffffffffffffffff205ffc5701000000 is pending and cannot currently be scheduled. It requires {CPU: 1.000000}, {GPU: 1.000000} for execution and {CPU: 1.000000}, {GPU: 1.000000} for placement, but this node only has remaining {node:172.16.1.2: 1.000000}, {CPU: 12.000000}, {object_store_memory: 3.320312 GiB}, {memory: 9.667969 GiB}, {GPU: 1.000000}. In total there are 0 pending tasks and 1 pending actors on this node. This is likely due to all cluster resources being claimed by actors. To resolve the issue, consider creating fewer actors or increase the resources available to this Ray cluster. You can ignore this message if this Ray cluster is expected to auto-scale.\n"
     ]
    },
    {
     "name": "stdout",
     "output_type": "stream",
     "text": [
      "Result for train_mnist_7e741_00017:\n",
      "  date: 2021-02-01_21-48-52\n",
      "  done: true\n",
      "  experiment_id: d7380c4d4fc4433cbaea4d522fd95532\n",
      "  experiment_tag: 17_lr=4.5218e-08,momentum=0.46827\n",
      "  hostname: LAPTOP-C4PHJU11\n",
      "  iterations_since_restore: 1\n",
      "  mean_accuracy: 0.084375\n",
      "  node_ip: 172.16.1.2\n",
      "  pid: 8256\n",
      "  time_since_restore: 4.267190933227539\n",
      "  time_this_iter_s: 4.267190933227539\n",
      "  time_total_s: 4.267190933227539\n",
      "  timestamp: 1612212532\n",
      "  timesteps_since_restore: 0\n",
      "  training_iteration: 1\n",
      "  trial_id: 7e741_00017\n",
      "  \n"
     ]
    },
    {
     "data": {
      "text/html": [
       "== Status ==<br>Memory usage on this node: 18.1/31.9 GiB<br>Using AsyncHyperBand: num_stopped=11\n",
       "Bracket: Iter 64.000: None | Iter 16.000: None | Iter 4.000: 0.4078125 | Iter 1.000: 0.15<br>Resources requested: 0/12 CPUs, 0/1 GPUs, 0.0/9.67 GiB heap, 0.0/3.32 GiB objects<br>Result logdir: C:\\Users\\Gilberto-BE\\ray_results\\train_mnist_2021-02-01_21-46-01<br>Number of trials: 19/20 (1 PENDING, 18 TERMINATED)<br><table>\n",
       "<thead>\n",
       "<tr><th>Trial name             </th><th>status    </th><th>loc  </th><th style=\"text-align: right;\">         lr</th><th style=\"text-align: right;\">  momentum</th><th style=\"text-align: right;\">     acc</th><th style=\"text-align: right;\">  iter</th><th style=\"text-align: right;\">  total time (s)</th></tr>\n",
       "</thead>\n",
       "<tbody>\n",
       "<tr><td>train_mnist_7e741_00018</td><td>PENDING   </td><td>     </td><td style=\"text-align: right;\">0.00611605 </td><td style=\"text-align: right;\">  0.877883</td><td style=\"text-align: right;\">        </td><td style=\"text-align: right;\">      </td><td style=\"text-align: right;\">                </td></tr>\n",
       "<tr><td>train_mnist_7e741_00000</td><td>TERMINATED</td><td>     </td><td style=\"text-align: right;\">0.000374364</td><td style=\"text-align: right;\">  0.40969 </td><td style=\"text-align: right;\">0.115625</td><td style=\"text-align: right;\">    10</td><td style=\"text-align: right;\">         7.96004</td></tr>\n",
       "<tr><td>train_mnist_7e741_00001</td><td>TERMINATED</td><td>     </td><td style=\"text-align: right;\">7.82379e-06</td><td style=\"text-align: right;\">  0.600244</td><td style=\"text-align: right;\">0.090625</td><td style=\"text-align: right;\">     4</td><td style=\"text-align: right;\">         5.30294</td></tr>\n",
       "<tr><td>train_mnist_7e741_00002</td><td>TERMINATED</td><td>     </td><td style=\"text-align: right;\">3.14944e-07</td><td style=\"text-align: right;\">  0.662429</td><td style=\"text-align: right;\">0.10625 </td><td style=\"text-align: right;\">     4</td><td style=\"text-align: right;\">         5.14607</td></tr>\n",
       "<tr><td>train_mnist_7e741_00003</td><td>TERMINATED</td><td>     </td><td style=\"text-align: right;\">3.48986e-05</td><td style=\"text-align: right;\">  0.656037</td><td style=\"text-align: right;\">0.18125 </td><td style=\"text-align: right;\">    10</td><td style=\"text-align: right;\">         6.39498</td></tr>\n",
       "<tr><td>train_mnist_7e741_00004</td><td>TERMINATED</td><td>     </td><td style=\"text-align: right;\">7.02169e-06</td><td style=\"text-align: right;\">  0.749465</td><td style=\"text-align: right;\">0.075   </td><td style=\"text-align: right;\">     1</td><td style=\"text-align: right;\">         4.30696</td></tr>\n",
       "<tr><td>train_mnist_7e741_00005</td><td>TERMINATED</td><td>     </td><td style=\"text-align: right;\">9.70547e-10</td><td style=\"text-align: right;\">  0.290944</td><td style=\"text-align: right;\">0.065625</td><td style=\"text-align: right;\">     1</td><td style=\"text-align: right;\">         4.40198</td></tr>\n",
       "<tr><td>train_mnist_7e741_00006</td><td>TERMINATED</td><td>     </td><td style=\"text-align: right;\">8.14338e-07</td><td style=\"text-align: right;\">  0.35172 </td><td style=\"text-align: right;\">0.109375</td><td style=\"text-align: right;\">     4</td><td style=\"text-align: right;\">         4.98607</td></tr>\n",
       "<tr><td>train_mnist_7e741_00007</td><td>TERMINATED</td><td>     </td><td style=\"text-align: right;\">5.7092e-09 </td><td style=\"text-align: right;\">  0.140243</td><td style=\"text-align: right;\">0.11875 </td><td style=\"text-align: right;\">    10</td><td style=\"text-align: right;\">         6.437  </td></tr>\n",
       "<tr><td>train_mnist_7e741_00008</td><td>TERMINATED</td><td>     </td><td style=\"text-align: right;\">0.00471154 </td><td style=\"text-align: right;\">  0.724455</td><td style=\"text-align: right;\">0.796875</td><td style=\"text-align: right;\">    10</td><td style=\"text-align: right;\">         6.70997</td></tr>\n",
       "<tr><td>train_mnist_7e741_00009</td><td>TERMINATED</td><td>     </td><td style=\"text-align: right;\">1.30192e-08</td><td style=\"text-align: right;\">  0.72695 </td><td style=\"text-align: right;\">0.1     </td><td style=\"text-align: right;\">     4</td><td style=\"text-align: right;\">         4.91703</td></tr>\n",
       "<tr><td>train_mnist_7e741_00010</td><td>TERMINATED</td><td>     </td><td style=\"text-align: right;\">1.21249e-09</td><td style=\"text-align: right;\">  0.755718</td><td style=\"text-align: right;\">0.103125</td><td style=\"text-align: right;\">     1</td><td style=\"text-align: right;\">         4.1598 </td></tr>\n",
       "<tr><td>train_mnist_7e741_00011</td><td>TERMINATED</td><td>     </td><td style=\"text-align: right;\">0.251514   </td><td style=\"text-align: right;\">  0.400495</td><td style=\"text-align: right;\">0.840625</td><td style=\"text-align: right;\">    10</td><td style=\"text-align: right;\">         6.42116</td></tr>\n",
       "<tr><td>train_mnist_7e741_00012</td><td>TERMINATED</td><td>     </td><td style=\"text-align: right;\">1.54382e-05</td><td style=\"text-align: right;\">  0.674477</td><td style=\"text-align: right;\">0.0875  </td><td style=\"text-align: right;\">     1</td><td style=\"text-align: right;\">         4.34755</td></tr>\n",
       "<tr><td>train_mnist_7e741_00013</td><td>TERMINATED</td><td>     </td><td style=\"text-align: right;\">1.68044e-10</td><td style=\"text-align: right;\">  0.566125</td><td style=\"text-align: right;\">0.271875</td><td style=\"text-align: right;\">    10</td><td style=\"text-align: right;\">         6.93536</td></tr>\n",
       "<tr><td>train_mnist_7e741_00014</td><td>TERMINATED</td><td>     </td><td style=\"text-align: right;\">1.37867e-05</td><td style=\"text-align: right;\">  0.740596</td><td style=\"text-align: right;\">0.04375 </td><td style=\"text-align: right;\">     1</td><td style=\"text-align: right;\">         4.28236</td></tr>\n",
       "<tr><td>train_mnist_7e741_00015</td><td>TERMINATED</td><td>     </td><td style=\"text-align: right;\">1.45067e-05</td><td style=\"text-align: right;\">  0.454331</td><td style=\"text-align: right;\">0.084375</td><td style=\"text-align: right;\">     1</td><td style=\"text-align: right;\">         4.1977 </td></tr>\n",
       "<tr><td>train_mnist_7e741_00016</td><td>TERMINATED</td><td>     </td><td style=\"text-align: right;\">0.0851098  </td><td style=\"text-align: right;\">  0.369264</td><td style=\"text-align: right;\">0.89375 </td><td style=\"text-align: right;\">    10</td><td style=\"text-align: right;\">         6.42261</td></tr>\n",
       "<tr><td>train_mnist_7e741_00017</td><td>TERMINATED</td><td>     </td><td style=\"text-align: right;\">4.52179e-08</td><td style=\"text-align: right;\">  0.468265</td><td style=\"text-align: right;\">0.084375</td><td style=\"text-align: right;\">     1</td><td style=\"text-align: right;\">         4.26719</td></tr>\n",
       "</tbody>\n",
       "</table><br><br>"
      ],
      "text/plain": [
       "<IPython.core.display.HTML object>"
      ]
     },
     "metadata": {},
     "output_type": "display_data"
    },
    {
     "name": "stdout",
     "output_type": "stream",
     "text": [
      "Result for train_mnist_7e741_00018:\n",
      "  date: 2021-02-01_21-49-03\n",
      "  done: false\n",
      "  experiment_id: 526e2611b8f04340bffc9b1dece9a180\n",
      "  experiment_tag: 18_lr=0.0061161,momentum=0.87788\n",
      "  hostname: LAPTOP-C4PHJU11\n",
      "  iterations_since_restore: 1\n",
      "  mean_accuracy: 0.221875\n",
      "  node_ip: 172.16.1.2\n",
      "  pid: 24312\n",
      "  time_since_restore: 4.177996873855591\n",
      "  time_this_iter_s: 4.177996873855591\n",
      "  time_total_s: 4.177996873855591\n",
      "  timestamp: 1612212543\n",
      "  timesteps_since_restore: 0\n",
      "  training_iteration: 1\n",
      "  trial_id: 7e741_00018\n",
      "  \n"
     ]
    },
    {
     "data": {
      "text/html": [
       "== Status ==<br>Memory usage on this node: 18.2/31.9 GiB<br>Using AsyncHyperBand: num_stopped=11\n",
       "Bracket: Iter 64.000: None | Iter 16.000: None | Iter 4.000: 0.4078125 | Iter 1.000: 0.165625<br>Resources requested: 1/12 CPUs, 1/1 GPUs, 0.0/9.67 GiB heap, 0.0/3.32 GiB objects<br>Result logdir: C:\\Users\\Gilberto-BE\\ray_results\\train_mnist_2021-02-01_21-46-01<br>Number of trials: 20/20 (1 PENDING, 1 RUNNING, 18 TERMINATED)<br><table>\n",
       "<thead>\n",
       "<tr><th>Trial name             </th><th>status    </th><th>loc             </th><th style=\"text-align: right;\">         lr</th><th style=\"text-align: right;\">  momentum</th><th style=\"text-align: right;\">     acc</th><th style=\"text-align: right;\">  iter</th><th style=\"text-align: right;\">  total time (s)</th></tr>\n",
       "</thead>\n",
       "<tbody>\n",
       "<tr><td>train_mnist_7e741_00018</td><td>RUNNING   </td><td>172.16.1.2:24312</td><td style=\"text-align: right;\">0.00611605 </td><td style=\"text-align: right;\">  0.877883</td><td style=\"text-align: right;\">0.221875</td><td style=\"text-align: right;\">     1</td><td style=\"text-align: right;\">         4.178  </td></tr>\n",
       "<tr><td>train_mnist_7e741_00019</td><td>PENDING   </td><td>                </td><td style=\"text-align: right;\">4.6346e-09 </td><td style=\"text-align: right;\">  0.617887</td><td style=\"text-align: right;\">        </td><td style=\"text-align: right;\">      </td><td style=\"text-align: right;\">                </td></tr>\n",
       "<tr><td>train_mnist_7e741_00000</td><td>TERMINATED</td><td>                </td><td style=\"text-align: right;\">0.000374364</td><td style=\"text-align: right;\">  0.40969 </td><td style=\"text-align: right;\">0.115625</td><td style=\"text-align: right;\">    10</td><td style=\"text-align: right;\">         7.96004</td></tr>\n",
       "<tr><td>train_mnist_7e741_00001</td><td>TERMINATED</td><td>                </td><td style=\"text-align: right;\">7.82379e-06</td><td style=\"text-align: right;\">  0.600244</td><td style=\"text-align: right;\">0.090625</td><td style=\"text-align: right;\">     4</td><td style=\"text-align: right;\">         5.30294</td></tr>\n",
       "<tr><td>train_mnist_7e741_00002</td><td>TERMINATED</td><td>                </td><td style=\"text-align: right;\">3.14944e-07</td><td style=\"text-align: right;\">  0.662429</td><td style=\"text-align: right;\">0.10625 </td><td style=\"text-align: right;\">     4</td><td style=\"text-align: right;\">         5.14607</td></tr>\n",
       "<tr><td>train_mnist_7e741_00003</td><td>TERMINATED</td><td>                </td><td style=\"text-align: right;\">3.48986e-05</td><td style=\"text-align: right;\">  0.656037</td><td style=\"text-align: right;\">0.18125 </td><td style=\"text-align: right;\">    10</td><td style=\"text-align: right;\">         6.39498</td></tr>\n",
       "<tr><td>train_mnist_7e741_00004</td><td>TERMINATED</td><td>                </td><td style=\"text-align: right;\">7.02169e-06</td><td style=\"text-align: right;\">  0.749465</td><td style=\"text-align: right;\">0.075   </td><td style=\"text-align: right;\">     1</td><td style=\"text-align: right;\">         4.30696</td></tr>\n",
       "<tr><td>train_mnist_7e741_00005</td><td>TERMINATED</td><td>                </td><td style=\"text-align: right;\">9.70547e-10</td><td style=\"text-align: right;\">  0.290944</td><td style=\"text-align: right;\">0.065625</td><td style=\"text-align: right;\">     1</td><td style=\"text-align: right;\">         4.40198</td></tr>\n",
       "<tr><td>train_mnist_7e741_00006</td><td>TERMINATED</td><td>                </td><td style=\"text-align: right;\">8.14338e-07</td><td style=\"text-align: right;\">  0.35172 </td><td style=\"text-align: right;\">0.109375</td><td style=\"text-align: right;\">     4</td><td style=\"text-align: right;\">         4.98607</td></tr>\n",
       "<tr><td>train_mnist_7e741_00007</td><td>TERMINATED</td><td>                </td><td style=\"text-align: right;\">5.7092e-09 </td><td style=\"text-align: right;\">  0.140243</td><td style=\"text-align: right;\">0.11875 </td><td style=\"text-align: right;\">    10</td><td style=\"text-align: right;\">         6.437  </td></tr>\n",
       "<tr><td>train_mnist_7e741_00008</td><td>TERMINATED</td><td>                </td><td style=\"text-align: right;\">0.00471154 </td><td style=\"text-align: right;\">  0.724455</td><td style=\"text-align: right;\">0.796875</td><td style=\"text-align: right;\">    10</td><td style=\"text-align: right;\">         6.70997</td></tr>\n",
       "<tr><td>train_mnist_7e741_00009</td><td>TERMINATED</td><td>                </td><td style=\"text-align: right;\">1.30192e-08</td><td style=\"text-align: right;\">  0.72695 </td><td style=\"text-align: right;\">0.1     </td><td style=\"text-align: right;\">     4</td><td style=\"text-align: right;\">         4.91703</td></tr>\n",
       "<tr><td>train_mnist_7e741_00010</td><td>TERMINATED</td><td>                </td><td style=\"text-align: right;\">1.21249e-09</td><td style=\"text-align: right;\">  0.755718</td><td style=\"text-align: right;\">0.103125</td><td style=\"text-align: right;\">     1</td><td style=\"text-align: right;\">         4.1598 </td></tr>\n",
       "<tr><td>train_mnist_7e741_00011</td><td>TERMINATED</td><td>                </td><td style=\"text-align: right;\">0.251514   </td><td style=\"text-align: right;\">  0.400495</td><td style=\"text-align: right;\">0.840625</td><td style=\"text-align: right;\">    10</td><td style=\"text-align: right;\">         6.42116</td></tr>\n",
       "<tr><td>train_mnist_7e741_00012</td><td>TERMINATED</td><td>                </td><td style=\"text-align: right;\">1.54382e-05</td><td style=\"text-align: right;\">  0.674477</td><td style=\"text-align: right;\">0.0875  </td><td style=\"text-align: right;\">     1</td><td style=\"text-align: right;\">         4.34755</td></tr>\n",
       "<tr><td>train_mnist_7e741_00013</td><td>TERMINATED</td><td>                </td><td style=\"text-align: right;\">1.68044e-10</td><td style=\"text-align: right;\">  0.566125</td><td style=\"text-align: right;\">0.271875</td><td style=\"text-align: right;\">    10</td><td style=\"text-align: right;\">         6.93536</td></tr>\n",
       "<tr><td>train_mnist_7e741_00014</td><td>TERMINATED</td><td>                </td><td style=\"text-align: right;\">1.37867e-05</td><td style=\"text-align: right;\">  0.740596</td><td style=\"text-align: right;\">0.04375 </td><td style=\"text-align: right;\">     1</td><td style=\"text-align: right;\">         4.28236</td></tr>\n",
       "<tr><td>train_mnist_7e741_00015</td><td>TERMINATED</td><td>                </td><td style=\"text-align: right;\">1.45067e-05</td><td style=\"text-align: right;\">  0.454331</td><td style=\"text-align: right;\">0.084375</td><td style=\"text-align: right;\">     1</td><td style=\"text-align: right;\">         4.1977 </td></tr>\n",
       "<tr><td>train_mnist_7e741_00016</td><td>TERMINATED</td><td>                </td><td style=\"text-align: right;\">0.0851098  </td><td style=\"text-align: right;\">  0.369264</td><td style=\"text-align: right;\">0.89375 </td><td style=\"text-align: right;\">    10</td><td style=\"text-align: right;\">         6.42261</td></tr>\n",
       "<tr><td>train_mnist_7e741_00017</td><td>TERMINATED</td><td>                </td><td style=\"text-align: right;\">4.52179e-08</td><td style=\"text-align: right;\">  0.468265</td><td style=\"text-align: right;\">0.084375</td><td style=\"text-align: right;\">     1</td><td style=\"text-align: right;\">         4.26719</td></tr>\n",
       "</tbody>\n",
       "</table><br><br>"
      ],
      "text/plain": [
       "<IPython.core.display.HTML object>"
      ]
     },
     "metadata": {},
     "output_type": "display_data"
    },
    {
     "name": "stdout",
     "output_type": "stream",
     "text": [
      "Result for train_mnist_7e741_00019:\n",
      "  date: 2021-02-01_21-49-17\n",
      "  done: true\n",
      "  experiment_id: 7ec0a8bf9348414f94dfdd36b8192cf5\n",
      "  experiment_tag: 19_lr=4.6346e-09,momentum=0.61789\n",
      "  hostname: LAPTOP-C4PHJU11\n",
      "  iterations_since_restore: 1\n",
      "  mean_accuracy: 0.121875\n",
      "  node_ip: 172.16.1.2\n",
      "  pid: 3384\n",
      "  time_since_restore: 4.319531440734863\n",
      "  time_this_iter_s: 4.319531440734863\n",
      "  time_total_s: 4.319531440734863\n",
      "  timestamp: 1612212557\n",
      "  timesteps_since_restore: 0\n",
      "  training_iteration: 1\n",
      "  trial_id: 7e741_00019\n",
      "  \n"
     ]
    },
    {
     "data": {
      "text/html": [
       "== Status ==<br>Memory usage on this node: 18.1/31.9 GiB<br>Using AsyncHyperBand: num_stopped=12\n",
       "Bracket: Iter 64.000: None | Iter 16.000: None | Iter 4.000: 0.6453125 | Iter 1.000: 0.16249999999999998<br>Resources requested: 0/12 CPUs, 0/1 GPUs, 0.0/9.67 GiB heap, 0.0/3.32 GiB objects<br>Result logdir: C:\\Users\\Gilberto-BE\\ray_results\\train_mnist_2021-02-01_21-46-01<br>Number of trials: 20/20 (20 TERMINATED)<br><table>\n",
       "<thead>\n",
       "<tr><th>Trial name             </th><th>status    </th><th>loc  </th><th style=\"text-align: right;\">         lr</th><th style=\"text-align: right;\">  momentum</th><th style=\"text-align: right;\">     acc</th><th style=\"text-align: right;\">  iter</th><th style=\"text-align: right;\">  total time (s)</th></tr>\n",
       "</thead>\n",
       "<tbody>\n",
       "<tr><td>train_mnist_7e741_00000</td><td>TERMINATED</td><td>     </td><td style=\"text-align: right;\">0.000374364</td><td style=\"text-align: right;\">  0.40969 </td><td style=\"text-align: right;\">0.115625</td><td style=\"text-align: right;\">    10</td><td style=\"text-align: right;\">         7.96004</td></tr>\n",
       "<tr><td>train_mnist_7e741_00001</td><td>TERMINATED</td><td>     </td><td style=\"text-align: right;\">7.82379e-06</td><td style=\"text-align: right;\">  0.600244</td><td style=\"text-align: right;\">0.090625</td><td style=\"text-align: right;\">     4</td><td style=\"text-align: right;\">         5.30294</td></tr>\n",
       "<tr><td>train_mnist_7e741_00002</td><td>TERMINATED</td><td>     </td><td style=\"text-align: right;\">3.14944e-07</td><td style=\"text-align: right;\">  0.662429</td><td style=\"text-align: right;\">0.10625 </td><td style=\"text-align: right;\">     4</td><td style=\"text-align: right;\">         5.14607</td></tr>\n",
       "<tr><td>train_mnist_7e741_00003</td><td>TERMINATED</td><td>     </td><td style=\"text-align: right;\">3.48986e-05</td><td style=\"text-align: right;\">  0.656037</td><td style=\"text-align: right;\">0.18125 </td><td style=\"text-align: right;\">    10</td><td style=\"text-align: right;\">         6.39498</td></tr>\n",
       "<tr><td>train_mnist_7e741_00004</td><td>TERMINATED</td><td>     </td><td style=\"text-align: right;\">7.02169e-06</td><td style=\"text-align: right;\">  0.749465</td><td style=\"text-align: right;\">0.075   </td><td style=\"text-align: right;\">     1</td><td style=\"text-align: right;\">         4.30696</td></tr>\n",
       "<tr><td>train_mnist_7e741_00005</td><td>TERMINATED</td><td>     </td><td style=\"text-align: right;\">9.70547e-10</td><td style=\"text-align: right;\">  0.290944</td><td style=\"text-align: right;\">0.065625</td><td style=\"text-align: right;\">     1</td><td style=\"text-align: right;\">         4.40198</td></tr>\n",
       "<tr><td>train_mnist_7e741_00006</td><td>TERMINATED</td><td>     </td><td style=\"text-align: right;\">8.14338e-07</td><td style=\"text-align: right;\">  0.35172 </td><td style=\"text-align: right;\">0.109375</td><td style=\"text-align: right;\">     4</td><td style=\"text-align: right;\">         4.98607</td></tr>\n",
       "<tr><td>train_mnist_7e741_00007</td><td>TERMINATED</td><td>     </td><td style=\"text-align: right;\">5.7092e-09 </td><td style=\"text-align: right;\">  0.140243</td><td style=\"text-align: right;\">0.11875 </td><td style=\"text-align: right;\">    10</td><td style=\"text-align: right;\">         6.437  </td></tr>\n",
       "<tr><td>train_mnist_7e741_00008</td><td>TERMINATED</td><td>     </td><td style=\"text-align: right;\">0.00471154 </td><td style=\"text-align: right;\">  0.724455</td><td style=\"text-align: right;\">0.796875</td><td style=\"text-align: right;\">    10</td><td style=\"text-align: right;\">         6.70997</td></tr>\n",
       "<tr><td>train_mnist_7e741_00009</td><td>TERMINATED</td><td>     </td><td style=\"text-align: right;\">1.30192e-08</td><td style=\"text-align: right;\">  0.72695 </td><td style=\"text-align: right;\">0.1     </td><td style=\"text-align: right;\">     4</td><td style=\"text-align: right;\">         4.91703</td></tr>\n",
       "<tr><td>train_mnist_7e741_00010</td><td>TERMINATED</td><td>     </td><td style=\"text-align: right;\">1.21249e-09</td><td style=\"text-align: right;\">  0.755718</td><td style=\"text-align: right;\">0.103125</td><td style=\"text-align: right;\">     1</td><td style=\"text-align: right;\">         4.1598 </td></tr>\n",
       "<tr><td>train_mnist_7e741_00011</td><td>TERMINATED</td><td>     </td><td style=\"text-align: right;\">0.251514   </td><td style=\"text-align: right;\">  0.400495</td><td style=\"text-align: right;\">0.840625</td><td style=\"text-align: right;\">    10</td><td style=\"text-align: right;\">         6.42116</td></tr>\n",
       "<tr><td>train_mnist_7e741_00012</td><td>TERMINATED</td><td>     </td><td style=\"text-align: right;\">1.54382e-05</td><td style=\"text-align: right;\">  0.674477</td><td style=\"text-align: right;\">0.0875  </td><td style=\"text-align: right;\">     1</td><td style=\"text-align: right;\">         4.34755</td></tr>\n",
       "<tr><td>train_mnist_7e741_00013</td><td>TERMINATED</td><td>     </td><td style=\"text-align: right;\">1.68044e-10</td><td style=\"text-align: right;\">  0.566125</td><td style=\"text-align: right;\">0.271875</td><td style=\"text-align: right;\">    10</td><td style=\"text-align: right;\">         6.93536</td></tr>\n",
       "<tr><td>train_mnist_7e741_00014</td><td>TERMINATED</td><td>     </td><td style=\"text-align: right;\">1.37867e-05</td><td style=\"text-align: right;\">  0.740596</td><td style=\"text-align: right;\">0.04375 </td><td style=\"text-align: right;\">     1</td><td style=\"text-align: right;\">         4.28236</td></tr>\n",
       "<tr><td>train_mnist_7e741_00015</td><td>TERMINATED</td><td>     </td><td style=\"text-align: right;\">1.45067e-05</td><td style=\"text-align: right;\">  0.454331</td><td style=\"text-align: right;\">0.084375</td><td style=\"text-align: right;\">     1</td><td style=\"text-align: right;\">         4.1977 </td></tr>\n",
       "<tr><td>train_mnist_7e741_00016</td><td>TERMINATED</td><td>     </td><td style=\"text-align: right;\">0.0851098  </td><td style=\"text-align: right;\">  0.369264</td><td style=\"text-align: right;\">0.89375 </td><td style=\"text-align: right;\">    10</td><td style=\"text-align: right;\">         6.42261</td></tr>\n",
       "<tr><td>train_mnist_7e741_00017</td><td>TERMINATED</td><td>     </td><td style=\"text-align: right;\">4.52179e-08</td><td style=\"text-align: right;\">  0.468265</td><td style=\"text-align: right;\">0.084375</td><td style=\"text-align: right;\">     1</td><td style=\"text-align: right;\">         4.26719</td></tr>\n",
       "<tr><td>train_mnist_7e741_00018</td><td>TERMINATED</td><td>     </td><td style=\"text-align: right;\">0.00611605 </td><td style=\"text-align: right;\">  0.877883</td><td style=\"text-align: right;\">0.871875</td><td style=\"text-align: right;\">    10</td><td style=\"text-align: right;\">         6.24201</td></tr>\n",
       "<tr><td>train_mnist_7e741_00019</td><td>TERMINATED</td><td>     </td><td style=\"text-align: right;\">4.6346e-09 </td><td style=\"text-align: right;\">  0.617887</td><td style=\"text-align: right;\">0.121875</td><td style=\"text-align: right;\">     1</td><td style=\"text-align: right;\">         4.31953</td></tr>\n",
       "</tbody>\n",
       "</table><br><br>"
      ],
      "text/plain": [
       "<IPython.core.display.HTML object>"
      ]
     },
     "metadata": {},
     "output_type": "display_data"
    },
    {
     "data": {
      "text/html": [
       "== Status ==<br>Memory usage on this node: 18.1/31.9 GiB<br>Using AsyncHyperBand: num_stopped=12\n",
       "Bracket: Iter 64.000: None | Iter 16.000: None | Iter 4.000: 0.6453125 | Iter 1.000: 0.16249999999999998<br>Resources requested: 0/12 CPUs, 0/1 GPUs, 0.0/9.67 GiB heap, 0.0/3.32 GiB objects<br>Result logdir: C:\\Users\\Gilberto-BE\\ray_results\\train_mnist_2021-02-01_21-46-01<br>Number of trials: 20/20 (20 TERMINATED)<br><table>\n",
       "<thead>\n",
       "<tr><th>Trial name             </th><th>status    </th><th>loc  </th><th style=\"text-align: right;\">         lr</th><th style=\"text-align: right;\">  momentum</th><th style=\"text-align: right;\">     acc</th><th style=\"text-align: right;\">  iter</th><th style=\"text-align: right;\">  total time (s)</th></tr>\n",
       "</thead>\n",
       "<tbody>\n",
       "<tr><td>train_mnist_7e741_00000</td><td>TERMINATED</td><td>     </td><td style=\"text-align: right;\">0.000374364</td><td style=\"text-align: right;\">  0.40969 </td><td style=\"text-align: right;\">0.115625</td><td style=\"text-align: right;\">    10</td><td style=\"text-align: right;\">         7.96004</td></tr>\n",
       "<tr><td>train_mnist_7e741_00001</td><td>TERMINATED</td><td>     </td><td style=\"text-align: right;\">7.82379e-06</td><td style=\"text-align: right;\">  0.600244</td><td style=\"text-align: right;\">0.090625</td><td style=\"text-align: right;\">     4</td><td style=\"text-align: right;\">         5.30294</td></tr>\n",
       "<tr><td>train_mnist_7e741_00002</td><td>TERMINATED</td><td>     </td><td style=\"text-align: right;\">3.14944e-07</td><td style=\"text-align: right;\">  0.662429</td><td style=\"text-align: right;\">0.10625 </td><td style=\"text-align: right;\">     4</td><td style=\"text-align: right;\">         5.14607</td></tr>\n",
       "<tr><td>train_mnist_7e741_00003</td><td>TERMINATED</td><td>     </td><td style=\"text-align: right;\">3.48986e-05</td><td style=\"text-align: right;\">  0.656037</td><td style=\"text-align: right;\">0.18125 </td><td style=\"text-align: right;\">    10</td><td style=\"text-align: right;\">         6.39498</td></tr>\n",
       "<tr><td>train_mnist_7e741_00004</td><td>TERMINATED</td><td>     </td><td style=\"text-align: right;\">7.02169e-06</td><td style=\"text-align: right;\">  0.749465</td><td style=\"text-align: right;\">0.075   </td><td style=\"text-align: right;\">     1</td><td style=\"text-align: right;\">         4.30696</td></tr>\n",
       "<tr><td>train_mnist_7e741_00005</td><td>TERMINATED</td><td>     </td><td style=\"text-align: right;\">9.70547e-10</td><td style=\"text-align: right;\">  0.290944</td><td style=\"text-align: right;\">0.065625</td><td style=\"text-align: right;\">     1</td><td style=\"text-align: right;\">         4.40198</td></tr>\n",
       "<tr><td>train_mnist_7e741_00006</td><td>TERMINATED</td><td>     </td><td style=\"text-align: right;\">8.14338e-07</td><td style=\"text-align: right;\">  0.35172 </td><td style=\"text-align: right;\">0.109375</td><td style=\"text-align: right;\">     4</td><td style=\"text-align: right;\">         4.98607</td></tr>\n",
       "<tr><td>train_mnist_7e741_00007</td><td>TERMINATED</td><td>     </td><td style=\"text-align: right;\">5.7092e-09 </td><td style=\"text-align: right;\">  0.140243</td><td style=\"text-align: right;\">0.11875 </td><td style=\"text-align: right;\">    10</td><td style=\"text-align: right;\">         6.437  </td></tr>\n",
       "<tr><td>train_mnist_7e741_00008</td><td>TERMINATED</td><td>     </td><td style=\"text-align: right;\">0.00471154 </td><td style=\"text-align: right;\">  0.724455</td><td style=\"text-align: right;\">0.796875</td><td style=\"text-align: right;\">    10</td><td style=\"text-align: right;\">         6.70997</td></tr>\n",
       "<tr><td>train_mnist_7e741_00009</td><td>TERMINATED</td><td>     </td><td style=\"text-align: right;\">1.30192e-08</td><td style=\"text-align: right;\">  0.72695 </td><td style=\"text-align: right;\">0.1     </td><td style=\"text-align: right;\">     4</td><td style=\"text-align: right;\">         4.91703</td></tr>\n",
       "<tr><td>train_mnist_7e741_00010</td><td>TERMINATED</td><td>     </td><td style=\"text-align: right;\">1.21249e-09</td><td style=\"text-align: right;\">  0.755718</td><td style=\"text-align: right;\">0.103125</td><td style=\"text-align: right;\">     1</td><td style=\"text-align: right;\">         4.1598 </td></tr>\n",
       "<tr><td>train_mnist_7e741_00011</td><td>TERMINATED</td><td>     </td><td style=\"text-align: right;\">0.251514   </td><td style=\"text-align: right;\">  0.400495</td><td style=\"text-align: right;\">0.840625</td><td style=\"text-align: right;\">    10</td><td style=\"text-align: right;\">         6.42116</td></tr>\n",
       "<tr><td>train_mnist_7e741_00012</td><td>TERMINATED</td><td>     </td><td style=\"text-align: right;\">1.54382e-05</td><td style=\"text-align: right;\">  0.674477</td><td style=\"text-align: right;\">0.0875  </td><td style=\"text-align: right;\">     1</td><td style=\"text-align: right;\">         4.34755</td></tr>\n",
       "<tr><td>train_mnist_7e741_00013</td><td>TERMINATED</td><td>     </td><td style=\"text-align: right;\">1.68044e-10</td><td style=\"text-align: right;\">  0.566125</td><td style=\"text-align: right;\">0.271875</td><td style=\"text-align: right;\">    10</td><td style=\"text-align: right;\">         6.93536</td></tr>\n",
       "<tr><td>train_mnist_7e741_00014</td><td>TERMINATED</td><td>     </td><td style=\"text-align: right;\">1.37867e-05</td><td style=\"text-align: right;\">  0.740596</td><td style=\"text-align: right;\">0.04375 </td><td style=\"text-align: right;\">     1</td><td style=\"text-align: right;\">         4.28236</td></tr>\n",
       "<tr><td>train_mnist_7e741_00015</td><td>TERMINATED</td><td>     </td><td style=\"text-align: right;\">1.45067e-05</td><td style=\"text-align: right;\">  0.454331</td><td style=\"text-align: right;\">0.084375</td><td style=\"text-align: right;\">     1</td><td style=\"text-align: right;\">         4.1977 </td></tr>\n",
       "<tr><td>train_mnist_7e741_00016</td><td>TERMINATED</td><td>     </td><td style=\"text-align: right;\">0.0851098  </td><td style=\"text-align: right;\">  0.369264</td><td style=\"text-align: right;\">0.89375 </td><td style=\"text-align: right;\">    10</td><td style=\"text-align: right;\">         6.42261</td></tr>\n",
       "<tr><td>train_mnist_7e741_00017</td><td>TERMINATED</td><td>     </td><td style=\"text-align: right;\">4.52179e-08</td><td style=\"text-align: right;\">  0.468265</td><td style=\"text-align: right;\">0.084375</td><td style=\"text-align: right;\">     1</td><td style=\"text-align: right;\">         4.26719</td></tr>\n",
       "<tr><td>train_mnist_7e741_00018</td><td>TERMINATED</td><td>     </td><td style=\"text-align: right;\">0.00611605 </td><td style=\"text-align: right;\">  0.877883</td><td style=\"text-align: right;\">0.871875</td><td style=\"text-align: right;\">    10</td><td style=\"text-align: right;\">         6.24201</td></tr>\n",
       "<tr><td>train_mnist_7e741_00019</td><td>TERMINATED</td><td>     </td><td style=\"text-align: right;\">4.6346e-09 </td><td style=\"text-align: right;\">  0.617887</td><td style=\"text-align: right;\">0.121875</td><td style=\"text-align: right;\">     1</td><td style=\"text-align: right;\">         4.31953</td></tr>\n",
       "</tbody>\n",
       "</table><br><br>"
      ],
      "text/plain": [
       "<IPython.core.display.HTML object>"
      ]
     },
     "metadata": {},
     "output_type": "display_data"
    },
    {
     "name": "stderr",
     "output_type": "stream",
     "text": [
      "2021-02-01 21:49:17,364\tINFO tune.py:439 -- Total run time: 209.23 seconds (196.04 seconds for the tuning loop).\n"
     ]
    },
    {
     "data": {
      "text/plain": [
       "Text(0, 0.5, 'Mean Accuracy')"
      ]
     },
     "execution_count": 2,
     "metadata": {},
     "output_type": "execute_result"
    },
    {
     "data": {
      "image/png": "[encoded data removed]",
      "text/plain": [
       "<Figure size 432x288 with 1 Axes>"
      ]
     },
     "metadata": {
      "needs_background": "light"
     },
     "output_type": "display_data"
    }
   ],
   "source": [
    "search_space = {\n",
    "    \"lr\": tune.sample_from(lambda spec: 10 ** (-10 * np.random.rand())),\n",
    "    \"momentum\": tune.uniform(0.1, 0.9)\n",
    "    }\n",
    "\n",
    "datasets.MNIST(\"~/data\", train=True, download=True)\n",
    "analysis = tune.run(\n",
    "    train_mnist,\n",
    "    num_samples=20,\n",
    "    scheduler=ASHAScheduler(metric='mean_accuracy', mode='max'),\n",
    "    config=search_space, resources_per_trial={'gpu': 1}\n",
    "    )\n",
    "\n",
    "dfs = analysis.trial_dataframes\n",
    "[d.mean_accuracy.plot() for d in dfs.values()]\n",
    "\n",
    "\"\"\"Plot by epoch\"\"\"\n",
    "ax = None\n",
    "for d in dfs.values():\n",
    "    ax = d.mean_accuracy.plot(ax=ax, legend=False)\n",
    "ax.set_xlabel(\"Epochs\")\n",
    "ax.set_ylabel(\"Mean Accuracy\")"
   ]
  }
 ],
 "metadata": {
  "kernelspec": {
   "display_name": "Python 3",
   "language": "python",
   "name": "python3"
  },
  "language_info": {
   "codemirror_mode": {
    "name": "ipython",
    "version": 3
   },
   "file_extension": ".py",
   "mimetype": "text/x-python",
   "name": "python",
   "nbconvert_exporter": "python",
   "pygments_lexer": "ipython3",
   "version": "3.8.6"
  }
 },
 "nbformat": 4,
 "nbformat_minor": 4
}
