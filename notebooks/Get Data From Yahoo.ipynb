{
 "cells": [
  {
   "cell_type": "markdown",
   "id": "20d7f08a",
   "metadata": {},
   "source": [
    "###  Yahoo finance python API for retrieving time series data\n",
    "\n",
    "Homepage:\n",
    "https://github.com/ranaroussi/yfinance"
   ]
  },
  {
   "cell_type": "code",
   "execution_count": 1,
   "id": "63d6c581",
   "metadata": {},
   "outputs": [],
   "source": [
    "import sys, os\n",
    "scr_dir = os.path.join(os.getcwd(), os.pardir, 'src')\n",
    "sys.path.append(scr_dir)\n",
    "\n",
    "\n",
    "from loader.load import YFinanceDataset\n"
   ]
  },
  {
   "cell_type": "code",
   "execution_count": 2,
   "id": "c9190443",
   "metadata": {},
   "outputs": [
    {
     "data": {
      "text/plain": [
       "Date\n",
       "2020-08-17    111.649597\n",
       "2020-08-18    112.080254\n",
       "2020-08-19    111.111275\n",
       "2020-08-20    110.492172\n",
       "2020-08-21    110.501160\n",
       "Name: Close, dtype: float64"
      ]
     },
     "execution_count": 2,
     "metadata": {},
     "output_type": "execute_result"
    }
   ],
   "source": [
    "df = YFinanceDataset()\n",
    "df = df.get_single_ticker('IBM')\n",
    "df.head()"
   ]
  },
  {
   "cell_type": "code",
   "execution_count": 3,
   "id": "15245fff",
   "metadata": {},
   "outputs": [
    {
     "data": {
      "text/html": [
       "<div>\n",
       "<style scoped>\n",
       "    .dataframe tbody tr th:only-of-type {\n",
       "        vertical-align: middle;\n",
       "    }\n",
       "\n",
       "    .dataframe tbody tr th {\n",
       "        vertical-align: top;\n",
       "    }\n",
       "\n",
       "    .dataframe thead th {\n",
       "        text-align: right;\n",
       "    }\n",
       "</style>\n",
       "<table border=\"1\" class=\"dataframe\">\n",
       "  <thead>\n",
       "    <tr style=\"text-align: right;\">\n",
       "      <th></th>\n",
       "      <th>MSFT_Close</th>\n",
       "      <th>IBM_Close</th>\n",
       "      <th>KO_Close</th>\n",
       "    </tr>\n",
       "    <tr>\n",
       "      <th>Date</th>\n",
       "      <th></th>\n",
       "      <th></th>\n",
       "      <th></th>\n",
       "    </tr>\n",
       "  </thead>\n",
       "  <tbody>\n",
       "    <tr>\n",
       "      <th>2021-12-06</th>\n",
       "      <td>326.190002</td>\n",
       "      <td>119.910004</td>\n",
       "      <td>54.910000</td>\n",
       "    </tr>\n",
       "    <tr>\n",
       "      <th>2021-12-07</th>\n",
       "      <td>334.920013</td>\n",
       "      <td>121.580002</td>\n",
       "      <td>55.209999</td>\n",
       "    </tr>\n",
       "    <tr>\n",
       "      <th>2021-12-08</th>\n",
       "      <td>334.970001</td>\n",
       "      <td>123.019997</td>\n",
       "      <td>55.000000</td>\n",
       "    </tr>\n",
       "    <tr>\n",
       "      <th>2021-12-09</th>\n",
       "      <td>333.100006</td>\n",
       "      <td>123.570000</td>\n",
       "      <td>54.860001</td>\n",
       "    </tr>\n",
       "    <tr>\n",
       "      <th>2021-12-10</th>\n",
       "      <td>342.540009</td>\n",
       "      <td>124.089996</td>\n",
       "      <td>56.279999</td>\n",
       "    </tr>\n",
       "  </tbody>\n",
       "</table>\n",
       "</div>"
      ],
      "text/plain": [
       "            MSFT_Close   IBM_Close   KO_Close\n",
       "Date                                         \n",
       "2021-12-06  326.190002  119.910004  54.910000\n",
       "2021-12-07  334.920013  121.580002  55.209999\n",
       "2021-12-08  334.970001  123.019997  55.000000\n",
       "2021-12-09  333.100006  123.570000  54.860001\n",
       "2021-12-10  342.540009  124.089996  56.279999"
      ]
     },
     "execution_count": 3,
     "metadata": {},
     "output_type": "execute_result"
    }
   ],
   "source": [
    "df = YFinanceDataset()\n",
    "dfs = df.get_multiple_tickers(ticker_names=['MSFT', 'IBM', 'KO'])\n",
    "dfs.tail()"
   ]
  },
  {
   "cell_type": "code",
   "execution_count": 4,
   "id": "aa2cffa5",
   "metadata": {},
   "outputs": [
    {
     "name": "stdout",
     "output_type": "stream",
     "text": [
      "[*********************100%***********************]  3 of 3 completed\n"
     ]
    },
    {
     "data": {
      "text/html": [
       "<div>\n",
       "<style scoped>\n",
       "    .dataframe tbody tr th:only-of-type {\n",
       "        vertical-align: middle;\n",
       "    }\n",
       "\n",
       "    .dataframe tbody tr th {\n",
       "        vertical-align: top;\n",
       "    }\n",
       "\n",
       "    .dataframe thead tr th {\n",
       "        text-align: left;\n",
       "    }\n",
       "\n",
       "    .dataframe thead tr:last-of-type th {\n",
       "        text-align: right;\n",
       "    }\n",
       "</style>\n",
       "<table border=\"1\" class=\"dataframe\">\n",
       "  <thead>\n",
       "    <tr>\n",
       "      <th></th>\n",
       "      <th colspan=\"3\" halign=\"left\">Adj Close</th>\n",
       "    </tr>\n",
       "    <tr>\n",
       "      <th></th>\n",
       "      <th>IBM</th>\n",
       "      <th>KO</th>\n",
       "      <th>MSFT</th>\n",
       "    </tr>\n",
       "    <tr>\n",
       "      <th>Date</th>\n",
       "      <th></th>\n",
       "      <th></th>\n",
       "      <th></th>\n",
       "    </tr>\n",
       "  </thead>\n",
       "  <tbody>\n",
       "    <tr>\n",
       "      <th>2017-01-03</th>\n",
       "      <td>127.079659</td>\n",
       "      <td>35.514397</td>\n",
       "      <td>58.185520</td>\n",
       "    </tr>\n",
       "    <tr>\n",
       "      <th>2017-01-04</th>\n",
       "      <td>128.653000</td>\n",
       "      <td>35.386948</td>\n",
       "      <td>57.925179</td>\n",
       "    </tr>\n",
       "    <tr>\n",
       "      <th>2017-01-05</th>\n",
       "      <td>128.227386</td>\n",
       "      <td>35.471920</td>\n",
       "      <td>57.925179</td>\n",
       "    </tr>\n",
       "    <tr>\n",
       "      <th>2017-01-06</th>\n",
       "      <td>128.858246</td>\n",
       "      <td>35.463425</td>\n",
       "      <td>58.427265</td>\n",
       "    </tr>\n",
       "    <tr>\n",
       "      <th>2017-01-09</th>\n",
       "      <td>127.429260</td>\n",
       "      <td>35.106575</td>\n",
       "      <td>58.241306</td>\n",
       "    </tr>\n",
       "  </tbody>\n",
       "</table>\n",
       "</div>"
      ],
      "text/plain": [
       "             Adj Close                      \n",
       "                   IBM         KO       MSFT\n",
       "Date                                        \n",
       "2017-01-03  127.079659  35.514397  58.185520\n",
       "2017-01-04  128.653000  35.386948  57.925179\n",
       "2017-01-05  128.227386  35.471920  57.925179\n",
       "2017-01-06  128.858246  35.463425  58.427265\n",
       "2017-01-09  127.429260  35.106575  58.241306"
      ]
     },
     "execution_count": 4,
     "metadata": {},
     "output_type": "execute_result"
    }
   ],
   "source": [
    "import yfinance as yf\n",
    "data = yf.download(\"MSFT IBM KO\", start=\"2017-01-01\", end=\"2021-08-11\")\n",
    "data[['Adj Close']].head()"
   ]
  }
 ],
 "metadata": {
  "kernelspec": {
   "display_name": "Python 3 (ipykernel)",
   "language": "python",
   "name": "python3"
  },
  "language_info": {
   "codemirror_mode": {
    "name": "ipython",
    "version": 3
   },
   "file_extension": ".py",
   "mimetype": "text/x-python",
   "name": "python",
   "nbconvert_exporter": "python",
   "pygments_lexer": "ipython3",
   "version": "3.8.10"
  }
 },
 "nbformat": 4,
 "nbformat_minor": 5
}
