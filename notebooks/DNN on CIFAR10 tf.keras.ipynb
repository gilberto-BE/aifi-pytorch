{
 "cells": [
  {
   "cell_type": "markdown",
   "metadata": {},
   "source": [
    "# DNN on CIFAR10\n",
    "In this exercise you are supposed to do a DNN with dense layers. The task is to train a very deep DNN and make predictions on the CIFAR10 dataset. This is a very well known dataset used as a benchmark in computer vision.\n",
    "\n",
    "* Create a 20 layered NN with 100 neurons\n",
    "* Use He initialization\n",
    "* Use ELU activation function\n",
    "* USe Nadam\n",
    "* Use early stopping"
   ]
  },
  {
   "cell_type": "code",
   "execution_count": 1,
   "metadata": {},
   "outputs": [],
   "source": [
    "import tensorflow as tf\n",
    "from functools import partial\n",
    "tf.random.set_seed(42)"
   ]
  },
  {
   "cell_type": "code",
   "execution_count": 2,
   "metadata": {},
   "outputs": [],
   "source": [
    "(x_train, y_train), (x_test, y_test) = tf.keras.datasets.cifar10.load_data()"
   ]
  },
  {
   "cell_type": "code",
   "execution_count": 3,
   "metadata": {},
   "outputs": [
    {
     "data": {
      "text/plain": [
       "((50000, 32, 32, 3), 255, 0)"
      ]
     },
     "execution_count": 3,
     "metadata": {},
     "output_type": "execute_result"
    }
   ],
   "source": [
    "x_train.shape, x_train[0, :, :].max(), x_train[0, :, :].min()"
   ]
  },
  {
   "cell_type": "code",
   "execution_count": 4,
   "metadata": {},
   "outputs": [],
   "source": [
    "x_train, x_test = x_train/255.0, x_test/255.0"
   ]
  },
  {
   "cell_type": "markdown",
   "metadata": {},
   "source": [
    "# Create model"
   ]
  },
  {
   "cell_type": "code",
   "execution_count": 5,
   "metadata": {},
   "outputs": [],
   "source": [
    "def exponential_decay(lr0, s):\n",
    "    def exponential_decay_fn(epoch):\n",
    "        return lr0 * 0.1 ** (epoch/s)\n",
    "    return exponential_decay_fn"
   ]
  },
  {
   "cell_type": "code",
   "execution_count": 6,
   "metadata": {},
   "outputs": [],
   "source": [
    "def create_dnn(activation='elu', \n",
    "               kernel_initializer='he_normal', \n",
    "               units=100,\n",
    "               n_layers=20, \n",
    "               batch_normalization=False):\n",
    "    \n",
    "    partial_dnn = partial(tf.keras.layers.Dense,\n",
    "                          activation=activation, \n",
    "                          kernel_initializer=kernel_initializer)\n",
    "\n",
    "    model = tf.keras.Sequential()\n",
    "    model.add(tf.keras.layers.Flatten(input_shape=[32, 32, 3]))\n",
    "    \n",
    "    for i in range(n_layers):\n",
    "        model.add(partial_dnn(units))\n",
    "        if batch_normalization:\n",
    "            model.add(tf.keras.layers.BatchNormalization())\n",
    "            \n",
    "    model.add(tf.keras.layers.Dense(10, activation='softmax'))\n",
    "    optimizer = tf.keras.optimizers.Nadam()\n",
    "\n",
    "    model.compile(optimizer=optimizer,\n",
    "                  loss='sparse_categorical_crossentropy',\n",
    "                  metrics=['accuracy'])\n",
    "    \n",
    "    return model\n",
    "    "
   ]
  },
  {
   "cell_type": "code",
   "execution_count": 7,
   "metadata": {},
   "outputs": [],
   "source": [
    "model = create_dnn()"
   ]
  },
  {
   "cell_type": "raw",
   "metadata": {},
   "source": [
    "he_layer = partial(tf.keras.layers.Dense, activation='elu', kernel_initializer='he_normal')\n",
    "\n",
    "n_layers = 20\n",
    "\n",
    "model = tf.keras.Sequential()\n",
    "model.add(tf.keras.layers.Flatten(input_shape=[32, 32, 3]))\n",
    "for i in range(n_layers):\n",
    "    model.add(he_layer(100))\n",
    "model.add(tf.keras.layers.Dense(10, activation='softmax'))\n",
    "optimizer = tf.keras.optimizers.Nadam()\n",
    "\n",
    "\n",
    "model.compile(optimizer=optimizer, loss='sparse_categorical_crossentropy', metrics=['accuracy'])"
   ]
  },
  {
   "cell_type": "code",
   "execution_count": 8,
   "metadata": {},
   "outputs": [
    {
     "name": "stdout",
     "output_type": "stream",
     "text": [
      "Model: \"sequential\"\n",
      "_________________________________________________________________\n",
      "Layer (type)                 Output Shape              Param #   \n",
      "=================================================================\n",
      "flatten (Flatten)            (None, 3072)              0         \n",
      "_________________________________________________________________\n",
      "dense (Dense)                (None, 100)               307300    \n",
      "_________________________________________________________________\n",
      "dense_1 (Dense)              (None, 100)               10100     \n",
      "_________________________________________________________________\n",
      "dense_2 (Dense)              (None, 100)               10100     \n",
      "_________________________________________________________________\n",
      "dense_3 (Dense)              (None, 100)               10100     \n",
      "_________________________________________________________________\n",
      "dense_4 (Dense)              (None, 100)               10100     \n",
      "_________________________________________________________________\n",
      "dense_5 (Dense)              (None, 100)               10100     \n",
      "_________________________________________________________________\n",
      "dense_6 (Dense)              (None, 100)               10100     \n",
      "_________________________________________________________________\n",
      "dense_7 (Dense)              (None, 100)               10100     \n",
      "_________________________________________________________________\n",
      "dense_8 (Dense)              (None, 100)               10100     \n",
      "_________________________________________________________________\n",
      "dense_9 (Dense)              (None, 100)               10100     \n",
      "_________________________________________________________________\n",
      "dense_10 (Dense)             (None, 100)               10100     \n",
      "_________________________________________________________________\n",
      "dense_11 (Dense)             (None, 100)               10100     \n",
      "_________________________________________________________________\n",
      "dense_12 (Dense)             (None, 100)               10100     \n",
      "_________________________________________________________________\n",
      "dense_13 (Dense)             (None, 100)               10100     \n",
      "_________________________________________________________________\n",
      "dense_14 (Dense)             (None, 100)               10100     \n",
      "_________________________________________________________________\n",
      "dense_15 (Dense)             (None, 100)               10100     \n",
      "_________________________________________________________________\n",
      "dense_16 (Dense)             (None, 100)               10100     \n",
      "_________________________________________________________________\n",
      "dense_17 (Dense)             (None, 100)               10100     \n",
      "_________________________________________________________________\n",
      "dense_18 (Dense)             (None, 100)               10100     \n",
      "_________________________________________________________________\n",
      "dense_19 (Dense)             (None, 100)               10100     \n",
      "_________________________________________________________________\n",
      "dense_20 (Dense)             (None, 10)                1010      \n",
      "=================================================================\n",
      "Total params: 500,210\n",
      "Trainable params: 500,210\n",
      "Non-trainable params: 0\n",
      "_________________________________________________________________\n"
     ]
    }
   ],
   "source": [
    "model.summary()"
   ]
  },
  {
   "cell_type": "markdown",
   "metadata": {},
   "source": [
    "# Train Model"
   ]
  },
  {
   "cell_type": "code",
   "execution_count": 9,
   "metadata": {},
   "outputs": [
    {
     "name": "stdout",
     "output_type": "stream",
     "text": [
      "Train on 50000 samples, validate on 10000 samples\n",
      "Epoch 1/100\n",
      "50000/50000 [==============================] - 20s 405us/sample - loss: 2.6669 - accuracy: 0.0983 - val_loss: 2.3437 - val_accuracy: 0.1000\n",
      "Epoch 2/100\n",
      "50000/50000 [==============================] - 17s 331us/sample - loss: 2.3330 - accuracy: 0.1012 - val_loss: 2.3369 - val_accuracy: 0.1000\n",
      "Epoch 3/100\n",
      "50000/50000 [==============================] - 17s 343us/sample - loss: 2.3300 - accuracy: 0.1018 - val_loss: 2.3196 - val_accuracy: 0.1000\n",
      "Epoch 4/100\n",
      "50000/50000 [==============================] - 18s 351us/sample - loss: 2.3261 - accuracy: 0.0992 - val_loss: 2.3265 - val_accuracy: 0.1000\n",
      "Epoch 5/100\n",
      "50000/50000 [==============================] - 17s 344us/sample - loss: 2.3222 - accuracy: 0.0993 - val_loss: 2.3438 - val_accuracy: 0.1000\n",
      "Epoch 6/100\n",
      "50000/50000 [==============================] - 17s 343us/sample - loss: 2.3206 - accuracy: 0.0993 - val_loss: 2.3185 - val_accuracy: 0.1000\n",
      "Epoch 7/100\n",
      "50000/50000 [==============================] - 17s 346us/sample - loss: 2.3178 - accuracy: 0.0996 - val_loss: 2.3269 - val_accuracy: 0.1000\n",
      "Epoch 8/100\n",
      "50000/50000 [==============================] - 18s 351us/sample - loss: 3.4793 - accuracy: 0.1220 - val_loss: 2.1180 - val_accuracy: 0.1759\n",
      "Epoch 9/100\n",
      "50000/50000 [==============================] - 17s 342us/sample - loss: 2.0344 - accuracy: 0.2133 - val_loss: 1.9716 - val_accuracy: 0.2393\n",
      "Epoch 10/100\n",
      "50000/50000 [==============================] - 17s 344us/sample - loss: 1.9167 - accuracy: 0.2705 - val_loss: 1.9098 - val_accuracy: 0.2791\n",
      "Epoch 11/100\n",
      "50000/50000 [==============================] - 17s 349us/sample - loss: 1.8796 - accuracy: 0.2898 - val_loss: 1.8951 - val_accuracy: 0.2792\n",
      "Epoch 12/100\n",
      "50000/50000 [==============================] - 17s 342us/sample - loss: 1.8467 - accuracy: 0.3060 - val_loss: 1.8287 - val_accuracy: 0.3003\n",
      "Epoch 13/100\n",
      "50000/50000 [==============================] - 17s 349us/sample - loss: 1.8165 - accuracy: 0.3244 - val_loss: 1.8325 - val_accuracy: 0.3259\n",
      "Epoch 14/100\n",
      "50000/50000 [==============================] - 17s 348us/sample - loss: 1.7813 - accuracy: 0.3395 - val_loss: 1.7946 - val_accuracy: 0.3358\n",
      "Epoch 15/100\n",
      "50000/50000 [==============================] - 17s 346us/sample - loss: 1.7594 - accuracy: 0.3511 - val_loss: 1.7564 - val_accuracy: 0.3449\n",
      "Epoch 16/100\n",
      "50000/50000 [==============================] - 17s 334us/sample - loss: 1.7242 - accuracy: 0.3660 - val_loss: 1.7116 - val_accuracy: 0.3630\n",
      "Epoch 17/100\n",
      "50000/50000 [==============================] - 17s 337us/sample - loss: 1.7007 - accuracy: 0.3765 - val_loss: 1.6864 - val_accuracy: 0.3731\n",
      "Epoch 18/100\n",
      "50000/50000 [==============================] - 17s 335us/sample - loss: 1.6781 - accuracy: 0.3869 - val_loss: 1.6701 - val_accuracy: 0.3871\n",
      "Epoch 19/100\n",
      "50000/50000 [==============================] - 17s 342us/sample - loss: 1.6544 - accuracy: 0.3956 - val_loss: 1.6759 - val_accuracy: 0.3856\n",
      "Epoch 20/100\n",
      "50000/50000 [==============================] - 17s 330us/sample - loss: 1.6347 - accuracy: 0.4059 - val_loss: 1.6421 - val_accuracy: 0.3959\n",
      "Epoch 21/100\n",
      "50000/50000 [==============================] - 17s 342us/sample - loss: 1.6176 - accuracy: 0.4129 - val_loss: 1.6393 - val_accuracy: 0.4030\n",
      "Epoch 22/100\n",
      "50000/50000 [==============================] - 17s 343us/sample - loss: 1.6045 - accuracy: 0.4204 - val_loss: 1.6213 - val_accuracy: 0.4078\n",
      "Epoch 23/100\n",
      "50000/50000 [==============================] - 17s 350us/sample - loss: 1.5941 - accuracy: 0.4245 - val_loss: 1.6223 - val_accuracy: 0.4108\n",
      "Epoch 24/100\n",
      "50000/50000 [==============================] - 17s 335us/sample - loss: 1.5849 - accuracy: 0.4296 - val_loss: 1.6191 - val_accuracy: 0.4147\n",
      "Epoch 25/100\n",
      "50000/50000 [==============================] - 17s 334us/sample - loss: 1.5776 - accuracy: 0.4326 - val_loss: 1.6100 - val_accuracy: 0.4153\n",
      "Epoch 26/100\n",
      "50000/50000 [==============================] - 17s 337us/sample - loss: 1.5715 - accuracy: 0.4352 - val_loss: 1.6066 - val_accuracy: 0.4171\n",
      "Epoch 27/100\n",
      "50000/50000 [==============================] - 18s 350us/sample - loss: 1.5676 - accuracy: 0.4361 - val_loss: 1.6065 - val_accuracy: 0.4158\n",
      "Epoch 28/100\n",
      "50000/50000 [==============================] - 17s 339us/sample - loss: 1.5636 - accuracy: 0.4378 - val_loss: 1.6041 - val_accuracy: 0.4206\n",
      "Epoch 29/100\n",
      "50000/50000 [==============================] - 17s 341us/sample - loss: 1.5601 - accuracy: 0.4394 - val_loss: 1.6038 - val_accuracy: 0.4228\n",
      "Epoch 30/100\n",
      "50000/50000 [==============================] - 17s 333us/sample - loss: 1.5579 - accuracy: 0.4393 - val_loss: 1.6019 - val_accuracy: 0.4196\n",
      "Epoch 31/100\n",
      "50000/50000 [==============================] - 18s 352us/sample - loss: 1.5560 - accuracy: 0.4403 - val_loss: 1.6015 - val_accuracy: 0.4203\n",
      "Epoch 32/100\n",
      "50000/50000 [==============================] - 17s 344us/sample - loss: 1.5543 - accuracy: 0.4405 - val_loss: 1.6004 - val_accuracy: 0.4214\n",
      "Epoch 33/100\n",
      "50000/50000 [==============================] - 17s 343us/sample - loss: 1.5534 - accuracy: 0.4409 - val_loss: 1.5996 - val_accuracy: 0.4222\n",
      "Epoch 34/100\n",
      "50000/50000 [==============================] - 17s 348us/sample - loss: 1.5521 - accuracy: 0.4418 - val_loss: 1.6007 - val_accuracy: 0.4209\n",
      "Epoch 35/100\n",
      "50000/50000 [==============================] - 17s 347us/sample - loss: 1.5514 - accuracy: 0.4423 - val_loss: 1.5998 - val_accuracy: 0.4215\n",
      "Epoch 36/100\n",
      "50000/50000 [==============================] - 17s 343us/sample - loss: 1.5508 - accuracy: 0.4420 - val_loss: 1.6002 - val_accuracy: 0.4212\n",
      "Epoch 37/100\n",
      "50000/50000 [==============================] - 17s 336us/sample - loss: 1.5503 - accuracy: 0.4422 - val_loss: 1.5999 - val_accuracy: 0.4220\n",
      "Epoch 38/100\n",
      "50000/50000 [==============================] - 17s 344us/sample - loss: 1.5499 - accuracy: 0.4428 - val_loss: 1.5997 - val_accuracy: 0.4227\n",
      "Epoch 39/100\n",
      "50000/50000 [==============================] - 17s 336us/sample - loss: 1.5495 - accuracy: 0.4422 - val_loss: 1.5997 - val_accuracy: 0.4228\n",
      "Epoch 40/100\n",
      "50000/50000 [==============================] - 17s 338us/sample - loss: 1.5493 - accuracy: 0.4428 - val_loss: 1.5994 - val_accuracy: 0.4214\n",
      "Epoch 41/100\n",
      "50000/50000 [==============================] - 17s 336us/sample - loss: 1.5490 - accuracy: 0.4427 - val_loss: 1.5994 - val_accuracy: 0.4215\n",
      "Epoch 42/100\n",
      "50000/50000 [==============================] - 17s 349us/sample - loss: 1.5488 - accuracy: 0.4428 - val_loss: 1.5995 - val_accuracy: 0.4215\n",
      "Epoch 43/100\n",
      "50000/50000 [==============================] - 17s 336us/sample - loss: 1.5487 - accuracy: 0.4431 - val_loss: 1.5994 - val_accuracy: 0.4217\n",
      "Epoch 44/100\n",
      "50000/50000 [==============================] - 17s 334us/sample - loss: 1.5486 - accuracy: 0.4429 - val_loss: 1.5993 - val_accuracy: 0.4214\n",
      "Epoch 45/100\n",
      "50000/50000 [==============================] - 17s 336us/sample - loss: 1.5485 - accuracy: 0.4426 - val_loss: 1.5993 - val_accuracy: 0.4214\n",
      "Epoch 46/100\n",
      "50000/50000 [==============================] - 17s 344us/sample - loss: 1.5484 - accuracy: 0.4428 - val_loss: 1.5993 - val_accuracy: 0.4217\n",
      "Epoch 47/100\n",
      "50000/50000 [==============================] - 17s 335us/sample - loss: 1.5484 - accuracy: 0.4428 - val_loss: 1.5993 - val_accuracy: 0.4214\n",
      "Epoch 48/100\n",
      "50000/50000 [==============================] - 17s 336us/sample - loss: 1.5483 - accuracy: 0.4428 - val_loss: 1.5993 - val_accuracy: 0.4215\n",
      "Epoch 49/100\n",
      "50000/50000 [==============================] - 17s 338us/sample - loss: 1.5483 - accuracy: 0.4426 - val_loss: 1.5993 - val_accuracy: 0.4213\n",
      "Epoch 50/100\n",
      "50000/50000 [==============================] - 17s 344us/sample - loss: 1.5483 - accuracy: 0.4426 - val_loss: 1.5993 - val_accuracy: 0.4215\n",
      "Epoch 51/100\n",
      "50000/50000 [==============================] - 17s 335us/sample - loss: 1.5482 - accuracy: 0.4428 - val_loss: 1.5993 - val_accuracy: 0.4214\n",
      "Epoch 52/100\n",
      "50000/50000 [==============================] - 17s 338us/sample - loss: 1.5482 - accuracy: 0.4425 - val_loss: 1.5993 - val_accuracy: 0.4213\n",
      "Epoch 53/100\n",
      "50000/50000 [==============================] - 17s 336us/sample - loss: 1.5482 - accuracy: 0.4426 - val_loss: 1.5993 - val_accuracy: 0.4213\n",
      "Epoch 54/100\n",
      "50000/50000 [==============================] - 17s 342us/sample - loss: 1.5482 - accuracy: 0.4426 - val_loss: 1.5993 - val_accuracy: 0.4214\n",
      "Epoch 55/100\n",
      "50000/50000 [==============================] - 17s 334us/sample - loss: 1.5482 - accuracy: 0.4425 - val_loss: 1.5993 - val_accuracy: 0.4214\n",
      "Epoch 56/100\n",
      "50000/50000 [==============================] - 17s 336us/sample - loss: 1.5482 - accuracy: 0.4425 - val_loss: 1.5993 - val_accuracy: 0.4214\n",
      "Epoch 57/100\n",
      "50000/50000 [==============================] - 17s 340us/sample - loss: 1.5482 - accuracy: 0.4426 - val_loss: 1.5993 - val_accuracy: 0.4214\n",
      "Epoch 58/100\n",
      "50000/50000 [==============================] - 17s 349us/sample - loss: 1.5482 - accuracy: 0.4426 - val_loss: 1.5993 - val_accuracy: 0.4214\n",
      "Epoch 59/100\n",
      "50000/50000 [==============================] - 17s 335us/sample - loss: 1.5482 - accuracy: 0.4425 - val_loss: 1.5993 - val_accuracy: 0.4214\n",
      "Epoch 60/100\n",
      "50000/50000 [==============================] - 17s 335us/sample - loss: 1.5482 - accuracy: 0.4426 - val_loss: 1.5993 - val_accuracy: 0.4214\n",
      "Epoch 61/100\n",
      "50000/50000 [==============================] - 17s 336us/sample - loss: 1.5482 - accuracy: 0.4426 - val_loss: 1.5993 - val_accuracy: 0.4214\n",
      "Epoch 62/100\n",
      "50000/50000 [==============================] - 17s 338us/sample - loss: 1.5482 - accuracy: 0.4425 - val_loss: 1.5993 - val_accuracy: 0.4214\n",
      "Epoch 63/100\n",
      "50000/50000 [==============================] - 17s 336us/sample - loss: 1.5482 - accuracy: 0.4425 - val_loss: 1.5993 - val_accuracy: 0.4214\n",
      "Epoch 64/100\n",
      "50000/50000 [==============================] - 17s 336us/sample - loss: 1.5482 - accuracy: 0.4426 - val_loss: 1.5993 - val_accuracy: 0.4214\n",
      "Epoch 65/100\n",
      "50000/50000 [==============================] - 17s 342us/sample - loss: 1.5482 - accuracy: 0.4425 - val_loss: 1.5993 - val_accuracy: 0.4214\n",
      "Epoch 66/100\n",
      "50000/50000 [==============================] - 17s 338us/sample - loss: 1.5482 - accuracy: 0.4425 - val_loss: 1.5993 - val_accuracy: 0.4214\n",
      "Epoch 67/100\n",
      "50000/50000 [==============================] - 17s 335us/sample - loss: 1.5482 - accuracy: 0.4425 - val_loss: 1.5993 - val_accuracy: 0.4214\n",
      "Epoch 68/100\n",
      "50000/50000 [==============================] - 17s 348us/sample - loss: 1.5482 - accuracy: 0.4425 - val_loss: 1.5993 - val_accuracy: 0.4214\n",
      "Epoch 69/100\n",
      "50000/50000 [==============================] - 17s 348us/sample - loss: 1.5482 - accuracy: 0.4425 - val_loss: 1.5993 - val_accuracy: 0.4214\n",
      "Epoch 70/100\n",
      "50000/50000 [==============================] - 17s 340us/sample - loss: 1.5482 - accuracy: 0.4425 - val_loss: 1.5993 - val_accuracy: 0.4214\n",
      "Epoch 71/100\n",
      "50000/50000 [==============================] - 17s 335us/sample - loss: 1.5482 - accuracy: 0.4425 - val_loss: 1.5993 - val_accuracy: 0.4214\n",
      "Epoch 72/100\n",
      "50000/50000 [==============================] - 17s 335us/sample - loss: 1.5482 - accuracy: 0.4425 - val_loss: 1.5993 - val_accuracy: 0.4214\n",
      "Epoch 73/100\n",
      "50000/50000 [==============================] - 18s 355us/sample - loss: 1.5482 - accuracy: 0.4425 - val_loss: 1.5993 - val_accuracy: 0.4214\n",
      "Epoch 74/100\n",
      "50000/50000 [==============================] - 17s 335us/sample - loss: 1.5482 - accuracy: 0.4425 - val_loss: 1.5993 - val_accuracy: 0.4214\n",
      "Epoch 75/100\n",
      "50000/50000 [==============================] - 17s 347us/sample - loss: 1.5482 - accuracy: 0.4425 - val_loss: 1.5993 - val_accuracy: 0.4214\n",
      "Epoch 76/100\n",
      "50000/50000 [==============================] - 17s 337us/sample - loss: 1.5482 - accuracy: 0.4425 - val_loss: 1.5993 - val_accuracy: 0.4214\n",
      "Epoch 77/100\n",
      "50000/50000 [==============================] - 17s 345us/sample - loss: 1.5482 - accuracy: 0.4425 - val_loss: 1.5993 - val_accuracy: 0.4214\n",
      "Epoch 78/100\n",
      "50000/50000 [==============================] - 17s 348us/sample - loss: 1.5482 - accuracy: 0.4425 - val_loss: 1.5993 - val_accuracy: 0.4214\n",
      "Epoch 79/100\n",
      "50000/50000 [==============================] - 17s 349us/sample - loss: 1.5482 - accuracy: 0.4425 - val_loss: 1.5993 - val_accuracy: 0.4214\n",
      "Epoch 80/100\n",
      "50000/50000 [==============================] - 17s 338us/sample - loss: 1.5482 - accuracy: 0.4425 - val_loss: 1.5993 - val_accuracy: 0.4214\n",
      "Epoch 81/100\n",
      "50000/50000 [==============================] - 17s 348us/sample - loss: 1.5482 - accuracy: 0.4425 - val_loss: 1.5993 - val_accuracy: 0.4214\n",
      "Epoch 82/100\n",
      "50000/50000 [==============================] - 17s 337us/sample - loss: 1.5482 - accuracy: 0.4425 - val_loss: 1.5993 - val_accuracy: 0.4214\n",
      "Epoch 83/100\n",
      "50000/50000 [==============================] - 17s 335us/sample - loss: 1.5482 - accuracy: 0.4425 - val_loss: 1.5993 - val_accuracy: 0.4214\n",
      "Epoch 84/100\n",
      "50000/50000 [==============================] - 17s 339us/sample - loss: 1.5482 - accuracy: 0.4425 - val_loss: 1.5993 - val_accuracy: 0.4214\n"
     ]
    }
   ],
   "source": [
    "exponential_decay_fn = exponential_decay(lr0=0.01, s=10)\n",
    "exp_schedule = tf.keras.callbacks.LearningRateScheduler(exponential_decay_fn)\n",
    "\n",
    "early_stopping = tf.keras.callbacks.EarlyStopping(patience=10)\n",
    "\n",
    "\n",
    "callbacks = [early_stopping,\n",
    "             exp_schedule]\n",
    "\n",
    "history = model.fit(x_train, y_train, \n",
    "                    validation_data=(x_test, y_test), \n",
    "                    epochs=100, batch_size=32, \n",
    "                    callbacks=callbacks)"
   ]
  },
  {
   "cell_type": "code",
   "execution_count": 10,
   "metadata": {},
   "outputs": [],
   "source": [
    "import pandas as pd\n",
    "import matplotlib.pyplot as plt\n"
   ]
  },
  {
   "cell_type": "code",
   "execution_count": 11,
   "metadata": {},
   "outputs": [
    {
     "data": {
      "image/png": "[encoded data removed]",
      "text/plain": [
       "<Figure size 576x360 with 1 Axes>"
      ]
     },
     "metadata": {
      "needs_background": "light"
     },
     "output_type": "display_data"
    }
   ],
   "source": [
    "pd.DataFrame(history.history).plot(figsize=(8, 5), grid=True)\n",
    "plt.gca().set_ylim(0, 1)\n",
    "plt.show();"
   ]
  },
  {
   "cell_type": "code",
   "execution_count": null,
   "metadata": {},
   "outputs": [],
   "source": []
  },
  {
   "cell_type": "code",
   "execution_count": null,
   "metadata": {},
   "outputs": [],
   "source": []
  }
 ],
 "metadata": {
  "kernelspec": {
   "display_name": "Python 3",
   "language": "python",
   "name": "python3"
  },
  "language_info": {
   "codemirror_mode": {
    "name": "ipython",
    "version": 3
   },
   "file_extension": ".py",
   "mimetype": "text/x-python",
   "name": "python",
   "nbconvert_exporter": "python",
   "pygments_lexer": "ipython3",
   "version": "3.8.5"
  }
 },
 "nbformat": 4,
 "nbformat_minor": 4
}
